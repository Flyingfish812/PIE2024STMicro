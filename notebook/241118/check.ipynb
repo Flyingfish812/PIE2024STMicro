{
 "cells": [
  {
   "cell_type": "code",
   "execution_count": null,
   "metadata": {},
   "outputs": [
    {
     "name": "stdout",
     "output_type": "stream",
     "text": [
      "数据中存在以下 MPN 和 MANUFACTURER 相同的重复行：\n",
      "              MPN MANUFACTURER  Maximum Input Offset Voltage  \\\n",
      "2660    PN-102660       MN-103                         0.002   \n",
      "2661    PN-102660      MN-1028                         0.002   \n",
      "3079    PN-103078      MN-1035                         0.005   \n",
      "3080    PN-103078      MN-1036                         0.005   \n",
      "3168    PN-103166      MN-1030                         0.005   \n",
      "...           ...          ...                           ...   \n",
      "9819    PN-109787      MN-1039                         0.010   \n",
      "11224  PN-1011192      MN-1019                         0.009   \n",
      "11225  PN-1011192      MN-1025                         0.009   \n",
      "17829  PN-1017799      MN-1030                         0.003   \n",
      "17830  PN-1017799      MN-1036                         0.003   \n",
      "\n",
      "       Maximum Single Supply Voltage  Minimum Single Supply Voltage  \\\n",
      "2660                       16.000000                       2.000000   \n",
      "2661                       17.134382                       3.047451   \n",
      "3079                       32.000000                       3.047451   \n",
      "3080                       32.000000                       3.000000   \n",
      "3168                       30.000000                       3.000000   \n",
      "...                              ...                            ...   \n",
      "9819                       36.000000                       3.000000   \n",
      "11224                      15.000000                       2.200000   \n",
      "11225                      15.000000                       2.200000   \n",
      "17829                      30.000000                       3.000000   \n",
      "17830                      30.000000                       3.000000   \n",
      "\n",
      "       Number of Channels per Chip Supplier_Package  \\\n",
      "2660                             2            TO-99   \n",
      "2661                             2        Metal Can   \n",
      "3079                             4             CDIP   \n",
      "3080                             4             SOIC   \n",
      "3168                             4             SOIC   \n",
      "...                            ...              ...   \n",
      "9819                             4           SOIC N   \n",
      "11224                            2             MSOP   \n",
      "11225                            2             MSOP   \n",
      "17829                            4               SO   \n",
      "17830                            4             SOIC   \n",
      "\n",
      "       Typical Gain Bandwidth Product  \n",
      "2660                         480000.0  \n",
      "2661                         480000.0  \n",
      "3079                        1000000.0  \n",
      "3080                        1200000.0  \n",
      "3168                        1300000.0  \n",
      "...                               ...  \n",
      "9819                        1000000.0  \n",
      "11224                        465000.0  \n",
      "11225                        465000.0  \n",
      "17829                        900000.0  \n",
      "17830                        900000.0  \n",
      "\n",
      "[70 rows x 8 columns]\n",
      "总共有 70 行重复记录。\n",
      "结论：MPN 和 MANUFACTURER 无法唯一标识一个元件，请检查这些重复记录。\n"
     ]
    }
   ],
   "source": [
    "import pandas as pd\n",
    "\n",
    "# 加载 opamps-features.csv 数据\n",
    "features_file = \"opamps-features.csv\"  \n",
    "features_data = pd.read_csv(features_file)\n",
    "\n",
    "# 检查是否存在 MPN 和 MANUFACTURER 组合的重复行\n",
    "duplicates = features_data.duplicated(subset=[\"MPN\", \"MANUFACTURER\"], keep=False)\n",
    "\n",
    "# 提取重复的行\n",
    "duplicate_rows = features_data[duplicates]\n",
    "\n",
    "# 输出结果\n",
    "if duplicate_rows.empty:\n",
    "    print(\"数据中不存在 MPN 和 MANUFACTURER 完全相同的重复行。\")\n",
    "    print(\"结论：MPN 和 MANUFACTURER 可以唯一标识一个元件。\")\n",
    "else:\n",
    "    print(\"数据中存在以下 MPN 和 MANUFACTURER 相同的重复行：\")\n",
    "    print(duplicate_rows)\n",
    "    print(f\"总共有 {len(duplicate_rows)} 行重复记录。\")\n",
    "    print(\"结论：MPN 和 MANUFACTURER 无法唯一标识一个元件，请检查这些重复记录。\")\n"
   ]
  },
  {
   "cell_type": "code",
   "execution_count": null,
   "metadata": {},
   "outputs": [
    {
     "name": "stdout",
     "output_type": "stream",
     "text": [
      "数据中不存在 STMicro MPN、STMicro Name、Competitor MPN、Competitor Name 都相同的重复行。\n",
      "结论：这四个字段可以唯一标识一行数据。\n"
     ]
    }
   ],
   "source": [
    "import pandas as pd\n",
    "\n",
    "# 加载 opamps-xref.csv 数据\n",
    "xref_file = \"opamps-xref.csv\"  \n",
    "xref_data = pd.read_csv(xref_file)\n",
    "\n",
    "# 检查是否存在 STMicro MPN、STMicro Name、Competitor MPN、Competitor Name 都相同的重复行\n",
    "duplicates = xref_data.duplicated(\n",
    "    subset=[\"STMicro MPN\", \"STMicro Name\", \"Competitor MPN\", \"Competitor Name\"], \n",
    "    keep=False\n",
    ")\n",
    "\n",
    "# 提取重复的行\n",
    "duplicate_rows = xref_data[duplicates]\n",
    "\n",
    "# 输出结果\n",
    "if duplicate_rows.empty:\n",
    "    print(\"数据中不存在 STMicro MPN、STMicro Name、Competitor MPN、Competitor Name 都相同的重复行。\")\n",
    "    print(\"结论：这四个字段可以唯一标识一行数据。\")\n",
    "else:\n",
    "    print(\"数据中存在以下 STMicro MPN、STMicro Name、Competitor MPN、Competitor Name 都相同的重复行：\")\n",
    "    print(duplicate_rows)\n",
    "    print(f\"总共有 {len(duplicate_rows)} 行重复记录。\")\n",
    "    print(\"结论：这四个字段无法唯一标识一行数据，请检查这些重复记录。\")"
   ]
  }
 ],
 "metadata": {
  "kernelspec": {
   "display_name": "Python 3",
   "language": "python",
   "name": "python3"
  },
  "language_info": {
   "codemirror_mode": {
    "name": "ipython",
    "version": 3
   },
   "file_extension": ".py",
   "mimetype": "text/x-python",
   "name": "python",
   "nbconvert_exporter": "python",
   "pygments_lexer": "ipython3",
   "version": "3.12.0"
  }
 },
 "nbformat": 4,
 "nbformat_minor": 2
}
