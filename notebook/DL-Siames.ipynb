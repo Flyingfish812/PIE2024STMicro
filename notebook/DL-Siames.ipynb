{
 "cells": [
  {
   "cell_type": "code",
   "execution_count": 1,
   "metadata": {},
   "outputs": [],
   "source": [
    "import pandas as pd\n",
    "import numpy as np\n",
    "import matplotlib.pyplot as plt\n",
    "import seaborn as sns\n",
    "from sklearn.preprocessing import MinMaxScaler\n",
    "import pickle"
   ]
  },
  {
   "cell_type": "code",
   "execution_count": 2,
   "metadata": {},
   "outputs": [],
   "source": [
    "df_feat = pd.read_csv('../encoded data/opamps-features.csv')\n",
    "df_ref = pd.read_csv('../encoded data/opamps-xref.csv')"
   ]
  },
  {
   "cell_type": "code",
   "execution_count": 3,
   "metadata": {},
   "outputs": [
    {
     "data": {
      "text/html": [
       "<div>\n",
       "<style scoped>\n",
       "    .dataframe tbody tr th:only-of-type {\n",
       "        vertical-align: middle;\n",
       "    }\n",
       "\n",
       "    .dataframe tbody tr th {\n",
       "        vertical-align: top;\n",
       "    }\n",
       "\n",
       "    .dataframe thead th {\n",
       "        text-align: right;\n",
       "    }\n",
       "</style>\n",
       "<table border=\"1\" class=\"dataframe\">\n",
       "  <thead>\n",
       "    <tr style=\"text-align: right;\">\n",
       "      <th></th>\n",
       "      <th>Cross Reference Type</th>\n",
       "      <th>MPN</th>\n",
       "      <th>MANUFACTURER</th>\n",
       "      <th>Maximum Input Offset Voltage</th>\n",
       "      <th>Maximum Single Supply Voltage</th>\n",
       "      <th>Minimum Single Supply Voltage</th>\n",
       "      <th>Number of Channels per Chip</th>\n",
       "      <th>Supplier_Package</th>\n",
       "      <th>Typical Gain Bandwidth Product</th>\n",
       "      <th>MPN_comp</th>\n",
       "      <th>MANUFACTURER_comp</th>\n",
       "      <th>Maximum Input Offset Voltage_comp</th>\n",
       "      <th>Maximum Single Supply Voltage_comp</th>\n",
       "      <th>Minimum Single Supply Voltage_comp</th>\n",
       "      <th>Number of Channels per Chip_comp</th>\n",
       "      <th>Supplier_Package_comp</th>\n",
       "      <th>Typical Gain Bandwidth Product_comp</th>\n",
       "    </tr>\n",
       "  </thead>\n",
       "  <tbody>\n",
       "    <tr>\n",
       "      <th>0</th>\n",
       "      <td>A</td>\n",
       "      <td>PN-1017594</td>\n",
       "      <td>MN-1030</td>\n",
       "      <td>0.002</td>\n",
       "      <td>30.0</td>\n",
       "      <td>3.0</td>\n",
       "      <td>1.0</td>\n",
       "      <td>SOT-23</td>\n",
       "      <td>800000.0</td>\n",
       "      <td>PN-1017599</td>\n",
       "      <td>MN-1036</td>\n",
       "      <td>0.004</td>\n",
       "      <td>30.0</td>\n",
       "      <td>3.0</td>\n",
       "      <td>1.0</td>\n",
       "      <td>SOT-23</td>\n",
       "      <td>800000.0</td>\n",
       "    </tr>\n",
       "    <tr>\n",
       "      <th>1</th>\n",
       "      <td>A</td>\n",
       "      <td>PN-1017602</td>\n",
       "      <td>MN-1030</td>\n",
       "      <td>0.004</td>\n",
       "      <td>30.0</td>\n",
       "      <td>3.0</td>\n",
       "      <td>1.0</td>\n",
       "      <td>SOT-23</td>\n",
       "      <td>800000.0</td>\n",
       "      <td>PN-1017598</td>\n",
       "      <td>MN-1036</td>\n",
       "      <td>0.004</td>\n",
       "      <td>30.0</td>\n",
       "      <td>3.0</td>\n",
       "      <td>1.0</td>\n",
       "      <td>SOT-23</td>\n",
       "      <td>800000.0</td>\n",
       "    </tr>\n",
       "    <tr>\n",
       "      <th>2</th>\n",
       "      <td>A</td>\n",
       "      <td>PN-1017602</td>\n",
       "      <td>MN-1030</td>\n",
       "      <td>0.004</td>\n",
       "      <td>30.0</td>\n",
       "      <td>3.0</td>\n",
       "      <td>1.0</td>\n",
       "      <td>SOT-23</td>\n",
       "      <td>800000.0</td>\n",
       "      <td>PN-1017597</td>\n",
       "      <td>MN-1036</td>\n",
       "      <td>0.004</td>\n",
       "      <td>30.0</td>\n",
       "      <td>3.0</td>\n",
       "      <td>1.0</td>\n",
       "      <td>SOT-23</td>\n",
       "      <td>800000.0</td>\n",
       "    </tr>\n",
       "    <tr>\n",
       "      <th>3</th>\n",
       "      <td>A</td>\n",
       "      <td>PN-1017594</td>\n",
       "      <td>MN-1030</td>\n",
       "      <td>0.002</td>\n",
       "      <td>30.0</td>\n",
       "      <td>3.0</td>\n",
       "      <td>1.0</td>\n",
       "      <td>SOT-23</td>\n",
       "      <td>800000.0</td>\n",
       "      <td>PN-1017598</td>\n",
       "      <td>MN-1036</td>\n",
       "      <td>0.004</td>\n",
       "      <td>30.0</td>\n",
       "      <td>3.0</td>\n",
       "      <td>1.0</td>\n",
       "      <td>SOT-23</td>\n",
       "      <td>800000.0</td>\n",
       "    </tr>\n",
       "    <tr>\n",
       "      <th>4</th>\n",
       "      <td>A</td>\n",
       "      <td>PN-1017602</td>\n",
       "      <td>MN-1030</td>\n",
       "      <td>0.004</td>\n",
       "      <td>30.0</td>\n",
       "      <td>3.0</td>\n",
       "      <td>1.0</td>\n",
       "      <td>SOT-23</td>\n",
       "      <td>800000.0</td>\n",
       "      <td>PN-1017599</td>\n",
       "      <td>MN-1036</td>\n",
       "      <td>0.004</td>\n",
       "      <td>30.0</td>\n",
       "      <td>3.0</td>\n",
       "      <td>1.0</td>\n",
       "      <td>SOT-23</td>\n",
       "      <td>800000.0</td>\n",
       "    </tr>\n",
       "  </tbody>\n",
       "</table>\n",
       "</div>"
      ],
      "text/plain": [
       "  Cross Reference Type         MPN MANUFACTURER  Maximum Input Offset Voltage  \\\n",
       "0                    A  PN-1017594      MN-1030                         0.002   \n",
       "1                    A  PN-1017602      MN-1030                         0.004   \n",
       "2                    A  PN-1017602      MN-1030                         0.004   \n",
       "3                    A  PN-1017594      MN-1030                         0.002   \n",
       "4                    A  PN-1017602      MN-1030                         0.004   \n",
       "\n",
       "   Maximum Single Supply Voltage  Minimum Single Supply Voltage  \\\n",
       "0                           30.0                            3.0   \n",
       "1                           30.0                            3.0   \n",
       "2                           30.0                            3.0   \n",
       "3                           30.0                            3.0   \n",
       "4                           30.0                            3.0   \n",
       "\n",
       "   Number of Channels per Chip Supplier_Package  \\\n",
       "0                          1.0           SOT-23   \n",
       "1                          1.0           SOT-23   \n",
       "2                          1.0           SOT-23   \n",
       "3                          1.0           SOT-23   \n",
       "4                          1.0           SOT-23   \n",
       "\n",
       "   Typical Gain Bandwidth Product    MPN_comp MANUFACTURER_comp  \\\n",
       "0                        800000.0  PN-1017599           MN-1036   \n",
       "1                        800000.0  PN-1017598           MN-1036   \n",
       "2                        800000.0  PN-1017597           MN-1036   \n",
       "3                        800000.0  PN-1017598           MN-1036   \n",
       "4                        800000.0  PN-1017599           MN-1036   \n",
       "\n",
       "   Maximum Input Offset Voltage_comp  Maximum Single Supply Voltage_comp  \\\n",
       "0                              0.004                                30.0   \n",
       "1                              0.004                                30.0   \n",
       "2                              0.004                                30.0   \n",
       "3                              0.004                                30.0   \n",
       "4                              0.004                                30.0   \n",
       "\n",
       "   Minimum Single Supply Voltage_comp  Number of Channels per Chip_comp  \\\n",
       "0                                 3.0                               1.0   \n",
       "1                                 3.0                               1.0   \n",
       "2                                 3.0                               1.0   \n",
       "3                                 3.0                               1.0   \n",
       "4                                 3.0                               1.0   \n",
       "\n",
       "  Supplier_Package_comp  Typical Gain Bandwidth Product_comp  \n",
       "0                SOT-23                             800000.0  \n",
       "1                SOT-23                             800000.0  \n",
       "2                SOT-23                             800000.0  \n",
       "3                SOT-23                             800000.0  \n",
       "4                SOT-23                             800000.0  "
      ]
     },
     "execution_count": 3,
     "metadata": {},
     "output_type": "execute_result"
    }
   ],
   "source": [
    "df_stm = df_ref.merge(df_feat , left_on=[\"STMicro MPN\",\"STMicro Name\"], right_on=[\"MPN\",\t\"MANUFACTURER\"\t])\n",
    "df_merged = df_stm.merge(df_feat , left_on=[\"Competitor MPN\",\"Competitor Name\"], right_on=[\"MPN\",\t\"MANUFACTURER\"\t], suffixes = (\"\",\"_comp\") )\n",
    "df_merged.drop(columns=[\"STMicro MPN\",\"STMicro Name\", \"Competitor MPN\",\"Competitor Name\"],inplace = True)\n",
    "df_merged.head()"
   ]
  },
  {
   "cell_type": "code",
   "execution_count": 5,
   "metadata": {},
   "outputs": [
    {
     "data": {
      "text/plain": [
       "Cross Reference Type\n",
       "A    18352\n",
       "Name: count, dtype: int64"
      ]
     },
     "execution_count": 5,
     "metadata": {},
     "output_type": "execute_result"
    }
   ],
   "source": [
    "test  = df_feat.merge(df_feat, on=[\"MPN\",\t\"MANUFACTURER\"],suffixes = (\"\",\"_comp\"))\n",
    "test[\"MPN_comp\"]= test[\"MPN\"]\n",
    "test[\"MANUFACTURER_comp\"]= test[\"MANUFACTURER\"]\n",
    "test[\"Cross Reference Type\"] = \"A\"\n",
    "test = test.reindex(['Cross Reference Type', 'MPN', 'MANUFACTURER',\n",
    "       'Maximum Input Offset Voltage', 'Maximum Single Supply Voltage',\n",
    "       'Minimum Single Supply Voltage', 'Number of Channels per Chip',\n",
    "       'Supplier_Package', 'Typical Gain Bandwidth Product', 'MPN_comp',\n",
    "       'MANUFACTURER_comp', 'Maximum Input Offset Voltage_comp',\n",
    "       'Maximum Single Supply Voltage_comp',\n",
    "       'Minimum Single Supply Voltage_comp',\n",
    "       'Number of Channels per Chip_comp', 'Supplier_Package_comp',\n",
    "       'Typical Gain Bandwidth Product_comp'],axis=1)\n",
    "test['Cross Reference Type'].value_counts()"
   ]
  },
  {
   "cell_type": "code",
   "execution_count": 6,
   "metadata": {},
   "outputs": [
    {
     "data": {
      "text/plain": [
       "Cross Reference Type\n",
       "D              808455\n",
       "C              158650\n",
       "B               36764\n",
       "A               18360\n",
       "C/Upgrade         465\n",
       "C/Downgrade       336\n",
       "B/Downgrade       114\n",
       "B/Upgrade          48\n",
       "SF                  7\n",
       "Name: count, dtype: int64"
      ]
     },
     "execution_count": 6,
     "metadata": {},
     "output_type": "execute_result"
    }
   ],
   "source": [
    "df_merged = pd.concat([df_merged,test])\n",
    "df_merged[\"Cross Reference Type\"].value_counts()"
   ]
  },
  {
   "cell_type": "code",
   "execution_count": 7,
   "metadata": {},
   "outputs": [],
   "source": [
    "df_merged[\"Cross Reference Type\"] = df_merged[\"Cross Reference Type\"].replace(\"B/Downgrade\",\"B\")\n",
    "df_merged[\"Cross Reference Type\"] = df_merged[\"Cross Reference Type\"].replace(\"B/Upgrade\",\"B\")\n",
    "df_merged[\"Cross Reference Type\"] = df_merged[\"Cross Reference Type\"].replace(\"C/Downgrade\",\"C\")\n",
    "df_merged[\"Cross Reference Type\"] = df_merged[\"Cross Reference Type\"].replace(\"C/Upgrade\",\"C\")"
   ]
  },
  {
   "cell_type": "code",
   "execution_count": 8,
   "metadata": {},
   "outputs": [
    {
     "data": {
      "text/plain": [
       "Cross Reference Type\n",
       "D    808455\n",
       "C    159451\n",
       "B     36926\n",
       "A     18360\n",
       "Name: count, dtype: int64"
      ]
     },
     "execution_count": 8,
     "metadata": {},
     "output_type": "execute_result"
    }
   ],
   "source": [
    "df_merged[\"Cross Reference Type\"].value_counts()\n",
    "df_filtered = df_merged[~df_merged[\"Cross Reference Type\"].isin([\"SF\"])] # à rectifier avec l'equipe de données\n",
    "df_filtered[\"Cross Reference Type\"].value_counts()"
   ]
  },
  {
   "cell_type": "code",
   "execution_count": 10,
   "metadata": {},
   "outputs": [
    {
     "data": {
      "image/png": "[encoded data removed]",
      "text/plain": [
       "<Figure size 640x480 with 1 Axes>"
      ]
     },
     "metadata": {},
     "output_type": "display_data"
    }
   ],
   "source": [
    "sns.countplot(df_filtered, x=\"Cross Reference Type\")\n",
    "plt.show()"
   ]
  },
  {
   "cell_type": "code",
   "execution_count": 12,
   "metadata": {},
   "outputs": [
    {
     "name": "stderr",
     "output_type": "stream",
     "text": [
      "C:\\Users\\adamg\\AppData\\Local\\Temp\\ipykernel_33456\\2468981313.py:30: SettingWithCopyWarning: \n",
      "A value is trying to be set on a copy of a slice from a DataFrame.\n",
      "Try using .loc[row_indexer,col_indexer] = value instead\n",
      "\n",
      "See the caveats in the documentation: https://pandas.pydata.org/pandas-docs/stable/user_guide/indexing.html#returning-a-view-versus-a-copy\n",
      "  df_filtered[\"Mean\"] , df_filtered[\"Std\"] = zip(*df_filtered[\"Cross Reference Type\"].map(get_params))\n",
      "C:\\Users\\adamg\\AppData\\Local\\Temp\\ipykernel_33456\\2468981313.py:30: SettingWithCopyWarning: \n",
      "A value is trying to be set on a copy of a slice from a DataFrame.\n",
      "Try using .loc[row_indexer,col_indexer] = value instead\n",
      "\n",
      "See the caveats in the documentation: https://pandas.pydata.org/pandas-docs/stable/user_guide/indexing.html#returning-a-view-versus-a-copy\n",
      "  df_filtered[\"Mean\"] , df_filtered[\"Std\"] = zip(*df_filtered[\"Cross Reference Type\"].map(get_params))\n",
      "C:\\Users\\adamg\\AppData\\Local\\Temp\\ipykernel_33456\\2468981313.py:31: SettingWithCopyWarning: \n",
      "A value is trying to be set on a copy of a slice from a DataFrame.\n",
      "Try using .loc[row_indexer,col_indexer] = value instead\n",
      "\n",
      "See the caveats in the documentation: https://pandas.pydata.org/pandas-docs/stable/user_guide/indexing.html#returning-a-view-versus-a-copy\n",
      "  df_filtered['Closeness'] = df_filtered.apply(lambda row: norm.rvs(loc=row['Mean'], scale=row['Std']), axis=1)\n",
      "C:\\Users\\adamg\\AppData\\Local\\Temp\\ipykernel_33456\\2468981313.py:32: SettingWithCopyWarning: \n",
      "A value is trying to be set on a copy of a slice from a DataFrame.\n",
      "Try using .loc[row_indexer,col_indexer] = value instead\n",
      "\n",
      "See the caveats in the documentation: https://pandas.pydata.org/pandas-docs/stable/user_guide/indexing.html#returning-a-view-versus-a-copy\n",
      "  df_filtered['Closeness'] = df_filtered['Closeness'].clip(0, 1)\n"
     ]
    }
   ],
   "source": [
    "\n",
    "from scipy.stats import norm\n",
    "base_means = {\n",
    "    'A': 0.96,\n",
    "    'B': 0.84,\n",
    "   # 'C': 0.71,\n",
    "   'C': 0.65,\n",
    "    #'D':0.59 # 0.55, 0.65\n",
    "    'D':0.5\n",
    "}\n",
    "base_std={\n",
    "    'A': 0.0107,\n",
    "    'B': 0.0249,\n",
    "    'C': 0.01779,\n",
    "    'D': 0.01779\n",
    "}\n",
    "interval= {\n",
    "    \"A\":(0.93,1),\n",
    "    \"B\": (0.77,0.92),\n",
    "    #\"C\":(0.66,0.76),\n",
    "    \"C\":(0.60,0.71),\n",
    "    #\"D\":(0.55,0.65)\n",
    "    \"D\":(0.44,0.56)\n",
    "}\n",
    "def get_params(category):\n",
    "    parts = category.split('/')\n",
    "    \n",
    "    mean = base_means.get(parts[0], 0.0)\n",
    "    std = base_std.get(parts[0], 0.0)\n",
    "    return mean, std\n",
    "df_filtered[\"Mean\"] , df_filtered[\"Std\"] = zip(*df_filtered[\"Cross Reference Type\"].map(get_params))\n",
    "df_filtered['Closeness'] = df_filtered.apply(lambda row: norm.rvs(loc=row['Mean'], scale=row['Std']), axis=1)\n",
    "df_filtered['Closeness'] = df_filtered['Closeness'].clip(0, 1)\n",
    "for classe in interval:\n",
    "    df_filtered.loc[df_filtered[\"Cross Reference Type\"]==classe, \"Closeness\"] = df_filtered.loc[df_filtered[\"Cross Reference Type\"]==classe, \"Closeness\"].clip(*interval[classe])\n"
   ]
  },
  {
   "cell_type": "code",
   "execution_count": 13,
   "metadata": {},
   "outputs": [
    {
     "data": {
      "text/plain": [
       "<Axes: xlabel='Closeness', ylabel='Density'>"
      ]
     },
     "execution_count": 13,
     "metadata": {},
     "output_type": "execute_result"
    },
    {
     "data": {
      "image/png": "[encoded data removed]",
      "text/plain": [
       "<Figure size 640x480 with 1 Axes>"
      ]
     },
     "metadata": {},
     "output_type": "display_data"
    }
   ],
   "source": [
    "sns.kdeplot(data=df_filtered, x='Closeness', hue='Cross Reference Type', fill=True, common_norm=False)\n"
   ]
  },
  {
   "cell_type": "code",
   "execution_count": 22,
   "metadata": {},
   "outputs": [
    {
     "name": "stdout",
     "output_type": "stream",
     "text": [
      "<class 'pandas.core.frame.DataFrame'>\n",
      "Index: 1023192 entries, 0 to 18351\n",
      "Data columns (total 20 columns):\n",
      " #   Column                               Non-Null Count    Dtype  \n",
      "---  ------                               --------------    -----  \n",
      " 0   Cross Reference Type                 1023192 non-null  object \n",
      " 1   MPN                                  1023192 non-null  object \n",
      " 2   MANUFACTURER                         1023192 non-null  object \n",
      " 3   Maximum Input Offset Voltage         1023192 non-null  float64\n",
      " 4   Maximum Single Supply Voltage        1023192 non-null  float64\n",
      " 5   Minimum Single Supply Voltage        1023192 non-null  float64\n",
      " 6   Number of Channels per Chip          1023192 non-null  float64\n",
      " 7   Supplier_Package                     1023192 non-null  object \n",
      " 8   Typical Gain Bandwidth Product       1023192 non-null  float64\n",
      " 9   MPN_comp                             1023192 non-null  object \n",
      " 10  MANUFACTURER_comp                    1023192 non-null  object \n",
      " 11  Maximum Input Offset Voltage_comp    1023192 non-null  float64\n",
      " 12  Maximum Single Supply Voltage_comp   1023192 non-null  float64\n",
      " 13  Minimum Single Supply Voltage_comp   1023192 non-null  float64\n",
      " 14  Number of Channels per Chip_comp     1023192 non-null  float64\n",
      " 15  Supplier_Package_comp                1023192 non-null  object \n",
      " 16  Typical Gain Bandwidth Product_comp  1023192 non-null  float64\n",
      " 17  Mean                                 1023192 non-null  float64\n",
      " 18  Std                                  1023192 non-null  float64\n",
      " 19  Closeness                            1023192 non-null  float64\n",
      "dtypes: float64(13), object(7)\n",
      "memory usage: 163.9+ MB\n"
     ]
    }
   ],
   "source": [
    "df_filtered.info()"
   ]
  },
  {
   "cell_type": "code",
   "execution_count": 16,
   "metadata": {},
   "outputs": [
    {
     "data": {
      "text/plain": [
       "Index(['Cross Reference Type', 'MPN', 'MANUFACTURER',\n",
       "       'Maximum Input Offset Voltage', 'Maximum Single Supply Voltage',\n",
       "       'Minimum Single Supply Voltage', 'Number of Channels per Chip',\n",
       "       'Supplier_Package', 'Typical Gain Bandwidth Product', 'MPN_comp',\n",
       "       'MANUFACTURER_comp', 'Maximum Input Offset Voltage_comp',\n",
       "       'Maximum Single Supply Voltage_comp',\n",
       "       'Minimum Single Supply Voltage_comp',\n",
       "       'Number of Channels per Chip_comp', 'Supplier_Package_comp',\n",
       "       'Typical Gain Bandwidth Product_comp', 'Mean', 'Std', 'Closeness'],\n",
       "      dtype='object')"
      ]
     },
     "execution_count": 16,
     "metadata": {},
     "output_type": "execute_result"
    }
   ],
   "source": [
    "df_filtered.columns"
   ]
  },
  {
   "cell_type": "code",
   "execution_count": 28,
   "metadata": {},
   "outputs": [],
   "source": [
    "import torch\n",
    "import torch.nn as nn\n",
    "import torch.optim as optim\n",
    "import torch.nn.functional as F\n",
    "from torch.utils.data import DataLoader, Dataset\n",
    "from sklearn.preprocessing import LabelEncoder\n"
   ]
  },
  {
   "cell_type": "code",
   "execution_count": 29,
   "metadata": {},
   "outputs": [],
   "source": [
    "class CustomVectorDataset(Dataset):\n",
    "    def __init__(self, dataframe, vector1_columns, vector2_columns, target_column, categorical_columns=[]):\n",
    "        \"\"\"\n",
    "        Args:\n",
    "            dataframe (pd.DataFrame): The DataFrame containing the data.\n",
    "            vector1_columns (list): List of column names for the first vector.\n",
    "            vector2_columns (list): List of column names for the second vector.\n",
    "            target_column (str): The column name for the target value.\n",
    "            categorical_columns (list): List of column names that are categorical.\n",
    "        \"\"\"\n",
    "        self.dataframe = dataframe.copy()\n",
    "        self.vector1_columns = vector1_columns\n",
    "        self.vector2_columns = vector2_columns\n",
    "        self.target_column = target_column\n",
    "        self.categorical_columns = categorical_columns\n",
    "        \n",
    "        # Label encode categorical columns\n",
    "        self.label_encoders = {}\n",
    "        for col in self.categorical_columns:\n",
    "            le = LabelEncoder()\n",
    "            self.dataframe[col] = le.fit_transform(self.dataframe[col])\n",
    "            self.label_encoders[col] = le\n",
    "        \n",
    "        # Convert columns to tensors\n",
    "        self.vector1 = torch.tensor(self.dataframe[vector1_columns].values, dtype=torch.float32)\n",
    "        self.vector2 = torch.tensor(self.dataframe[vector2_columns].values, dtype=torch.float32)\n",
    "        self.target = torch.tensor(self.dataframe[target_column].values, dtype=torch.float32).unsqueeze(1)\n",
    "    \n",
    "    def __len__(self):\n",
    "        return len(self.dataframe)\n",
    "    \n",
    "    def __getitem__(self, idx):\n",
    "        vector1 = self.vector1[idx]\n",
    "        vector2 = self.vector2[idx]\n",
    "        target = self.target[idx]\n",
    "        return vector1, vector2, target"
   ]
  },
  {
   "cell_type": "code",
   "execution_count": 30,
   "metadata": {},
   "outputs": [],
   "source": [
    "columns_1 = ['MPN', 'MANUFACTURER',\n",
    "       'Maximum Input Offset Voltage', 'Maximum Single Supply Voltage',\n",
    "       'Minimum Single Supply Voltage', 'Number of Channels per Chip',\n",
    "       'Supplier_Package', 'Typical Gain Bandwidth Product']\n",
    "columns_2 = ['MPN_comp',\n",
    "       'MANUFACTURER_comp', 'Maximum Input Offset Voltage_comp',\n",
    "       'Maximum Single Supply Voltage_comp',\n",
    "       'Minimum Single Supply Voltage_comp',\n",
    "       'Number of Channels per Chip_comp', 'Supplier_Package_comp',\n",
    "       'Typical Gain Bandwidth Product_comp']\n",
    "categorical_columns=['MPN', 'MANUFACTURER','Supplier_Package','MPN_comp',\n",
    "       'MANUFACTURER_comp','Supplier_Package_comp']"
   ]
  },
  {
   "cell_type": "code",
   "execution_count": 59,
   "metadata": {},
   "outputs": [],
   "source": [
    "torch.manual_seed(42)\n",
    "dataset_train = CustomVectorDataset(df_filtered,columns_1,columns_2, 'Closeness',categorical_columns=categorical_columns)\n",
    "dataloader = DataLoader(dataset_train, batch_size=1, shuffle=True)"
   ]
  },
  {
   "cell_type": "code",
   "execution_count": 60,
   "metadata": {},
   "outputs": [],
   "source": [
    "vec1,vec2,target = next(iter(dataloader))"
   ]
  },
  {
   "cell_type": "code",
   "execution_count": 61,
   "metadata": {},
   "outputs": [
    {
     "data": {
      "text/plain": [
       "tensor([[8.7980e+03, 2.4000e+01, 8.0000e-04, 5.5000e+00, 1.5000e+00, 2.0000e+00,\n",
       "         7.1000e+01, 8.8000e+05]])"
      ]
     },
     "execution_count": 61,
     "metadata": {},
     "output_type": "execute_result"
    }
   ],
   "source": [
    "vec1"
   ]
  },
  {
   "cell_type": "code",
   "execution_count": 62,
   "metadata": {},
   "outputs": [
    {
     "data": {
      "text/plain": [
       "tensor([[1.6760e+04, 2.3000e+01, 6.5000e-04, 6.0000e+00, 2.8000e+00, 2.0000e+00,\n",
       "         1.4000e+01, 5.0000e+07]])"
      ]
     },
     "execution_count": 62,
     "metadata": {},
     "output_type": "execute_result"
    }
   ],
   "source": [
    "vec2"
   ]
  },
  {
   "cell_type": "code",
   "execution_count": 63,
   "metadata": {},
   "outputs": [
    {
     "data": {
      "text/plain": [
       "tensor([[0.5040]])"
      ]
     },
     "execution_count": 63,
     "metadata": {},
     "output_type": "execute_result"
    }
   ],
   "source": [
    "target"
   ]
  },
  {
   "cell_type": "code",
   "execution_count": 65,
   "metadata": {},
   "outputs": [],
   "source": [
    "\n",
    "class SiameseNetwork(nn.Module):\n",
    "    def __init__(self, input_dim):\n",
    "        super(SiameseNetwork, self).__init__()\n",
    "        self.extract_features_1 = nn.Sequential(nn.Linear(input_dim, 64), nn.ReLU(), nn.Linear(64, 32), nn.ReLU(),nn.Linear(32, 16), nn.ReLU())\n",
    "        self.extract_features_2 = nn.Sequential(nn.Linear(input_dim, 64), nn.ReLU(), nn.Linear(64, 32), nn.ReLU(),nn.Linear(32, 16), nn.ReLU())\n",
    "        self.fc4 = nn.Sequential(nn.Linear(32, 16), nn.ReLU(), nn.Linear(16, 8), nn.ReLU(), nn.Linear(8, 1))\n",
    "        \n",
    "    def forward(self, input1, input2):\n",
    "        output1 = self.extract_features_1(input1)\n",
    "        output2 = self.extract_features_2(input2)\n",
    "        x = torch.cat((output1, output2), dim=1)\n",
    "        closeness = self.fc4(x)\n",
    "        return closeness\n",
    "\n"
   ]
  },
  {
   "cell_type": "code",
   "execution_count": 74,
   "metadata": {},
   "outputs": [
    {
     "data": {
      "text/plain": [
       "True"
      ]
     },
     "execution_count": 74,
     "metadata": {},
     "output_type": "execute_result"
    }
   ],
   "source": [
    "torch.cuda.is_available()"
   ]
  },
  {
   "cell_type": "code",
   "execution_count": 76,
   "metadata": {},
   "outputs": [
    {
     "name": "stdout",
     "output_type": "stream",
     "text": [
      "Using device: cuda\n"
     ]
    }
   ],
   "source": [
    "import torch\n",
    "\n",
    "device = torch.device('cuda' if torch.cuda.is_available() else 'cpu')\n",
    "print(f'Using device: {device}')"
   ]
  },
  {
   "cell_type": "code",
   "execution_count": null,
   "metadata": {},
   "outputs": [
    {
     "name": "stdout",
     "output_type": "stream",
     "text": [
      "0\n"
     ]
    }
   ],
   "source": [
    "# Initialize the model, loss function and optimizer\n",
    "input_dim = len(columns_1)  # Assuming both vectors have the same number of features\n",
    "model = SiameseNetwork(input_dim).to(device)\n",
    "criterion = nn.MSELoss().to(device)\n",
    "optimizer = optim.Adam(model.parameters(), lr=0.001)\n",
    "\n",
    "# Training loop\n",
    "num_epochs = 10\n",
    "for epoch in range(num_epochs):\n",
    "    model.train()\n",
    "    running_loss = 0.0\n",
    "    print(epoch)\n",
    "    for vec1, vec2, target in dataloader:\n",
    "        vec1, vec2, target = vec1.to(device), vec2.to(device), target.to(device)\n",
    "        optimizer.zero_grad()\n",
    "        output = model(vec1, vec2)\n",
    "        loss = criterion(output, target)\n",
    "        loss.backward()\n",
    "        optimizer.step()\n",
    "        running_loss += loss.item()\n",
    "        # print(loss.item())\n",
    "    print(f\"Epoch [{epoch+1}/{num_epochs}], Loss: {running_loss/len(dataloader):.4f}\")\n",
    "\n",
    "# Example of using the model for prediction\n",
    "model.eval()\n",
    "with torch.no_grad():\n",
    "    vec1, vec2, target = next(iter(dataloader))\n",
    "    prediction = model(vec1, vec2)\n",
    "    print(f\"Predicted Closeness: {prediction.item()}, Actual Closeness: {target.item()}\")"
   ]
  },
  {
   "cell_type": "code",
   "execution_count": null,
   "metadata": {},
   "outputs": [],
   "source": []
  }
 ],
 "metadata": {
  "kernelspec": {
   "display_name": "Python 3",
   "language": "python",
   "name": "python3"
  },
  "language_info": {
   "codemirror_mode": {
    "name": "ipython",
    "version": 3
   },
   "file_extension": ".py",
   "mimetype": "text/x-python",
   "name": "python",
   "nbconvert_exporter": "python",
   "pygments_lexer": "ipython3",
   "version": "3.12.3"
  }
 },
 "nbformat": 4,
 "nbformat_minor": 2
}
