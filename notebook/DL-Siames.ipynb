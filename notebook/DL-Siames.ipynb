{
 "cells": [
  {
   "cell_type": "code",
   "execution_count": 3,
   "metadata": {},
   "outputs": [],
   "source": [
    "import pandas as pd\n",
    "import numpy as np\n",
    "import matplotlib.pyplot as plt\n",
    "import seaborn as sns\n",
    "from sklearn.preprocessing import MinMaxScaler , StandardScaler\n",
    "import pickle"
   ]
  },
  {
   "cell_type": "code",
   "execution_count": 269,
   "metadata": {},
   "outputs": [],
   "source": [
    "df_feat = pd.read_csv('../encoded data/opamps-features.csv')\n",
    "df_ref = pd.read_csv('../encoded data/opamps-xref.csv')"
   ]
  },
  {
   "cell_type": "code",
   "execution_count": 270,
   "metadata": {},
   "outputs": [
    {
     "data": {
      "text/html": [
       "<div>\n",
       "<style scoped>\n",
       "    .dataframe tbody tr th:only-of-type {\n",
       "        vertical-align: middle;\n",
       "    }\n",
       "\n",
       "    .dataframe tbody tr th {\n",
       "        vertical-align: top;\n",
       "    }\n",
       "\n",
       "    .dataframe thead th {\n",
       "        text-align: right;\n",
       "    }\n",
       "</style>\n",
       "<table border=\"1\" class=\"dataframe\">\n",
       "  <thead>\n",
       "    <tr style=\"text-align: right;\">\n",
       "      <th></th>\n",
       "      <th>Maximum Input Offset Voltage</th>\n",
       "      <th>Maximum Single Supply Voltage</th>\n",
       "      <th>Minimum Single Supply Voltage</th>\n",
       "      <th>Number of Channels per Chip</th>\n",
       "      <th>Typical Gain Bandwidth Product</th>\n",
       "    </tr>\n",
       "  </thead>\n",
       "  <tbody>\n",
       "    <tr>\n",
       "      <th>count</th>\n",
       "      <td>1.835200e+04</td>\n",
       "      <td>1.835200e+04</td>\n",
       "      <td>1.835200e+04</td>\n",
       "      <td>1.835200e+04</td>\n",
       "      <td>18352.000000</td>\n",
       "    </tr>\n",
       "    <tr>\n",
       "      <th>mean</th>\n",
       "      <td>-2.516635e-18</td>\n",
       "      <td>5.575314e-17</td>\n",
       "      <td>-1.858438e-16</td>\n",
       "      <td>-1.146037e-16</td>\n",
       "      <td>0.000000</td>\n",
       "    </tr>\n",
       "    <tr>\n",
       "      <th>std</th>\n",
       "      <td>1.000027e+00</td>\n",
       "      <td>1.000027e+00</td>\n",
       "      <td>1.000027e+00</td>\n",
       "      <td>1.000027e+00</td>\n",
       "      <td>1.000027</td>\n",
       "    </tr>\n",
       "    <tr>\n",
       "      <th>min</th>\n",
       "      <td>-8.615120e-02</td>\n",
       "      <td>-1.154568e+00</td>\n",
       "      <td>-1.663955e+00</td>\n",
       "      <td>-1.000045e+00</td>\n",
       "      <td>-0.182770</td>\n",
       "    </tr>\n",
       "    <tr>\n",
       "      <th>25%</th>\n",
       "      <td>-7.454549e-02</td>\n",
       "      <td>-9.178854e-01</td>\n",
       "      <td>-5.187697e-01</td>\n",
       "      <td>-1.000045e+00</td>\n",
       "      <td>-0.179285</td>\n",
       "    </tr>\n",
       "    <tr>\n",
       "      <th>50%</th>\n",
       "      <td>-3.972837e-02</td>\n",
       "      <td>-3.577365e-01</td>\n",
       "      <td>-2.411490e-01</td>\n",
       "      <td>-1.268909e-01</td>\n",
       "      <td>-0.172527</td>\n",
       "    </tr>\n",
       "    <tr>\n",
       "      <th>75%</th>\n",
       "      <td>2.990587e-02</td>\n",
       "      <td>1.015023e+00</td>\n",
       "      <td>0.000000e+00</td>\n",
       "      <td>-1.268909e-01</td>\n",
       "      <td>-0.137220</td>\n",
       "    </tr>\n",
       "    <tr>\n",
       "      <th>max</th>\n",
       "      <td>9.275950e+01</td>\n",
       "      <td>3.381849e+00</td>\n",
       "      <td>8.989739e+00</td>\n",
       "      <td>1.619417e+00</td>\n",
       "      <td>30.188749</td>\n",
       "    </tr>\n",
       "  </tbody>\n",
       "</table>\n",
       "</div>"
      ],
      "text/plain": [
       "       Maximum Input Offset Voltage  Maximum Single Supply Voltage  \\\n",
       "count                  1.835200e+04                   1.835200e+04   \n",
       "mean                  -2.516635e-18                   5.575314e-17   \n",
       "std                    1.000027e+00                   1.000027e+00   \n",
       "min                   -8.615120e-02                  -1.154568e+00   \n",
       "25%                   -7.454549e-02                  -9.178854e-01   \n",
       "50%                   -3.972837e-02                  -3.577365e-01   \n",
       "75%                    2.990587e-02                   1.015023e+00   \n",
       "max                    9.275950e+01                   3.381849e+00   \n",
       "\n",
       "       Minimum Single Supply Voltage  Number of Channels per Chip  \\\n",
       "count                   1.835200e+04                 1.835200e+04   \n",
       "mean                   -1.858438e-16                -1.146037e-16   \n",
       "std                     1.000027e+00                 1.000027e+00   \n",
       "min                    -1.663955e+00                -1.000045e+00   \n",
       "25%                    -5.187697e-01                -1.000045e+00   \n",
       "50%                    -2.411490e-01                -1.268909e-01   \n",
       "75%                     0.000000e+00                -1.268909e-01   \n",
       "max                     8.989739e+00                 1.619417e+00   \n",
       "\n",
       "       Typical Gain Bandwidth Product  \n",
       "count                    18352.000000  \n",
       "mean                         0.000000  \n",
       "std                          1.000027  \n",
       "min                         -0.182770  \n",
       "25%                         -0.179285  \n",
       "50%                         -0.172527  \n",
       "75%                         -0.137220  \n",
       "max                         30.188749  "
      ]
     },
     "execution_count": 270,
     "metadata": {},
     "output_type": "execute_result"
    }
   ],
   "source": [
    "numerical_columns = [\"Maximum Input Offset Voltage\",\"Maximum Single Supply Voltage\",\"Minimum Single Supply Voltage\",\"Number of Channels per Chip\",\"Typical Gain Bandwidth Product\"]\n",
    "scaler = StandardScaler()\n",
    "df_feat[numerical_columns] = scaler.fit_transform(df_feat[numerical_columns] )\n",
    "df_feat.describe()"
   ]
  },
  {
   "cell_type": "code",
   "execution_count": 271,
   "metadata": {},
   "outputs": [
    {
     "data": {
      "text/html": [
       "<div>\n",
       "<style scoped>\n",
       "    .dataframe tbody tr th:only-of-type {\n",
       "        vertical-align: middle;\n",
       "    }\n",
       "\n",
       "    .dataframe tbody tr th {\n",
       "        vertical-align: top;\n",
       "    }\n",
       "\n",
       "    .dataframe thead th {\n",
       "        text-align: right;\n",
       "    }\n",
       "</style>\n",
       "<table border=\"1\" class=\"dataframe\">\n",
       "  <thead>\n",
       "    <tr style=\"text-align: right;\">\n",
       "      <th></th>\n",
       "      <th>Cross Reference Type</th>\n",
       "      <th>MPN</th>\n",
       "      <th>MANUFACTURER</th>\n",
       "      <th>Maximum Input Offset Voltage</th>\n",
       "      <th>Maximum Single Supply Voltage</th>\n",
       "      <th>Minimum Single Supply Voltage</th>\n",
       "      <th>Number of Channels per Chip</th>\n",
       "      <th>Supplier_Package</th>\n",
       "      <th>Typical Gain Bandwidth Product</th>\n",
       "      <th>MPN_comp</th>\n",
       "      <th>MANUFACTURER_comp</th>\n",
       "      <th>Maximum Input Offset Voltage_comp</th>\n",
       "      <th>Maximum Single Supply Voltage_comp</th>\n",
       "      <th>Minimum Single Supply Voltage_comp</th>\n",
       "      <th>Number of Channels per Chip_comp</th>\n",
       "      <th>Supplier_Package_comp</th>\n",
       "      <th>Typical Gain Bandwidth Product_comp</th>\n",
       "    </tr>\n",
       "  </thead>\n",
       "  <tbody>\n",
       "    <tr>\n",
       "      <th>0</th>\n",
       "      <td>A</td>\n",
       "      <td>PN-1017594</td>\n",
       "      <td>MN-1030</td>\n",
       "      <td>-0.039728</td>\n",
       "      <td>1.015023</td>\n",
       "      <td>-0.032933</td>\n",
       "      <td>-1.000045</td>\n",
       "      <td>SOT-23</td>\n",
       "      <td>-0.17974</td>\n",
       "      <td>PN-1017599</td>\n",
       "      <td>MN-1036</td>\n",
       "      <td>0.006694</td>\n",
       "      <td>1.015023</td>\n",
       "      <td>-0.032933</td>\n",
       "      <td>-1.000045</td>\n",
       "      <td>SOT-23</td>\n",
       "      <td>-0.17974</td>\n",
       "    </tr>\n",
       "    <tr>\n",
       "      <th>1</th>\n",
       "      <td>A</td>\n",
       "      <td>PN-1017602</td>\n",
       "      <td>MN-1030</td>\n",
       "      <td>0.006694</td>\n",
       "      <td>1.015023</td>\n",
       "      <td>-0.032933</td>\n",
       "      <td>-1.000045</td>\n",
       "      <td>SOT-23</td>\n",
       "      <td>-0.17974</td>\n",
       "      <td>PN-1017598</td>\n",
       "      <td>MN-1036</td>\n",
       "      <td>0.006694</td>\n",
       "      <td>1.015023</td>\n",
       "      <td>-0.032933</td>\n",
       "      <td>-1.000045</td>\n",
       "      <td>SOT-23</td>\n",
       "      <td>-0.17974</td>\n",
       "    </tr>\n",
       "    <tr>\n",
       "      <th>2</th>\n",
       "      <td>A</td>\n",
       "      <td>PN-1017602</td>\n",
       "      <td>MN-1030</td>\n",
       "      <td>0.006694</td>\n",
       "      <td>1.015023</td>\n",
       "      <td>-0.032933</td>\n",
       "      <td>-1.000045</td>\n",
       "      <td>SOT-23</td>\n",
       "      <td>-0.17974</td>\n",
       "      <td>PN-1017597</td>\n",
       "      <td>MN-1036</td>\n",
       "      <td>0.006694</td>\n",
       "      <td>1.015023</td>\n",
       "      <td>-0.032933</td>\n",
       "      <td>-1.000045</td>\n",
       "      <td>SOT-23</td>\n",
       "      <td>-0.17974</td>\n",
       "    </tr>\n",
       "    <tr>\n",
       "      <th>3</th>\n",
       "      <td>A</td>\n",
       "      <td>PN-1017594</td>\n",
       "      <td>MN-1030</td>\n",
       "      <td>-0.039728</td>\n",
       "      <td>1.015023</td>\n",
       "      <td>-0.032933</td>\n",
       "      <td>-1.000045</td>\n",
       "      <td>SOT-23</td>\n",
       "      <td>-0.17974</td>\n",
       "      <td>PN-1017598</td>\n",
       "      <td>MN-1036</td>\n",
       "      <td>0.006694</td>\n",
       "      <td>1.015023</td>\n",
       "      <td>-0.032933</td>\n",
       "      <td>-1.000045</td>\n",
       "      <td>SOT-23</td>\n",
       "      <td>-0.17974</td>\n",
       "    </tr>\n",
       "    <tr>\n",
       "      <th>4</th>\n",
       "      <td>A</td>\n",
       "      <td>PN-1017602</td>\n",
       "      <td>MN-1030</td>\n",
       "      <td>0.006694</td>\n",
       "      <td>1.015023</td>\n",
       "      <td>-0.032933</td>\n",
       "      <td>-1.000045</td>\n",
       "      <td>SOT-23</td>\n",
       "      <td>-0.17974</td>\n",
       "      <td>PN-1017599</td>\n",
       "      <td>MN-1036</td>\n",
       "      <td>0.006694</td>\n",
       "      <td>1.015023</td>\n",
       "      <td>-0.032933</td>\n",
       "      <td>-1.000045</td>\n",
       "      <td>SOT-23</td>\n",
       "      <td>-0.17974</td>\n",
       "    </tr>\n",
       "  </tbody>\n",
       "</table>\n",
       "</div>"
      ],
      "text/plain": [
       "  Cross Reference Type         MPN MANUFACTURER  Maximum Input Offset Voltage  \\\n",
       "0                    A  PN-1017594      MN-1030                     -0.039728   \n",
       "1                    A  PN-1017602      MN-1030                      0.006694   \n",
       "2                    A  PN-1017602      MN-1030                      0.006694   \n",
       "3                    A  PN-1017594      MN-1030                     -0.039728   \n",
       "4                    A  PN-1017602      MN-1030                      0.006694   \n",
       "\n",
       "   Maximum Single Supply Voltage  Minimum Single Supply Voltage  \\\n",
       "0                       1.015023                      -0.032933   \n",
       "1                       1.015023                      -0.032933   \n",
       "2                       1.015023                      -0.032933   \n",
       "3                       1.015023                      -0.032933   \n",
       "4                       1.015023                      -0.032933   \n",
       "\n",
       "   Number of Channels per Chip Supplier_Package  \\\n",
       "0                    -1.000045           SOT-23   \n",
       "1                    -1.000045           SOT-23   \n",
       "2                    -1.000045           SOT-23   \n",
       "3                    -1.000045           SOT-23   \n",
       "4                    -1.000045           SOT-23   \n",
       "\n",
       "   Typical Gain Bandwidth Product    MPN_comp MANUFACTURER_comp  \\\n",
       "0                        -0.17974  PN-1017599           MN-1036   \n",
       "1                        -0.17974  PN-1017598           MN-1036   \n",
       "2                        -0.17974  PN-1017597           MN-1036   \n",
       "3                        -0.17974  PN-1017598           MN-1036   \n",
       "4                        -0.17974  PN-1017599           MN-1036   \n",
       "\n",
       "   Maximum Input Offset Voltage_comp  Maximum Single Supply Voltage_comp  \\\n",
       "0                           0.006694                            1.015023   \n",
       "1                           0.006694                            1.015023   \n",
       "2                           0.006694                            1.015023   \n",
       "3                           0.006694                            1.015023   \n",
       "4                           0.006694                            1.015023   \n",
       "\n",
       "   Minimum Single Supply Voltage_comp  Number of Channels per Chip_comp  \\\n",
       "0                           -0.032933                         -1.000045   \n",
       "1                           -0.032933                         -1.000045   \n",
       "2                           -0.032933                         -1.000045   \n",
       "3                           -0.032933                         -1.000045   \n",
       "4                           -0.032933                         -1.000045   \n",
       "\n",
       "  Supplier_Package_comp  Typical Gain Bandwidth Product_comp  \n",
       "0                SOT-23                             -0.17974  \n",
       "1                SOT-23                             -0.17974  \n",
       "2                SOT-23                             -0.17974  \n",
       "3                SOT-23                             -0.17974  \n",
       "4                SOT-23                             -0.17974  "
      ]
     },
     "execution_count": 271,
     "metadata": {},
     "output_type": "execute_result"
    }
   ],
   "source": [
    "df_stm = df_ref.merge(df_feat , left_on=[\"STMicro MPN\",\"STMicro Name\"], right_on=[\"MPN\",\t\"MANUFACTURER\"\t])\n",
    "df_merged = df_stm.merge(df_feat , left_on=[\"Competitor MPN\",\"Competitor Name\"], right_on=[\"MPN\",\t\"MANUFACTURER\"\t], suffixes = (\"\",\"_comp\") )\n",
    "df_merged.drop(columns=[\"STMicro MPN\",\"STMicro Name\", \"Competitor MPN\",\"Competitor Name\"],inplace = True)\n",
    "df_merged.head()"
   ]
  },
  {
   "cell_type": "code",
   "execution_count": 272,
   "metadata": {},
   "outputs": [
    {
     "data": {
      "text/html": [
       "<div>\n",
       "<style scoped>\n",
       "    .dataframe tbody tr th:only-of-type {\n",
       "        vertical-align: middle;\n",
       "    }\n",
       "\n",
       "    .dataframe tbody tr th {\n",
       "        vertical-align: top;\n",
       "    }\n",
       "\n",
       "    .dataframe thead th {\n",
       "        text-align: right;\n",
       "    }\n",
       "</style>\n",
       "<table border=\"1\" class=\"dataframe\">\n",
       "  <thead>\n",
       "    <tr style=\"text-align: right;\">\n",
       "      <th></th>\n",
       "      <th>Maximum Input Offset Voltage</th>\n",
       "      <th>Maximum Single Supply Voltage</th>\n",
       "      <th>Minimum Single Supply Voltage</th>\n",
       "      <th>Number of Channels per Chip</th>\n",
       "      <th>Typical Gain Bandwidth Product</th>\n",
       "      <th>Maximum Input Offset Voltage_comp</th>\n",
       "      <th>Maximum Single Supply Voltage_comp</th>\n",
       "      <th>Minimum Single Supply Voltage_comp</th>\n",
       "      <th>Number of Channels per Chip_comp</th>\n",
       "      <th>Typical Gain Bandwidth Product_comp</th>\n",
       "    </tr>\n",
       "  </thead>\n",
       "  <tbody>\n",
       "    <tr>\n",
       "      <th>count</th>\n",
       "      <td>1.004847e+06</td>\n",
       "      <td>1.004847e+06</td>\n",
       "      <td>1.004847e+06</td>\n",
       "      <td>1.004847e+06</td>\n",
       "      <td>1.004847e+06</td>\n",
       "      <td>1.004847e+06</td>\n",
       "      <td>1.004847e+06</td>\n",
       "      <td>1.004847e+06</td>\n",
       "      <td>1.004847e+06</td>\n",
       "      <td>1.004847e+06</td>\n",
       "    </tr>\n",
       "    <tr>\n",
       "      <th>mean</th>\n",
       "      <td>-8.320233e-03</td>\n",
       "      <td>-1.371419e-01</td>\n",
       "      <td>-3.478263e-01</td>\n",
       "      <td>5.589719e-02</td>\n",
       "      <td>-1.643223e-01</td>\n",
       "      <td>-2.304514e-03</td>\n",
       "      <td>-4.162519e-01</td>\n",
       "      <td>-2.352240e-01</td>\n",
       "      <td>5.634817e-02</td>\n",
       "      <td>-4.551266e-02</td>\n",
       "    </tr>\n",
       "    <tr>\n",
       "      <th>std</th>\n",
       "      <td>1.095308e-01</td>\n",
       "      <td>9.471591e-01</td>\n",
       "      <td>5.382457e-01</td>\n",
       "      <td>9.566776e-01</td>\n",
       "      <td>3.260528e-02</td>\n",
       "      <td>9.160675e-01</td>\n",
       "      <td>8.526709e-01</td>\n",
       "      <td>7.883929e-01</td>\n",
       "      <td>9.567971e-01</td>\n",
       "      <td>7.934808e-01</td>\n",
       "    </tr>\n",
       "    <tr>\n",
       "      <th>min</th>\n",
       "      <td>-8.603514e-02</td>\n",
       "      <td>-9.178854e-01</td>\n",
       "      <td>-1.074011e+00</td>\n",
       "      <td>-1.000045e+00</td>\n",
       "      <td>-1.827433e-01</td>\n",
       "      <td>-8.615120e-02</td>\n",
       "      <td>-1.154568e+00</td>\n",
       "      <td>-1.663955e+00</td>\n",
       "      <td>-1.000045e+00</td>\n",
       "      <td>-1.827698e-01</td>\n",
       "    </tr>\n",
       "    <tr>\n",
       "      <th>25%</th>\n",
       "      <td>-6.642150e-02</td>\n",
       "      <td>-9.178854e-01</td>\n",
       "      <td>-8.657955e-01</td>\n",
       "      <td>-1.000045e+00</td>\n",
       "      <td>-1.789810e-01</td>\n",
       "      <td>-7.512578e-02</td>\n",
       "      <td>-9.178854e-01</td>\n",
       "      <td>-7.269852e-01</td>\n",
       "      <td>-1.000045e+00</td>\n",
       "      <td>-1.789810e-01</td>\n",
       "    </tr>\n",
       "    <tr>\n",
       "      <th>50%</th>\n",
       "      <td>-1.651696e-02</td>\n",
       "      <td>-8.784383e-01</td>\n",
       "      <td>-2.411490e-01</td>\n",
       "      <td>-1.268909e-01</td>\n",
       "      <td>-1.778421e-01</td>\n",
       "      <td>-3.508609e-02</td>\n",
       "      <td>-9.178854e-01</td>\n",
       "      <td>-2.411490e-01</td>\n",
       "      <td>-1.268909e-01</td>\n",
       "      <td>-1.721474e-01</td>\n",
       "    </tr>\n",
       "    <tr>\n",
       "      <th>75%</th>\n",
       "      <td>1.830016e-02</td>\n",
       "      <td>1.015023e+00</td>\n",
       "      <td>-3.293346e-02</td>\n",
       "      <td>-1.268909e-01</td>\n",
       "      <td>-1.618970e-01</td>\n",
       "      <td>2.990587e-02</td>\n",
       "      <td>-3.577365e-01</td>\n",
       "      <td>-1.717438e-01</td>\n",
       "      <td>-1.268909e-01</td>\n",
       "      <td>-1.448130e-01</td>\n",
       "    </tr>\n",
       "    <tr>\n",
       "      <th>max</th>\n",
       "      <td>1.306534e+00</td>\n",
       "      <td>2.119542e+00</td>\n",
       "      <td>2.049222e+00</td>\n",
       "      <td>1.619417e+00</td>\n",
       "      <td>6.399122e-02</td>\n",
       "      <td>9.275950e+01</td>\n",
       "      <td>3.381849e+00</td>\n",
       "      <td>8.989739e+00</td>\n",
       "      <td>1.619417e+00</td>\n",
       "      <td>3.018875e+01</td>\n",
       "    </tr>\n",
       "  </tbody>\n",
       "</table>\n",
       "</div>"
      ],
      "text/plain": [
       "       Maximum Input Offset Voltage  Maximum Single Supply Voltage  \\\n",
       "count                  1.004847e+06                   1.004847e+06   \n",
       "mean                  -8.320233e-03                  -1.371419e-01   \n",
       "std                    1.095308e-01                   9.471591e-01   \n",
       "min                   -8.603514e-02                  -9.178854e-01   \n",
       "25%                   -6.642150e-02                  -9.178854e-01   \n",
       "50%                   -1.651696e-02                  -8.784383e-01   \n",
       "75%                    1.830016e-02                   1.015023e+00   \n",
       "max                    1.306534e+00                   2.119542e+00   \n",
       "\n",
       "       Minimum Single Supply Voltage  Number of Channels per Chip  \\\n",
       "count                   1.004847e+06                 1.004847e+06   \n",
       "mean                   -3.478263e-01                 5.589719e-02   \n",
       "std                     5.382457e-01                 9.566776e-01   \n",
       "min                    -1.074011e+00                -1.000045e+00   \n",
       "25%                    -8.657955e-01                -1.000045e+00   \n",
       "50%                    -2.411490e-01                -1.268909e-01   \n",
       "75%                    -3.293346e-02                -1.268909e-01   \n",
       "max                     2.049222e+00                 1.619417e+00   \n",
       "\n",
       "       Typical Gain Bandwidth Product  Maximum Input Offset Voltage_comp  \\\n",
       "count                    1.004847e+06                       1.004847e+06   \n",
       "mean                    -1.643223e-01                      -2.304514e-03   \n",
       "std                      3.260528e-02                       9.160675e-01   \n",
       "min                     -1.827433e-01                      -8.615120e-02   \n",
       "25%                     -1.789810e-01                      -7.512578e-02   \n",
       "50%                     -1.778421e-01                      -3.508609e-02   \n",
       "75%                     -1.618970e-01                       2.990587e-02   \n",
       "max                      6.399122e-02                       9.275950e+01   \n",
       "\n",
       "       Maximum Single Supply Voltage_comp  Minimum Single Supply Voltage_comp  \\\n",
       "count                        1.004847e+06                        1.004847e+06   \n",
       "mean                        -4.162519e-01                       -2.352240e-01   \n",
       "std                          8.526709e-01                        7.883929e-01   \n",
       "min                         -1.154568e+00                       -1.663955e+00   \n",
       "25%                         -9.178854e-01                       -7.269852e-01   \n",
       "50%                         -9.178854e-01                       -2.411490e-01   \n",
       "75%                         -3.577365e-01                       -1.717438e-01   \n",
       "max                          3.381849e+00                        8.989739e+00   \n",
       "\n",
       "       Number of Channels per Chip_comp  Typical Gain Bandwidth Product_comp  \n",
       "count                      1.004847e+06                         1.004847e+06  \n",
       "mean                       5.634817e-02                        -4.551266e-02  \n",
       "std                        9.567971e-01                         7.934808e-01  \n",
       "min                       -1.000045e+00                        -1.827698e-01  \n",
       "25%                       -1.000045e+00                        -1.789810e-01  \n",
       "50%                       -1.268909e-01                        -1.721474e-01  \n",
       "75%                       -1.268909e-01                        -1.448130e-01  \n",
       "max                        1.619417e+00                         3.018875e+01  "
      ]
     },
     "execution_count": 272,
     "metadata": {},
     "output_type": "execute_result"
    }
   ],
   "source": [
    "df_merged.describe()"
   ]
  },
  {
   "cell_type": "code",
   "execution_count": 273,
   "metadata": {},
   "outputs": [
    {
     "data": {
      "text/plain": [
       "Cross Reference Type\n",
       "A    18352\n",
       "Name: count, dtype: int64"
      ]
     },
     "execution_count": 273,
     "metadata": {},
     "output_type": "execute_result"
    }
   ],
   "source": [
    "test  = df_feat.merge(df_feat, on=[\"MPN\",\t\"MANUFACTURER\"],suffixes = (\"\",\"_comp\"))\n",
    "test[\"MPN_comp\"]= test[\"MPN\"]\n",
    "test[\"MANUFACTURER_comp\"]= test[\"MANUFACTURER\"]\n",
    "test[\"Cross Reference Type\"] = \"A\"\n",
    "test = test.reindex(['Cross Reference Type', 'MPN', 'MANUFACTURER',\n",
    "       'Maximum Input Offset Voltage', 'Maximum Single Supply Voltage',\n",
    "       'Minimum Single Supply Voltage', 'Number of Channels per Chip',\n",
    "       'Supplier_Package', 'Typical Gain Bandwidth Product', 'MPN_comp',\n",
    "       'MANUFACTURER_comp', 'Maximum Input Offset Voltage_comp',\n",
    "       'Maximum Single Supply Voltage_comp',\n",
    "       'Minimum Single Supply Voltage_comp',\n",
    "       'Number of Channels per Chip_comp', 'Supplier_Package_comp',\n",
    "       'Typical Gain Bandwidth Product_comp'],axis=1)\n",
    "test['Cross Reference Type'].value_counts()"
   ]
  },
  {
   "cell_type": "code",
   "execution_count": 274,
   "metadata": {},
   "outputs": [
    {
     "data": {
      "text/plain": [
       "Cross Reference Type\n",
       "D              808455\n",
       "C              158650\n",
       "B               36764\n",
       "A               18360\n",
       "C/Upgrade         465\n",
       "C/Downgrade       336\n",
       "B/Downgrade       114\n",
       "B/Upgrade          48\n",
       "SF                  7\n",
       "Name: count, dtype: int64"
      ]
     },
     "execution_count": 274,
     "metadata": {},
     "output_type": "execute_result"
    }
   ],
   "source": [
    "df_merged = pd.concat([df_merged,test])\n",
    "df_merged[\"Cross Reference Type\"].value_counts()"
   ]
  },
  {
   "cell_type": "code",
   "execution_count": 275,
   "metadata": {},
   "outputs": [],
   "source": [
    "df_merged[\"Cross Reference Type\"] = df_merged[\"Cross Reference Type\"].replace(\"B/Downgrade\",\"B\")\n",
    "df_merged[\"Cross Reference Type\"] = df_merged[\"Cross Reference Type\"].replace(\"B/Upgrade\",\"B\")\n",
    "df_merged[\"Cross Reference Type\"] = df_merged[\"Cross Reference Type\"].replace(\"C/Downgrade\",\"C\")\n",
    "df_merged[\"Cross Reference Type\"] = df_merged[\"Cross Reference Type\"].replace(\"C/Upgrade\",\"C\")"
   ]
  },
  {
   "cell_type": "code",
   "execution_count": 276,
   "metadata": {},
   "outputs": [
    {
     "data": {
      "text/plain": [
       "Cross Reference Type\n",
       "D    808455\n",
       "C    159451\n",
       "B     36926\n",
       "A     18360\n",
       "Name: count, dtype: int64"
      ]
     },
     "execution_count": 276,
     "metadata": {},
     "output_type": "execute_result"
    }
   ],
   "source": [
    "df_merged[\"Cross Reference Type\"].value_counts()\n",
    "df_filtered = df_merged[~df_merged[\"Cross Reference Type\"].isin([\"SF\"])] # à rectifier avec l'equipe de données\n",
    "df_filtered[\"Cross Reference Type\"].value_counts()"
   ]
  },
  {
   "cell_type": "code",
   "execution_count": 192,
   "metadata": {},
   "outputs": [
    {
     "data": {
      "text/plain": [
       "1023192"
      ]
     },
     "execution_count": 192,
     "metadata": {},
     "output_type": "execute_result"
    }
   ],
   "source": [
    "len(df_filtered)"
   ]
  },
  {
   "cell_type": "code",
   "execution_count": 267,
   "metadata": {},
   "outputs": [],
   "source": [
    "df_filtered.to_csv('df_filtered.csv', index=False)"
   ]
  },
  {
   "cell_type": "code",
   "execution_count": 4,
   "metadata": {},
   "outputs": [],
   "source": [
    "df_filtered = pd.read_csv('df_filtered.csv')"
   ]
  },
  {
   "cell_type": "code",
   "execution_count": 5,
   "metadata": {},
   "outputs": [],
   "source": [
    "# Get dummies (one-hot encoding) for both columns\n",
    "supplier_package_encoded = pd.get_dummies(df_filtered['Supplier_Package'], prefix='pkg')\n",
    "supplier_package_comp_encoded = pd.get_dummies(df_filtered['Supplier_Package_comp'], prefix='pkg_comp')\n",
    "\n",
    "# Drop original columns and concatenate one-hot encoded columns\n",
    "df_filtered = pd.concat([\n",
    "    df_filtered.drop(['Supplier_Package', 'Supplier_Package_comp'], axis=1),\n",
    "    supplier_package_encoded,\n",
    "    supplier_package_comp_encoded\n",
    "], axis=1)\n"
   ]
  },
  {
   "cell_type": "code",
   "execution_count": 6,
   "metadata": {},
   "outputs": [],
   "source": [
    "columns_1 = ['Maximum Input Offset Voltage', 'Maximum Single Supply Voltage','Minimum Single Supply Voltage', 'Number of Channels per Chip' , 'Typical Gain Bandwidth Product'] + supplier_package_encoded.columns.tolist()\n",
    "columns_2 = [ 'Maximum Input Offset Voltage_comp',\n",
    "       'Maximum Single Supply Voltage_comp',\n",
    "       'Minimum Single Supply Voltage_comp',\n",
    "       'Number of Channels per Chip_comp',\n",
    "       'Typical Gain Bandwidth Product_comp'] + supplier_package_comp_encoded.columns.tolist()\n",
    "# categorical_columns=['MPN', 'MANUFACTURER','Supplier_Package','MPN_comp',\n",
    "#        'MANUFACTURER_comp','Supplier_Package_comp']\n"
   ]
  },
  {
   "cell_type": "code",
   "execution_count": 7,
   "metadata": {},
   "outputs": [
    {
     "data": {
      "image/png": "[encoded data removed]",
      "text/plain": [
       "<Figure size 640x480 with 1 Axes>"
      ]
     },
     "metadata": {},
     "output_type": "display_data"
    }
   ],
   "source": [
    "sns.countplot(df_filtered, x=\"Cross Reference Type\")\n",
    "plt.show()"
   ]
  },
  {
   "cell_type": "code",
   "execution_count": 8,
   "metadata": {},
   "outputs": [],
   "source": [
    "from sklearn.model_selection import train_test_split\n",
    "def split_dataframe(df, train_percent=0.8, validate_percent=0.1, test_percent=0.1, random_state=42, stratify_col=\"Cross Reference Type\"):\n",
    "    assert train_percent + validate_percent + test_percent == 1, \"Split percentages must sum to 1.\"\n",
    "\n",
    "    # First split: Train and Temp (Validate + Test)\n",
    "    train_df, temp_df = train_test_split(\n",
    "        df,\n",
    "        test_size=(validate_percent + test_percent),\n",
    "        stratify=df[stratify_col],\n",
    "        random_state=random_state\n",
    "    )\n",
    "    \n",
    "    # Calculate the proportion of validation and test from the Temp split\n",
    "    if validate_percent==0:\n",
    "        return train_df,pd.DataFrame(columns=df.columns), temp_df\n",
    "    test_size = test_percent / (validate_percent + test_percent)\n",
    "    \n",
    "    # Second split: Validate and Test\n",
    "    validate_df, test_df = train_test_split(\n",
    "        temp_df,\n",
    "        test_size=test_size,\n",
    "        stratify=temp_df[stratify_col],\n",
    "        random_state=random_state\n",
    "    )\n",
    "    \n",
    "    return train_df, validate_df, test_df"
   ]
  },
  {
   "cell_type": "code",
   "execution_count": 10,
   "metadata": {},
   "outputs": [
    {
     "name": "stdout",
     "output_type": "stream",
     "text": [
      "Cross Reference Type\n",
      "D    646763\n",
      "C    127561\n",
      "B     29541\n",
      "A     14688\n",
      "Name: count, dtype: int64\n",
      "Cross Reference Type\n",
      "D    0.790137\n",
      "C    0.155836\n",
      "B    0.036083\n",
      "A    0.017944\n",
      "Name: proportion, dtype: float64\n",
      "Cross Reference Type\n",
      "D    0.790129\n",
      "C    0.155835\n",
      "B    0.036093\n",
      "A    0.017944\n",
      "Name: proportion, dtype: float64\n"
     ]
    }
   ],
   "source": [
    "train_df, validate_df, test_df = split_dataframe(df_filtered)\n",
    "print(train_df[\"Cross Reference Type\"].value_counts(normalize=False))\n",
    "print(validate_df[\"Cross Reference Type\"].value_counts(normalize=True))\n",
    "print(test_df[\"Cross Reference Type\"].value_counts(normalize=True))"
   ]
  },
  {
   "cell_type": "code",
   "execution_count": 11,
   "metadata": {},
   "outputs": [],
   "source": [
    "class_A = train_df[train_df[\"Cross Reference Type\"] == \"A\"]\n",
    "class_B = train_df[train_df[\"Cross Reference Type\"].isin([\"B\"])]\n",
    "class_C = train_df[train_df[\"Cross Reference Type\"].isin([\"C\"])]\n",
    "class_D = train_df[train_df[\"Cross Reference Type\"].isin([\"D\"])]\n",
    "#n= 36926\n",
    "n= 127561\n",
    "random_state = 42\n"
   ]
  },
  {
   "cell_type": "code",
   "execution_count": 12,
   "metadata": {},
   "outputs": [],
   "source": [
    "class_B_downsampled = pd.concat([class_B,class_B.sample(n=n-len(class_B), random_state=random_state,replace=True)])\n",
    "class_C_downsampled = class_C.sample(n=n,random_state=random_state)\n",
    "# class_A_oversampled = class_A.sample(n=n,random_state=random_state, replace= True)\n",
    "# First concatenate the original samples to keep them all\n",
    "class_A_oversampled = pd.concat([\n",
    "    class_A,  # Keep all original samples\n",
    "    class_A.sample(n=n-len(class_A), random_state=random_state, replace=True)  # Add additional samples with replacement\n",
    "])\n",
    "class_D_downsampled = class_D.sample(n=n,random_state=random_state)"
   ]
  },
  {
   "cell_type": "code",
   "execution_count": 15,
   "metadata": {},
   "outputs": [],
   "source": [
    "df_train = pd.concat([class_A_oversampled, class_B_downsampled, class_C_downsampled,class_D_downsampled],axis=  0)"
   ]
  },
  {
   "cell_type": "code",
   "execution_count": 16,
   "metadata": {},
   "outputs": [
    {
     "data": {
      "image/png": "[encoded data removed]",
      "text/plain": [
       "<Figure size 640x480 with 1 Axes>"
      ]
     },
     "metadata": {},
     "output_type": "display_data"
    }
   ],
   "source": [
    "sns.countplot(df_train, x=\"Cross Reference Type\")\n",
    "plt.show()"
   ]
  },
  {
   "cell_type": "code",
   "execution_count": 17,
   "metadata": {},
   "outputs": [],
   "source": [
    "\n",
    "from scipy.stats import norm\n",
    "def convert(df_sampled):\n",
    "    base_means = {\n",
    "        'A': 0.96,\n",
    "        'B': 0.84,\n",
    "    # 'C': 0.71,\n",
    "    'C': 0.65,\n",
    "        #'D':0.59 # 0.55, 0.65\n",
    "        'D':0.5\n",
    "    }\n",
    "    base_std={\n",
    "        'A': 0.0107,\n",
    "        'B': 0.0249,\n",
    "        'C': 0.01779,\n",
    "        'D': 0.01779\n",
    "    }\n",
    "    interval= {\n",
    "        \"A\":(0.93,1),\n",
    "        \"B\": (0.77,0.92),\n",
    "        #\"C\":(0.66,0.76),\n",
    "        \"C\":(0.60,0.71),\n",
    "        #\"D\":(0.55,0.65)\n",
    "        \"D\":(0.44,0.56)\n",
    "    }\n",
    "    def get_params(category):\n",
    "        parts = category.split('/')\n",
    "        \n",
    "        mean = base_means.get(parts[0], 0.0)\n",
    "        std = base_std.get(parts[0], 0.0)\n",
    "        return mean, std\n",
    "    df_sampled[\"Mean\"] , df_sampled[\"Std\"] = zip(*df_sampled[\"Cross Reference Type\"].map(get_params))\n",
    "    df_sampled['Closeness'] = df_sampled.apply(lambda row: norm.rvs(loc=row['Mean'], scale=row['Std']), axis=1)\n",
    "    df_sampled['Closeness'] = df_sampled['Closeness'].clip(0, 1)\n",
    "    for classe in interval:\n",
    "        df_sampled.loc[df_sampled[\"Cross Reference Type\"]==classe, \"Closeness\"] = df_sampled.loc[df_sampled[\"Cross Reference Type\"]==classe, \"Closeness\"].clip(*interval[classe])\n",
    "convert(train_df)\n",
    "convert(validate_df)\n",
    "convert(test_df)\n"
   ]
  },
  {
   "cell_type": "code",
   "execution_count": 258,
   "metadata": {},
   "outputs": [],
   "source": []
  },
  {
   "cell_type": "code",
   "execution_count": 19,
   "metadata": {},
   "outputs": [
    {
     "data": {
      "image/png": "[encoded data removed]",
      "text/plain": [
       "<Figure size 640x480 with 3 Axes>"
      ]
     },
     "metadata": {},
     "output_type": "display_data"
    }
   ],
   "source": [
    "# Define a color palette\n",
    "\n",
    "\n",
    "# Plot KDE plots with the same color palette\n",
    "fig, axes = plt.subplots(1, 3)\n",
    "\n",
    "sns.kdeplot(data=train_df.sort_values(\"Cross Reference Type\"), x='Closeness', hue='Cross Reference Type', fill=True, common_norm=False, ax=axes[0])\n",
    "axes[0].set_title('df_sampled Closeness Distribution')\n",
    "\n",
    "sns.kdeplot(data=test_df.sort_values(\"Cross Reference Type\"), x='Closeness', hue='Cross Reference Type', fill=True, common_norm=False, ax=axes[1])\n",
    "axes[1].set_title('test_df Closeness Distribution')\n",
    "\n",
    "sns.kdeplot(data=validate_df.sort_values(\"Cross Reference Type\"), x='Closeness', hue='Cross Reference Type', fill=True, common_norm=False, ax=axes[2])\n",
    "axes[2].set_title('validate_df Closeness Distribution')\n",
    "\n",
    "plt.tight_layout()\n",
    "plt.show()\n"
   ]
  },
  {
   "cell_type": "code",
   "execution_count": 20,
   "metadata": {},
   "outputs": [],
   "source": [
    "import torch\n",
    "import torch.nn as nn\n",
    "import torch.optim as optim\n",
    "import torch.nn.functional as F\n",
    "from torch.utils.data import DataLoader, Dataset\n",
    "from sklearn.preprocessing import LabelEncoder\n"
   ]
  },
  {
   "cell_type": "code",
   "execution_count": 21,
   "metadata": {},
   "outputs": [],
   "source": [
    "class CustomVectorDataset(Dataset):\n",
    "    def __init__(self, dataframe, vector1_columns, vector2_columns, target_column):\n",
    "        \"\"\"\n",
    "        Args:\n",
    "            dataframe (pd.DataFrame): The DataFrame containing the data.\n",
    "            vector1_columns (list): List of column names for the first vector.\n",
    "            vector2_columns (list): List of column names for the second vector.\n",
    "            target_column (str): The column name for the target value.\n",
    "            categorical_columns (list): List of column names that are categorical.\n",
    "        \"\"\"\n",
    "        self.dataframe = dataframe.copy()\n",
    "        self.vector1_columns = vector1_columns\n",
    "        self.vector2_columns = vector2_columns\n",
    "        self.target_column = target_column\n",
    "\n",
    "        \n",
    "        # Label encode categorical columns\n",
    "        # Convert columns to tensors\n",
    "        self.vector1 = torch.tensor(self.dataframe[self.vector1_columns].values.astype(np.float32), dtype=torch.float32)\n",
    "        self.vector2 = torch.tensor(self.dataframe[self.vector2_columns].values.astype(np.float32), dtype=torch.float32)\n",
    "        self.target = torch.tensor(self.dataframe[target_column].values, dtype=torch.float32).unsqueeze(1)\n",
    "\n",
    "    def __len__(self):\n",
    "        return len(self.dataframe)\n",
    "    \n",
    "    def __getitem__(self, idx):\n",
    "        vector1 = self.vector1[idx]\n",
    "        vector2 = self.vector2[idx]\n",
    "        target = self.target[idx]  # Already a LongTensor and 1D\n",
    "        return vector1, vector2, target"
   ]
  },
  {
   "cell_type": "code",
   "execution_count": 92,
   "metadata": {},
   "outputs": [
    {
     "data": {
      "text/plain": [
       "Cross Reference Type\n",
       "D    242536\n",
       "C     47835\n",
       "B     11078\n",
       "A      5508\n",
       "Name: count, dtype: int64"
      ]
     },
     "execution_count": 92,
     "metadata": {},
     "output_type": "execute_result"
    }
   ],
   "source": [
    "# from sklearn.model_selection import train_test_split\n",
    "\n",
    "# # Define the sample size\n",
    "# sample_size = 0.3  # 10% of the original data\n",
    "\n",
    "# # Sample the dataframe while maintaining the same proportions of class A, B, C, and D\n",
    "# df_sampled, _ = train_test_split(df_filtered, test_size=(1 - sample_size), stratify=df_filtered['Cross Reference Type'], random_state=42)\n",
    "\n",
    "# # Display the sampled dataframe\n",
    "# df_sampled['Cross Reference Type'].value_counts()"
   ]
  },
  {
   "cell_type": "code",
   "execution_count": 193,
   "metadata": {},
   "outputs": [],
   "source": [
    "# train_df = df_sampled"
   ]
  },
  {
   "cell_type": "code",
   "execution_count": 287,
   "metadata": {},
   "outputs": [
    {
     "data": {
      "text/plain": [
       "(320000, 40000, 40000)"
      ]
     },
     "execution_count": 287,
     "metadata": {},
     "output_type": "execute_result"
    }
   ],
   "source": [
    "len(train_df), len(validate_df), len(test_df)"
   ]
  },
  {
   "cell_type": "code",
   "execution_count": 30,
   "metadata": {},
   "outputs": [],
   "source": [
    "batch_size = 32"
   ]
  },
  {
   "cell_type": "code",
   "execution_count": 31,
   "metadata": {},
   "outputs": [],
   "source": [
    "torch.manual_seed(42)\n",
    "dataset_train = CustomVectorDataset(train_df,columns_1,columns_2, 'Closeness')\n",
    "dataloader_train = DataLoader(dataset_train, batch_size=batch_size, shuffle=False)\n",
    "# Test\n",
    "dataset_test = CustomVectorDataset(test_df, columns_1, columns_2, 'Closeness')\n",
    "dataloader_test = DataLoader(dataset_test, batch_size=64, shuffle=False)\n",
    "# Validation\n",
    "dataset_validate = CustomVectorDataset(validate_df, columns_1, columns_2, 'Closeness')\n",
    "dataloader_validate = DataLoader(dataset_validate, batch_size=64, shuffle=False)"
   ]
  },
  {
   "cell_type": "code",
   "execution_count": 23,
   "metadata": {},
   "outputs": [],
   "source": [
    "\n",
    "\"Different poids pour chaque classe\"\n",
    "# class SiameseNetwork(nn.Module):\n",
    "#     def __init__(self, input_dim):\n",
    "#         super(SiameseNetwork, self).__init__()\n",
    "#         # Feature extractor 1\n",
    "#         self.extract_features_1 = nn.Sequential(\n",
    "#             nn.Linear(input_dim, 256),\n",
    "#             nn.BatchNorm1d(256),\n",
    "#             nn.ReLU(),\n",
    "#             nn.Dropout(0.2),\n",
    "#             nn.Linear(256, 128),\n",
    "#             nn.BatchNorm1d(128),\n",
    "#             nn.ReLU(),\n",
    "#             nn.Dropout(0.2),\n",
    "#             nn.Linear(128, 64),\n",
    "#             nn.ReLU()\n",
    "#         )\n",
    "#         # Feature extractor 2\n",
    "#         self.extract_features_2 = nn.Sequential(\n",
    "#             nn.Linear(input_dim, 256),\n",
    "#             nn.BatchNorm1d(256),\n",
    "#             nn.ReLU(),\n",
    "#             nn.Dropout(0.2),\n",
    "#             nn.Linear(256, 128),\n",
    "#             nn.BatchNorm1d(128),\n",
    "#             nn.ReLU(),\n",
    "#             nn.Dropout(0.2),\n",
    "#             nn.Linear(128, 64),\n",
    "#             nn.ReLU()\n",
    "#         )\n",
    "#         # Fully connected layers\n",
    "#         self.fc = nn.Sequential(\n",
    "#             nn.Linear(128, 64),\n",
    "#             nn.ReLU(),\n",
    "#             nn.Dropout(0.2),\n",
    "#             nn.Linear(64, 32),\n",
    "#             nn.ReLU(),\n",
    "#             nn.Dropout(0.2),\n",
    "#             nn.Linear(32, 16),\n",
    "#             nn.ReLU(),\n",
    "#             nn.Linear(16, 1)  # Output layer for regression\n",
    "#         )\n",
    "\n",
    "#     def forward(self, input1, input2):\n",
    "#         output1 = self.extract_features_1(input1)\n",
    "#         output2 = self.extract_features_2(input2)\n",
    "#         # Concatenate feature vectors from both inputs\n",
    "#         combined = torch.cat((output1, output2), dim=1)\n",
    "#         closeness = self.fc(combined)\n",
    "#         return closeness\n",
    "\"meme poids pour chaque classe\"\n",
    "# class SiameseNetwork(nn.Module):\n",
    "#     def __init__(self, input_dim):\n",
    "#         super(SiameseNetwork, self).__init__()\n",
    "#         # Shared Feature Extractor\n",
    "#         self.feature_extractor = nn.Sequential(\n",
    "#             nn.Linear(input_dim, 256),\n",
    "#             nn.BatchNorm1d(256),\n",
    "#             nn.ELU(),\n",
    "#             nn.Dropout(0.2),\n",
    "#             nn.Linear(256, 128),\n",
    "#             nn.BatchNorm1d(128),\n",
    "#             nn.ELU(),\n",
    "#             nn.Dropout(0.2),\n",
    "#             nn.Linear(128, 64),\n",
    "#             nn.ELU()\n",
    "#         )\n",
    "#         # Fully connected layers\n",
    "#         self.fc = nn.Sequential(\n",
    "#             nn.Linear(128, 64),\n",
    "#             nn.ELU(),\n",
    "#             nn.Dropout(0.2),\n",
    "#             nn.Linear(64, 32),\n",
    "#             nn.ELU(),\n",
    "#             nn.Dropout(0.2),\n",
    "#             nn.Linear(32, 16),\n",
    "#             nn.ELU(),\n",
    "#             nn.Linear(16, 1)  # Output layer for regression\n",
    "#         )\n",
    "\n",
    "#     def forward(self, input1, input2):\n",
    "#         # Apply the shared feature extractor to both inputs\n",
    "#         output1 = self.feature_extractor(input1)\n",
    "#         output2 = self.feature_extractor(input2)\n",
    "#         # Concatenate the features from both inputs\n",
    "#         combined = torch.cat((output1, output2), dim=1)\n",
    "#         # Pass the combined features through the fully connected layers\n",
    "#         closeness = self.fc(combined)\n",
    "#         return closeness\n",
    "\n",
    "import torch\n",
    "import torch.nn as nn\n",
    "\n",
    "class SiameseNetwork(nn.Module):\n",
    "    def __init__(self, input_dim):\n",
    "        super(SiameseNetwork, self).__init__()\n",
    "        \n",
    "        # Shared Feature Extractor\n",
    "        self.feature_extractor = nn.Sequential(\n",
    "            nn.Linear(input_dim, 256),\n",
    "            nn.BatchNorm1d(256),\n",
    "            nn.ReLU(inplace=True),\n",
    "            nn.Dropout(p=0.3),\n",
    "            \n",
    "            nn.Linear(256, 128),\n",
    "            nn.BatchNorm1d(128),\n",
    "            nn.ReLU(inplace=True),\n",
    "            nn.Dropout(p=0.3),\n",
    "            \n",
    "            nn.Linear(128, 64),\n",
    "            nn.BatchNorm1d(64),\n",
    "            nn.ReLU(inplace=True),\n",
    "            nn.Dropout(p=0.3)\n",
    "        )\n",
    "        \n",
    "        # Fully Connected Layers\n",
    "        self.fc = nn.Sequential(\n",
    "            nn.Linear(64 * 2, 128),\n",
    "            nn.BatchNorm1d(128),\n",
    "            nn.ReLU(inplace=True),\n",
    "            nn.Dropout(p=0.3),\n",
    "            \n",
    "            nn.Linear(128, 64),\n",
    "            nn.BatchNorm1d(64),\n",
    "            nn.ReLU(inplace=True),\n",
    "            nn.Dropout(p=0.3),\n",
    "            \n",
    "            nn.Linear(64, 32),\n",
    "            nn.BatchNorm1d(32),\n",
    "            nn.ReLU(inplace=True),\n",
    "            nn.Dropout(p=0.3),\n",
    "            \n",
    "            nn.Linear(32, 1)  # Output Layer for Regression\n",
    "        )\n",
    "        \n",
    "    def forward(self, input1, input2):\n",
    "        # Extract features for both inputs\n",
    "        output1 = self.feature_extractor(input1)\n",
    "        output2 = self.feature_extractor(input2)\n",
    "        \n",
    "        # Concatenate the features\n",
    "        combined = torch.cat((output1, output2), dim=1)\n",
    "        \n",
    "        # Pass through fully connected layers\n",
    "        closeness = self.fc(combined)\n",
    "        \n",
    "        return closeness"
   ]
  },
  {
   "cell_type": "code",
   "execution_count": 247,
   "metadata": {},
   "outputs": [],
   "source": [
    "# class FullyConnected(nn.Module):\n",
    "#     def __init__(self, input_dim):\n",
    "#         super(FullyConnected, self).__init__()\n",
    "#         combined_dim = input_dim * 2\n",
    "        \n",
    "#         self.network = nn.Sequential(\n",
    "#             nn.Linear(combined_dim, 256),\n",
    "#             nn.BatchNorm1d(256),\n",
    "#             nn.ReLU(),\n",
    "#             nn.Dropout(0.1),\n",
    "            \n",
    "#             nn.Linear(256, 128),\n",
    "#             nn.BatchNorm1d(128),\n",
    "#             nn.ReLU(),\n",
    "#             nn.Dropout(0.1),\n",
    "            \n",
    "#             nn.Linear(128, 64),\n",
    "#             nn.BatchNorm1d(64),\n",
    "#             nn.ReLU(),\n",
    "            \n",
    "            \n",
    "#             nn.Linear(64, 32),\n",
    "#             nn.BatchNorm1d(32),\n",
    "#             nn.ReLU(),\n",
    "            \n",
    "#             nn.Linear(32, 1)\n",
    "#         )\n",
    "        \n",
    "#     def forward(self, input1, input2):\n",
    "#         combined = torch.cat((input1, input2), dim=1)\n",
    "#         output = self.network(combined)\n",
    "#         return output\n",
    "class FullyConnected(nn.Module):\n",
    "    def __init__(self, input_dim):\n",
    "        super(FullyConnected, self).__init__()\n",
    "        combined_dim = input_dim * 2\n",
    "        \n",
    "        self.network = nn.Sequential(\n",
    "            nn.Linear(combined_dim, 64),\n",
    "            nn.BatchNorm1d(64),\n",
    "            nn.ReLU(),\n",
    "            \n",
    "            nn.Linear(64, 32),\n",
    "            nn.BatchNorm1d(32),\n",
    "            nn.ReLU(),\n",
    "            \n",
    "            nn.Linear(32, 1)\n",
    "        )\n",
    "        \n",
    "    def forward(self, input1, input2):\n",
    "        combined = torch.cat((input1, input2), dim=1)\n",
    "        output = self.network(combined)\n",
    "        return output"
   ]
  },
  {
   "cell_type": "code",
   "execution_count": 24,
   "metadata": {},
   "outputs": [],
   "source": [
    "def init_weights(m):\n",
    "    if isinstance(m, nn.Linear):\n",
    "        nn.init.xavier_uniform_(m.weight)\n",
    "        if m.bias is not None:\n",
    "            nn.init.zeros_(m.bias)\n",
    "\n",
    "# Apply the initialization to the model\n"
   ]
  },
  {
   "cell_type": "code",
   "execution_count": 226,
   "metadata": {},
   "outputs": [
    {
     "data": {
      "text/plain": [
       "True"
      ]
     },
     "execution_count": 226,
     "metadata": {},
     "output_type": "execute_result"
    }
   ],
   "source": [
    "torch.cuda.is_available()"
   ]
  },
  {
   "cell_type": "code",
   "execution_count": 25,
   "metadata": {},
   "outputs": [
    {
     "name": "stdout",
     "output_type": "stream",
     "text": [
      "Using device: cuda\n"
     ]
    }
   ],
   "source": [
    "import torch\n",
    "\n",
    "device = torch.device('cuda' if torch.cuda.is_available() else 'cpu')\n",
    "print(f'Using device: {device}')"
   ]
  },
  {
   "cell_type": "code",
   "execution_count": 32,
   "metadata": {},
   "outputs": [
    {
     "data": {
      "text/plain": [
       "818553"
      ]
     },
     "execution_count": 32,
     "metadata": {},
     "output_type": "execute_result"
    }
   ],
   "source": [
    "len(dataloader_train.dataset)"
   ]
  },
  {
   "cell_type": "code",
   "execution_count": 248,
   "metadata": {},
   "outputs": [
    {
     "name": "stderr",
     "output_type": "stream",
     "text": [
      "c:\\Python312\\Lib\\site-packages\\torch\\optim\\lr_scheduler.py:28: UserWarning: The verbose parameter is deprecated. Please use get_last_lr() to access the learning rate.\n",
      "  warnings.warn(\"The verbose parameter is deprecated. Please use get_last_lr() \"\n"
     ]
    }
   ],
   "source": [
    "input_dim = len(columns_1)\n",
    "model = FullyConnected(input_dim).to(device)\n",
    "model.apply(init_weights)\n",
    "criterion = nn.MSELoss().to(device)\n",
    "optimizer = optim.Adam(model.parameters(), lr=0.001)\n",
    "scheduler = optim.lr_scheduler.ReduceLROnPlateau(optimizer, mode='min', \n",
    "                                                 factor=0.1, patience=2, \n",
    "                                                 verbose=True)"
   ]
  },
  {
   "cell_type": "code",
   "execution_count": 33,
   "metadata": {},
   "outputs": [
    {
     "name": "stderr",
     "output_type": "stream",
     "text": [
      "C:\\tools\\Manim\\Lib\\site-packages\\tqdm\\auto.py:21: TqdmWarning: IProgress not found. Please update jupyter and ipywidgets. See https://ipywidgets.readthedocs.io/en/stable/user_install.html\n",
      "  from .autonotebook import tqdm as notebook_tqdm\n",
      "c:\\Python312\\Lib\\site-packages\\torch\\optim\\lr_scheduler.py:28: UserWarning: The verbose parameter is deprecated. Please use get_last_lr() to access the learning rate.\n",
      "  warnings.warn(\"The verbose parameter is deprecated. Please use get_last_lr() \"\n"
     ]
    }
   ],
   "source": [
    "from tqdm import tqdm\n",
    "\n",
    "# Initialize the model, loss function and optimizer\n",
    "input_dim = len(columns_1)  # Assuming both vectors have the same number of features\n",
    "model = SiameseNetwork(input_dim).to(device)\n",
    "model.apply(init_weights)\n",
    "criterion = nn.MSELoss().to(device)\n",
    "# optimizer = optim.Adam(model.parameters(), lr=0.001)\n",
    "optimizer = optim.Adadelta(model.parameters(), lr=1)\n",
    "scheduler = optim.lr_scheduler.ReduceLROnPlateau(optimizer, mode='min', \n",
    "                                                 factor=0.1, patience=1, \n",
    "                                                 verbose=True)\n",
    "\n",
    "# Training loop\n",
    "\n",
    "\n"
   ]
  },
  {
   "cell_type": "code",
   "execution_count": 34,
   "metadata": {},
   "outputs": [
    {
     "name": "stderr",
     "output_type": "stream",
     "text": [
      "Epoch 1/12 - Training: 100%|██████████| 25580/25580 [03:38<00:00, 116.81it/s]\n"
     ]
    },
    {
     "name": "stdout",
     "output_type": "stream",
     "text": [
      "Epoch [1/12], Training Loss (MSE): 0.0085\n"
     ]
    },
    {
     "name": "stderr",
     "output_type": "stream",
     "text": [
      "Epoch 1/12 - Validation: 100%|██████████| 1599/1599 [00:05<00:00, 283.35it/s]\n"
     ]
    },
    {
     "name": "stdout",
     "output_type": "stream",
     "text": [
      "Epoch [1/12], Validation Loss (MSE): 0.0049\n"
     ]
    },
    {
     "name": "stderr",
     "output_type": "stream",
     "text": [
      "Epoch 1/12 - Test: 100%|██████████| 1599/1599 [00:05<00:00, 276.07it/s]\n"
     ]
    },
    {
     "name": "stdout",
     "output_type": "stream",
     "text": [
      "Epoch [1/12], Test  Loss (MSE): 0.0051\n"
     ]
    },
    {
     "name": "stderr",
     "output_type": "stream",
     "text": [
      "Epoch 2/12 - Training: 100%|██████████| 25580/25580 [03:47<00:00, 112.63it/s]\n"
     ]
    },
    {
     "name": "stdout",
     "output_type": "stream",
     "text": [
      "Epoch [2/12], Training Loss (MSE): 0.0048\n"
     ]
    },
    {
     "name": "stderr",
     "output_type": "stream",
     "text": [
      "Epoch 2/12 - Validation: 100%|██████████| 1599/1599 [00:05<00:00, 287.24it/s]\n"
     ]
    },
    {
     "name": "stdout",
     "output_type": "stream",
     "text": [
      "Epoch [2/12], Validation Loss (MSE): 0.0048\n"
     ]
    },
    {
     "name": "stderr",
     "output_type": "stream",
     "text": [
      "Epoch 2/12 - Test: 100%|██████████| 1599/1599 [00:05<00:00, 283.72it/s]\n"
     ]
    },
    {
     "name": "stdout",
     "output_type": "stream",
     "text": [
      "Epoch [2/12], Test  Loss (MSE): 0.0050\n"
     ]
    },
    {
     "name": "stderr",
     "output_type": "stream",
     "text": [
      "Epoch 3/12 - Training: 100%|██████████| 25580/25580 [03:35<00:00, 118.49it/s]\n"
     ]
    },
    {
     "name": "stdout",
     "output_type": "stream",
     "text": [
      "Epoch [3/12], Training Loss (MSE): 0.0045\n"
     ]
    },
    {
     "name": "stderr",
     "output_type": "stream",
     "text": [
      "Epoch 3/12 - Validation: 100%|██████████| 1599/1599 [00:05<00:00, 278.30it/s]\n"
     ]
    },
    {
     "name": "stdout",
     "output_type": "stream",
     "text": [
      "Epoch [3/12], Validation Loss (MSE): 0.0046\n"
     ]
    },
    {
     "name": "stderr",
     "output_type": "stream",
     "text": [
      "Epoch 3/12 - Test: 100%|██████████| 1599/1599 [00:05<00:00, 279.89it/s]\n"
     ]
    },
    {
     "name": "stdout",
     "output_type": "stream",
     "text": [
      "Epoch [3/12], Test  Loss (MSE): 0.0047\n"
     ]
    },
    {
     "name": "stderr",
     "output_type": "stream",
     "text": [
      "Epoch 4/12 - Training: 100%|██████████| 25580/25580 [03:37<00:00, 117.67it/s]\n"
     ]
    },
    {
     "name": "stdout",
     "output_type": "stream",
     "text": [
      "Epoch [4/12], Training Loss (MSE): 0.0043\n"
     ]
    },
    {
     "name": "stderr",
     "output_type": "stream",
     "text": [
      "Epoch 4/12 - Validation: 100%|██████████| 1599/1599 [00:05<00:00, 273.34it/s]\n"
     ]
    },
    {
     "name": "stdout",
     "output_type": "stream",
     "text": [
      "Epoch [4/12], Validation Loss (MSE): 0.0045\n"
     ]
    },
    {
     "name": "stderr",
     "output_type": "stream",
     "text": [
      "Epoch 4/12 - Test: 100%|██████████| 1599/1599 [00:05<00:00, 267.11it/s]\n"
     ]
    },
    {
     "name": "stdout",
     "output_type": "stream",
     "text": [
      "Epoch [4/12], Test  Loss (MSE): 0.0045\n"
     ]
    },
    {
     "name": "stderr",
     "output_type": "stream",
     "text": [
      "Epoch 5/12 - Training: 100%|██████████| 25580/25580 [03:44<00:00, 114.11it/s]\n"
     ]
    },
    {
     "name": "stdout",
     "output_type": "stream",
     "text": [
      "Epoch [5/12], Training Loss (MSE): 0.0042\n"
     ]
    },
    {
     "name": "stderr",
     "output_type": "stream",
     "text": [
      "Epoch 5/12 - Validation: 100%|██████████| 1599/1599 [00:05<00:00, 289.17it/s]\n"
     ]
    },
    {
     "name": "stdout",
     "output_type": "stream",
     "text": [
      "Epoch [5/12], Validation Loss (MSE): 0.0042\n"
     ]
    },
    {
     "name": "stderr",
     "output_type": "stream",
     "text": [
      "Epoch 5/12 - Test: 100%|██████████| 1599/1599 [00:05<00:00, 284.24it/s]\n"
     ]
    },
    {
     "name": "stdout",
     "output_type": "stream",
     "text": [
      "Epoch [5/12], Test  Loss (MSE): 0.0041\n"
     ]
    },
    {
     "name": "stderr",
     "output_type": "stream",
     "text": [
      "Epoch 6/12 - Training: 100%|██████████| 25580/25580 [03:39<00:00, 116.55it/s]\n"
     ]
    },
    {
     "name": "stdout",
     "output_type": "stream",
     "text": [
      "Epoch [6/12], Training Loss (MSE): 0.0041\n"
     ]
    },
    {
     "name": "stderr",
     "output_type": "stream",
     "text": [
      "Epoch 6/12 - Validation: 100%|██████████| 1599/1599 [00:05<00:00, 299.52it/s]\n"
     ]
    },
    {
     "name": "stdout",
     "output_type": "stream",
     "text": [
      "Epoch [6/12], Validation Loss (MSE): 0.0044\n"
     ]
    },
    {
     "name": "stderr",
     "output_type": "stream",
     "text": [
      "Epoch 6/12 - Test: 100%|██████████| 1599/1599 [00:05<00:00, 279.53it/s]\n"
     ]
    },
    {
     "name": "stdout",
     "output_type": "stream",
     "text": [
      "Epoch [6/12], Test  Loss (MSE): 0.0043\n"
     ]
    },
    {
     "name": "stderr",
     "output_type": "stream",
     "text": [
      "Epoch 7/12 - Training: 100%|██████████| 25580/25580 [03:43<00:00, 114.24it/s]\n"
     ]
    },
    {
     "name": "stdout",
     "output_type": "stream",
     "text": [
      "Epoch [7/12], Training Loss (MSE): 0.0040\n"
     ]
    },
    {
     "name": "stderr",
     "output_type": "stream",
     "text": [
      "Epoch 7/12 - Validation: 100%|██████████| 1599/1599 [00:05<00:00, 280.07it/s]\n"
     ]
    },
    {
     "name": "stdout",
     "output_type": "stream",
     "text": [
      "Epoch [7/12], Validation Loss (MSE): 0.0042\n"
     ]
    },
    {
     "name": "stderr",
     "output_type": "stream",
     "text": [
      "Epoch 7/12 - Test: 100%|██████████| 1599/1599 [00:05<00:00, 276.86it/s]\n"
     ]
    },
    {
     "name": "stdout",
     "output_type": "stream",
     "text": [
      "Epoch [7/12], Test  Loss (MSE): 0.0041\n"
     ]
    },
    {
     "name": "stderr",
     "output_type": "stream",
     "text": [
      "Epoch 8/12 - Training: 100%|██████████| 25580/25580 [03:38<00:00, 117.24it/s]\n"
     ]
    },
    {
     "name": "stdout",
     "output_type": "stream",
     "text": [
      "Epoch [8/12], Training Loss (MSE): 0.0039\n"
     ]
    },
    {
     "name": "stderr",
     "output_type": "stream",
     "text": [
      "Epoch 8/12 - Validation: 100%|██████████| 1599/1599 [00:05<00:00, 291.60it/s]\n"
     ]
    },
    {
     "name": "stdout",
     "output_type": "stream",
     "text": [
      "Epoch [8/12], Validation Loss (MSE): 0.0044\n"
     ]
    },
    {
     "name": "stderr",
     "output_type": "stream",
     "text": [
      "Epoch 8/12 - Test: 100%|██████████| 1599/1599 [00:05<00:00, 273.38it/s]\n"
     ]
    },
    {
     "name": "stdout",
     "output_type": "stream",
     "text": [
      "Epoch [8/12], Test  Loss (MSE): 0.0043\n"
     ]
    },
    {
     "name": "stderr",
     "output_type": "stream",
     "text": [
      "Epoch 9/12 - Training: 100%|██████████| 25580/25580 [03:44<00:00, 114.16it/s]\n"
     ]
    },
    {
     "name": "stdout",
     "output_type": "stream",
     "text": [
      "Epoch [9/12], Training Loss (MSE): 0.0039\n"
     ]
    },
    {
     "name": "stderr",
     "output_type": "stream",
     "text": [
      "Epoch 9/12 - Validation: 100%|██████████| 1599/1599 [00:05<00:00, 277.24it/s]\n"
     ]
    },
    {
     "name": "stdout",
     "output_type": "stream",
     "text": [
      "Epoch [9/12], Validation Loss (MSE): 0.0043\n"
     ]
    },
    {
     "name": "stderr",
     "output_type": "stream",
     "text": [
      "Epoch 9/12 - Test: 100%|██████████| 1599/1599 [00:05<00:00, 298.43it/s]\n"
     ]
    },
    {
     "name": "stdout",
     "output_type": "stream",
     "text": [
      "Epoch [9/12], Test  Loss (MSE): 0.0042\n"
     ]
    },
    {
     "name": "stderr",
     "output_type": "stream",
     "text": [
      "Epoch 10/12 - Training: 100%|██████████| 25580/25580 [03:44<00:00, 114.13it/s]\n"
     ]
    },
    {
     "name": "stdout",
     "output_type": "stream",
     "text": [
      "Epoch [10/12], Training Loss (MSE): 0.0038\n"
     ]
    },
    {
     "name": "stderr",
     "output_type": "stream",
     "text": [
      "Epoch 10/12 - Validation: 100%|██████████| 1599/1599 [00:05<00:00, 284.84it/s]\n"
     ]
    },
    {
     "name": "stdout",
     "output_type": "stream",
     "text": [
      "Epoch [10/12], Validation Loss (MSE): 0.0043\n"
     ]
    },
    {
     "name": "stderr",
     "output_type": "stream",
     "text": [
      "Epoch 10/12 - Test: 100%|██████████| 1599/1599 [00:05<00:00, 282.70it/s]\n"
     ]
    },
    {
     "name": "stdout",
     "output_type": "stream",
     "text": [
      "Epoch [10/12], Test  Loss (MSE): 0.0042\n"
     ]
    },
    {
     "name": "stderr",
     "output_type": "stream",
     "text": [
      "Epoch 11/12 - Training: 100%|██████████| 25580/25580 [03:37<00:00, 117.73it/s]\n"
     ]
    },
    {
     "name": "stdout",
     "output_type": "stream",
     "text": [
      "Epoch [11/12], Training Loss (MSE): 0.0038\n"
     ]
    },
    {
     "name": "stderr",
     "output_type": "stream",
     "text": [
      "Epoch 11/12 - Validation: 100%|██████████| 1599/1599 [00:05<00:00, 270.56it/s]\n"
     ]
    },
    {
     "name": "stdout",
     "output_type": "stream",
     "text": [
      "Epoch [11/12], Validation Loss (MSE): 0.0043\n"
     ]
    },
    {
     "name": "stderr",
     "output_type": "stream",
     "text": [
      "Epoch 11/12 - Test: 100%|██████████| 1599/1599 [00:05<00:00, 284.47it/s]\n"
     ]
    },
    {
     "name": "stdout",
     "output_type": "stream",
     "text": [
      "Epoch [11/12], Test  Loss (MSE): 0.0042\n"
     ]
    },
    {
     "name": "stderr",
     "output_type": "stream",
     "text": [
      "Epoch 12/12 - Training: 100%|██████████| 25580/25580 [03:41<00:00, 115.70it/s]\n"
     ]
    },
    {
     "name": "stdout",
     "output_type": "stream",
     "text": [
      "Epoch [12/12], Training Loss (MSE): 0.0038\n"
     ]
    },
    {
     "name": "stderr",
     "output_type": "stream",
     "text": [
      "Epoch 12/12 - Validation: 100%|██████████| 1599/1599 [00:05<00:00, 289.83it/s]\n"
     ]
    },
    {
     "name": "stdout",
     "output_type": "stream",
     "text": [
      "Epoch [12/12], Validation Loss (MSE): 0.0043\n"
     ]
    },
    {
     "name": "stderr",
     "output_type": "stream",
     "text": [
      "Epoch 12/12 - Test: 100%|██████████| 1599/1599 [00:05<00:00, 295.16it/s]"
     ]
    },
    {
     "name": "stdout",
     "output_type": "stream",
     "text": [
      "Epoch [12/12], Test  Loss (MSE): 0.0042\n"
     ]
    },
    {
     "name": "stderr",
     "output_type": "stream",
     "text": [
      "\n"
     ]
    }
   ],
   "source": [
    "num_epochs = 12\n",
    "train_mse_history = []\n",
    "val_mse_history = []\n",
    "test_mse_history = []\n",
    "for epoch in range(num_epochs):\n",
    "    # -----------------------------\n",
    "    # 5.1. Training Phase\n",
    "    # -----------------------------\n",
    "    model.train()\n",
    "    running_loss = 0.0\n",
    "    for vec1, vec2, target in tqdm(dataloader_train, desc=f\"Epoch {epoch+1}/{num_epochs} - Training\"):\n",
    "        vec1, vec2, target = vec1.to(device), vec2.to(device), target.to(device)\n",
    "        optimizer.zero_grad()\n",
    "        output = model(vec1, vec2)\n",
    "        loss = criterion(output, target)\n",
    "        loss.backward()\n",
    "        optimizer.step()\n",
    "        running_loss += loss.item() * vec1.size(0)  # Multiply by batch size\n",
    "\n",
    "    epoch_train_loss = running_loss / len(dataloader_train.dataset)\n",
    "    train_mse_history.append(epoch_train_loss)\n",
    "    print(f\"Epoch [{epoch+1}/{num_epochs}], Training Loss (MSE): {epoch_train_loss:.4f}\")\n",
    "\n",
    "    # -----------------------------\n",
    "    # 5.2. Validation Phase\n",
    "    # -----------------------------\n",
    "    model.eval()\n",
    "    val_running_loss = 0.0\n",
    "    with torch.no_grad():\n",
    "        for vec1, vec2, target in tqdm(dataloader_validate, desc=f\"Epoch {epoch+1}/{num_epochs} - Validation\"):\n",
    "            vec1, vec2, target = vec1.to(device), vec2.to(device), target.to(device)\n",
    "            output = model(vec1, vec2)\n",
    "            loss = criterion(output, target)\n",
    "            val_running_loss += loss.item() * vec1.size(0)  # Multiply by batch size\n",
    "\n",
    "    epoch_val_loss = val_running_loss / len(dataloader_validate.dataset)\n",
    "    val_mse_history.append(epoch_val_loss)\n",
    "    print(f\"Epoch [{epoch+1}/{num_epochs}], Validation Loss (MSE): {epoch_val_loss:.4f}\")\n",
    "\n",
    "    # -----------------------------\n",
    "    # 5.3. Step the Scheduler\n",
    "    # -----------------------------\n",
    "    scheduler.step(epoch_val_loss)\n",
    "    model.eval()\n",
    "    test_running_loss = 0.0\n",
    "    with torch.no_grad():\n",
    "        for vec1, vec2, target in tqdm(dataloader_test, desc=f\"Epoch {epoch+1}/{num_epochs} - Test\"):\n",
    "            vec1, vec2, target = vec1.to(device), vec2.to(device), target.to(device)\n",
    "            output = model(vec1, vec2)\n",
    "            loss = criterion(output, target)\n",
    "            test_running_loss += loss.item() * vec1.size(0)  # Multiply by batch size\n",
    "\n",
    "    epoch_val_loss = test_running_loss / len(dataloader_test.dataset)\n",
    "    test_mse_history.append(epoch_val_loss)\n",
    "    print(f\"Epoch [{epoch+1}/{num_epochs}], Test  Loss (MSE): {epoch_val_loss:.4f}\")\n",
    "    \n",
    "\n",
    "# -----------------------------\n",
    "# 6. Plot Training and Validation MSE\n",
    "# -----------------------------\n",
    "\n"
   ]
  },
  {
   "cell_type": "code",
   "execution_count": 35,
   "metadata": {},
   "outputs": [],
   "source": [
    "train_hist= []\n",
    "valid_hist = []\n",
    "test_hist = []"
   ]
  },
  {
   "cell_type": "code",
   "execution_count": 36,
   "metadata": {},
   "outputs": [
    {
     "data": {
      "image/png": "[encoded data removed]",
      "text/plain": [
       "<Figure size 1000x600 with 1 Axes>"
      ]
     },
     "metadata": {},
     "output_type": "display_data"
    }
   ],
   "source": [
    "\n",
    "\n",
    "train_hist.extend(train_mse_history)\n",
    "\n",
    "valid_hist.extend(val_mse_history)\n",
    "test_hist.extend(test_mse_history)\n",
    "epochs = range(1,len(train_hist)+1)\n",
    "plt.figure(figsize=(10, 6))\n",
    "plt.plot(epochs, train_hist, 'bo-', label='Training MSE')\n",
    "plt.plot(epochs, valid_hist, 'ro-', label='Validation MSE')\n",
    "plt.plot(epochs, test_hist, 'go-', label='Test MSE')\n",
    "plt.title('Training and Validation Mean Squared Error')\n",
    "plt.xlabel('Epochs')\n",
    "plt.ylabel('MSE')\n",
    "plt.legend()\n",
    "plt.grid(True)\n",
    "plt.show()"
   ]
  },
  {
   "cell_type": "code",
   "execution_count": 37,
   "metadata": {},
   "outputs": [
    {
     "name": "stdout",
     "output_type": "stream",
     "text": [
      "Predicted Closeness: 0.606508731842041, Actual Closeness: 0.659654438495636\n"
     ]
    }
   ],
   "source": [
    "model.eval()\n",
    "with torch.no_grad():\n",
    "    vec1, vec2, target = dataloader_test.dataset[2222]\n",
    "    \n",
    "\n",
    "    # print(vec1.size(),vec2.size(),target.size())\n",
    "    vec1 , vec2 ,target = vec1.unsqueeze(0), vec2.unsqueeze(0), target.unsqueeze(0)\n",
    "    # print(vec1.size(),vec2.size(),target.size())\n",
    "    vec1, vec2, target = vec1.to(device), vec2.to(device), target.to(device)\n",
    "    prediction = model(vec1, vec2)\n",
    "    print(f\"Predicted Closeness: {prediction.item()}, Actual Closeness: {target.item()}\")"
   ]
  },
  {
   "cell_type": "code",
   "execution_count": 169,
   "metadata": {},
   "outputs": [],
   "source": [
    "torch.save(model.state_dict(), 'model_siamese.pth')"
   ]
  },
  {
   "cell_type": "code",
   "execution_count": 19,
   "metadata": {},
   "outputs": [
    {
     "data": {
      "text/plain": [
       "<All keys matched successfully>"
      ]
     },
     "execution_count": 19,
     "metadata": {},
     "output_type": "execute_result"
    }
   ],
   "source": [
    "input_dim = len(columns_1)  # Assuming both vectors have the same number of features\n",
    "model = SiameseNetwork(input_dim).to(device)\n",
    "model.load_state_dict(torch.load('model_siamese.pth'))"
   ]
  },
  {
   "cell_type": "code",
   "execution_count": 38,
   "metadata": {},
   "outputs": [],
   "source": [
    "import torch\n",
    "import numpy as np\n",
    "import pandas as pd\n",
    "from sklearn.metrics import mean_squared_error, mean_absolute_error, r2_score\n",
    "import seaborn as sns\n",
    "import matplotlib.pyplot as plt\n",
    "from tqdm import tqdm\n",
    "from sklearn.metrics import mean_squared_error\n",
    "def test_model(model, dataloader, df_test, device):\n",
    "    df = df_test.copy()\n",
    "    model.eval()  # Set model to evaluation mode\n",
    "    predictions = []\n",
    "    targets = []\n",
    "    with torch.no_grad():  # Disable gradient computation\n",
    "        for vector1, vector2, target in tqdm(dataloader, desc=\"Testing\"):\n",
    "            # Move data to the specified device\n",
    "            vector1 = vector1.to(device)\n",
    "            vector2 = vector2.to(device)\n",
    "            target = target.to(device)\n",
    "\n",
    "            # Forward pass\n",
    "            output = model(vector1, vector2)\n",
    "\n",
    "            # Collect predictions and targets\n",
    "            predictions.append(output.cpu().numpy())\n",
    "            targets.append(target.cpu().numpy())\n",
    "\n",
    "    # Concatenate all batches\n",
    "    y_pred = np.vstack(predictions).flatten()\n",
    "    y_true = np.vstack(targets).flatten()\n",
    "    df[\"Predicted Closeness\"] = y_pred\n",
    "    df[\"absolute_error\"] = np.abs(df[\"Closeness\"] - df[\"Predicted Closeness\"])\n",
    "    mse = mean_squared_error(y_true, y_pred)\n",
    "    print(f\"Test MSE: {mse:.4f}\")\n",
    "\n",
    "    hue_order = sorted(df[\"Cross Reference Type\"].unique())\n",
    "    sns.histplot(df[df[\"Predicted Closeness\"] <= 1], x='Predicted Closeness', hue='Cross Reference Type', bins=50, hue_order=hue_order)\n",
    "    # plt.xlim(0, 1)\n",
    "    plt.show()\n",
    "\n",
    "    sns.kdeplot(df[df[\"Predicted Closeness\"] <= 1], x='Predicted Closeness', hue='Cross Reference Type', fill=True, common_norm=False, hue_order=hue_order)\n",
    "    # plt.xlim(0, 1)\n",
    "    plt.show()\n",
    "\n",
    "    fig, axes = plt.subplots(2, 2, figsize=(15, 10))\n",
    "    cross_reference_types = df[\"Cross Reference Type\"].unique()\n",
    "\n",
    "    for ax, ctype in zip(axes.flatten(), cross_reference_types):\n",
    "        sns.histplot(df[df[\"Cross Reference Type\"] == ctype], x='Predicted Closeness', hue='Cross Reference Type', ax=ax)\n",
    "        ax.set_title(f'Cross Reference Type: {ctype}')\n",
    "        ax.set_xlim(0, 1)\n",
    "\n",
    "    plt.tight_layout()\n",
    "    plt.show()\n",
    "\n",
    "    sns.barplot(data=df, hue='Cross Reference Type', x='absolute_error')\n",
    "    \n",
    "    plt.show()\n",
    "    return mse\n",
    "\n"
   ]
  },
  {
   "cell_type": "code",
   "execution_count": 300,
   "metadata": {},
   "outputs": [
    {
     "data": {
      "text/plain": [
       "(0.0, 1.0)"
      ]
     },
     "execution_count": 300,
     "metadata": {},
     "output_type": "execute_result"
    },
    {
     "data": {
      "image/png": "[encoded data removed]",
      "text/plain": [
       "<Figure size 640x480 with 1 Axes>"
      ]
     },
     "metadata": {},
     "output_type": "display_data"
    }
   ],
   "source": [
    "sns.kdeplot(test_df, x='Closeness', hue='Cross Reference Type',fill=True, common_norm=False)\n",
    "plt.xlim(0, 1)"
   ]
  },
  {
   "cell_type": "code",
   "execution_count": 39,
   "metadata": {},
   "outputs": [
    {
     "name": "stderr",
     "output_type": "stream",
     "text": [
      "Testing: 100%|██████████| 1599/1599 [00:06<00:00, 252.13it/s]\n"
     ]
    },
    {
     "name": "stdout",
     "output_type": "stream",
     "text": [
      "Test MSE: 0.0042\n"
     ]
    },
    {
     "data": {
      "image/png": "[encoded data removed]",
      "text/plain": [
       "<Figure size 640x480 with 1 Axes>"
      ]
     },
     "metadata": {},
     "output_type": "display_data"
    },
    {
     "data": {
      "image/png": "[encoded data removed]",
      "text/plain": [
       "<Figure size 640x480 with 1 Axes>"
      ]
     },
     "metadata": {},
     "output_type": "display_data"
    },
    {
     "data": {
      "image/png": "[encoded data removed]",
      "text/plain": [
       "<Figure size 1500x1000 with 4 Axes>"
      ]
     },
     "metadata": {},
     "output_type": "display_data"
    },
    {
     "data": {
      "image/png": "[encoded data removed]",
      "text/plain": [
       "<Figure size 640x480 with 1 Axes>"
      ]
     },
     "metadata": {},
     "output_type": "display_data"
    }
   ],
   "source": [
    "mse = test_model(model, dataloader_test, test_df, device)"
   ]
  },
  {
   "cell_type": "code",
   "execution_count": 31,
   "metadata": {},
   "outputs": [
    {
     "name": "stdout",
     "output_type": "stream",
     "text": [
      "Predicted Closeness: tensor([[0.5446],\n",
      "        [0.5446],\n",
      "        [0.5446],\n",
      "        [0.5446],\n",
      "        [0.5446]], device='cuda:0', grad_fn=<SliceBackward0>), Actual Closeness: tensor([[0.9660],\n",
      "        [0.9647],\n",
      "        [0.9633],\n",
      "        [0.9522],\n",
      "        [0.9473]], device='cuda:0')\n"
     ]
    }
   ],
   "source": [
    "model.eval()\n",
    "vec1, vec2, target = next(iter(dataloader))\n",
    "vec1, vec2, target = vec1.to(device), vec2.to(device), target.to(device)\n",
    "prediction = model(vec1, vec2)\n",
    "print(f\"Predicted Closeness: {prediction[:5]}, Actual Closeness: {target[:5]}\")"
   ]
  },
  {
   "cell_type": "code",
   "execution_count": null,
   "metadata": {},
   "outputs": [],
   "source": []
  }
 ],
 "metadata": {
  "kernelspec": {
   "display_name": "Python 3",
   "language": "python",
   "name": "python3"
  },
  "language_info": {
   "codemirror_mode": {
    "name": "ipython",
    "version": 3
   },
   "file_extension": ".py",
   "mimetype": "text/x-python",
   "name": "python",
   "nbconvert_exporter": "python",
   "pygments_lexer": "ipython3",
   "version": "3.12.3"
  }
 },
 "nbformat": 4,
 "nbformat_minor": 2
}
