{
 "cells": [
  {
   "cell_type": "code",
   "execution_count": 3,
   "metadata": {},
   "outputs": [],
   "source": [
    "import pandas as pd\n",
    "import numpy as np\n",
    "import matplotlib.pyplot as plt\n",
    "import seaborn as sns\n",
    "from sklearn.preprocessing import MinMaxScaler , StandardScaler\n",
    "import pickle"
   ]
  },
  {
   "cell_type": "code",
   "execution_count": 4,
   "metadata": {},
   "outputs": [],
   "source": [
    "import torch\n",
    "import torch.nn as nn\n",
    "import torch.optim as optim\n",
    "import torch.nn.functional as F\n",
    "from torch.utils.data import DataLoader, Dataset\n",
    "from sklearn.preprocessing import LabelEncoder\n"
   ]
  },
  {
   "cell_type": "code",
   "execution_count": 6,
   "metadata": {},
   "outputs": [],
   "source": [
    "df_filtered = pd.read_csv('df_filtered.csv')"
   ]
  },
  {
   "cell_type": "code",
   "execution_count": 39,
   "metadata": {},
   "outputs": [
    {
     "name": "stdout",
     "output_type": "stream",
     "text": [
      "Label Mapping: {'A': 0, 'B': 1, 'C': 2, 'D': 3}\n"
     ]
    }
   ],
   "source": [
    "le = LabelEncoder()\n",
    "df_filtered['Cross Reference Type_encoded'] = le.fit_transform(df_filtered['Cross Reference Type'])\n",
    "\n",
    "# Display the mapping\n",
    "label_mapping = dict(zip(le.classes_, le.transform(le.classes_)))\n",
    "print(\"Label Mapping:\", label_mapping)"
   ]
  },
  {
   "cell_type": "code",
   "execution_count": 40,
   "metadata": {},
   "outputs": [
    {
     "data": {
      "text/plain": [
       "Cross Reference Type\n",
       "D    808455\n",
       "C    159451\n",
       "B     36926\n",
       "A     18360\n",
       "Name: count, dtype: int64"
      ]
     },
     "execution_count": 40,
     "metadata": {},
     "output_type": "execute_result"
    }
   ],
   "source": [
    "df_filtered[\"Cross Reference Type\"].value_counts()"
   ]
  },
  {
   "cell_type": "code",
   "execution_count": 41,
   "metadata": {},
   "outputs": [],
   "source": [
    "from sklearn.model_selection import train_test_split\n",
    "def split_dataframe(df, train_percent=0.8, validate_percent=0.1, test_percent=0.1, random_state=42, stratify_col=\"Cross Reference Type\"):\n",
    "    assert train_percent + validate_percent + test_percent == 1, \"Split percentages must sum to 1.\"\n",
    "\n",
    "    # First split: Train and Temp (Validate + Test)\n",
    "    train_df, temp_df = train_test_split(\n",
    "        df,\n",
    "        test_size=(validate_percent + test_percent),\n",
    "        stratify=df[stratify_col],\n",
    "        random_state=random_state\n",
    "    )\n",
    "    \n",
    "    # Calculate the proportion of validation and test from the Temp split\n",
    "    if validate_percent==0:\n",
    "        return train_df,pd.DataFrame(columns=df.columns), temp_df\n",
    "    test_size = test_percent / (validate_percent + test_percent)\n",
    "    \n",
    "    # Second split: Validate and Test\n",
    "    validate_df, test_df = train_test_split(\n",
    "        temp_df,\n",
    "        test_size=test_size,\n",
    "        stratify=temp_df[stratify_col],\n",
    "        random_state=random_state\n",
    "    )\n",
    "    \n",
    "    return train_df, validate_df, test_df"
   ]
  },
  {
   "cell_type": "code",
   "execution_count": 42,
   "metadata": {},
   "outputs": [
    {
     "name": "stdout",
     "output_type": "stream",
     "text": [
      "Cross Reference Type\n",
      "D    0.790130\n",
      "C    0.155837\n",
      "B    0.036089\n",
      "A    0.017944\n",
      "Name: proportion, dtype: float64\n",
      "Series([], Name: proportion, dtype: float64)\n",
      "Cross Reference Type\n",
      "D    0.790133\n",
      "C    0.155835\n",
      "B    0.036088\n",
      "A    0.017944\n",
      "Name: proportion, dtype: float64\n"
     ]
    }
   ],
   "source": [
    "train_df, validate_df, test_df = split_dataframe(df_filtered,validate_percent=0,test_percent=0.2)\n",
    "print(train_df[\"Cross Reference Type\"].value_counts(normalize=True))\n",
    "print(validate_df[\"Cross Reference Type\"].value_counts(normalize=True))\n",
    "print(test_df[\"Cross Reference Type\"].value_counts(normalize=True))"
   ]
  },
  {
   "cell_type": "code",
   "execution_count": 90,
   "metadata": {},
   "outputs": [],
   "source": [
    "import torch\n",
    "from torch.utils.data import Dataset\n",
    "from sklearn.preprocessing import LabelEncoder\n",
    "\n",
    "class CustomVectorDataset(Dataset):\n",
    "    def __init__(self, dataframe, vector1_columns, vector2_columns, target_column, categorical_columns=[]):\n",
    "        \"\"\"\n",
    "        Args:\n",
    "            dataframe (pd.DataFrame): The DataFrame containing the data.\n",
    "            vector1_columns (list): List of column names for the first vector.\n",
    "            vector2_columns (list): List of column names for the second vector.\n",
    "            target_column (str): The column name for the target value.\n",
    "            categorical_columns (list): List of column names that are categorical.\n",
    "        \"\"\"\n",
    "        self.dataframe = dataframe.copy()\n",
    "        self.vector1_columns = vector1_columns\n",
    "        self.vector2_columns = vector2_columns\n",
    "        self.target_column = target_column\n",
    "        self.categorical_columns = categorical_columns\n",
    "        \n",
    "        # Label encode categorical columns\n",
    "        self.label_encoders = {}\n",
    "        for col in self.categorical_columns:\n",
    "            le = LabelEncoder()\n",
    "            self.dataframe[col] = le.fit_transform(self.dataframe[col])\n",
    "            self.label_encoders[col] = le\n",
    "        \n",
    "        # Convert columns to tensors\n",
    "        self.vector1 = torch.tensor(self.dataframe[vector1_columns].values, dtype=torch.float32)\n",
    "        self.vector2 = torch.tensor(self.dataframe[vector2_columns].values, dtype=torch.float32)\n",
    "        self.target = torch.tensor(self.dataframe[target_column].values, dtype=torch.long)  # Ensure targets are LongTensor and 1D\n",
    "\n",
    "    def __len__(self):\n",
    "        return len(self.dataframe)\n",
    "    \n",
    "    def __getitem__(self, idx):\n",
    "        vector1 = self.vector1[idx]\n",
    "        vector2 = self.vector2[idx]\n",
    "        target = self.target[idx]  # Already a LongTensor and 1D\n",
    "        return vector1, vector2, target"
   ]
  },
  {
   "cell_type": "code",
   "execution_count": 110,
   "metadata": {},
   "outputs": [],
   "source": [
    "import torch\n",
    "import torch.nn as nn\n",
    "\n",
    "class FullyConnectedClassifier(nn.Module):\n",
    "    def __init__(self, input_dim, num_classes=4):\n",
    "        super(FullyConnectedClassifier, self).__init__()\n",
    "        combined_dim = input_dim * 2  # Concatenated input dimensions\n",
    "\n",
    "        self.feature_extractor = nn.Sequential(\n",
    "            nn.Linear(combined_dim, 256),\n",
    "            nn.BatchNorm1d(256),\n",
    "            nn.ReLU(),\n",
    "            nn.Dropout(p=0.2),\n",
    "        \n",
    "            nn.Linear(256, 128),\n",
    "            nn.BatchNorm1d(128),\n",
    "            nn.ReLU(),\n",
    "            nn.Dropout(p=0.3),\n",
    "\n",
    "            nn.Linear(128, 64),\n",
    "            nn.BatchNorm1d(64),\n",
    "            nn.ReLU(),\n",
    "            nn.Dropout(p=0.3),\n",
    "\n",
    "            nn.Linear(64, 32),\n",
    "            nn.BatchNorm1d(32),\n",
    "            nn.ReLU(),\n",
    "            nn.Dropout(p=0.3)\n",
    "        )\n",
    "\n",
    "        self.classifier = nn.Sequential(\n",
    "            nn.Linear(32, 16),\n",
    "            nn.BatchNorm1d(16),\n",
    "            nn.ReLU(),\n",
    "\n",
    "            nn.Linear(16, num_classes)\n",
    "        )\n",
    "\n",
    "    def forward(self, input1, input2):\n",
    "        combined = torch.cat((input1, input2), dim=1)\n",
    "        features = self.feature_extractor(combined)\n",
    "        out = self.classifier(features)\n",
    "        return out"
   ]
  },
  {
   "cell_type": "code",
   "execution_count": 92,
   "metadata": {},
   "outputs": [],
   "source": [
    "columns_1 = ['MPN', 'MANUFACTURER',\n",
    "       'Maximum Input Offset Voltage', 'Maximum Single Supply Voltage',\n",
    "       'Minimum Single Supply Voltage', 'Number of Channels per Chip',\n",
    "       'Supplier_Package', 'Typical Gain Bandwidth Product']\n",
    "columns_2 = ['MPN_comp',\n",
    "       'MANUFACTURER_comp', 'Maximum Input Offset Voltage_comp',\n",
    "       'Maximum Single Supply Voltage_comp',\n",
    "       'Minimum Single Supply Voltage_comp',\n",
    "       'Number of Channels per Chip_comp', 'Supplier_Package_comp',\n",
    "       'Typical Gain Bandwidth Product_comp']\n",
    "categorical_columns=['MPN', 'MANUFACTURER','Supplier_Package','MPN_comp',\n",
    "       'MANUFACTURER_comp','Supplier_Package_comp']"
   ]
  },
  {
   "cell_type": "code",
   "execution_count": 113,
   "metadata": {},
   "outputs": [],
   "source": [
    "batch_size = 64"
   ]
  },
  {
   "cell_type": "code",
   "execution_count": 114,
   "metadata": {},
   "outputs": [],
   "source": [
    "torch.manual_seed(42)\n",
    "dataset_train = CustomVectorDataset(train_df,columns_1,columns_2, 'Cross Reference Type_encoded',categorical_columns=categorical_columns)\n",
    "dataloader_train = DataLoader(dataset_train, batch_size=batch_size, shuffle=False)\n",
    "# Test\n",
    "dataset_test = CustomVectorDataset(test_df, columns_1, columns_2, 'Cross Reference Type_encoded', categorical_columns=categorical_columns)\n",
    "dataloader_test = DataLoader(dataset_test, batch_size=batch_size, shuffle=False)\n",
    "# Validation\n",
    "# dataset_validate = CustomVectorDataset(validate_df, columns_1, columns_2, 'Closeness', categorical_columns=categorical_columns)\n",
    "# dataloader_validate = DataLoader(dataset_validate, batch_size=batch_size, shuffle=False)"
   ]
  },
  {
   "cell_type": "code",
   "execution_count": 115,
   "metadata": {},
   "outputs": [
    {
     "name": "stdout",
     "output_type": "stream",
     "text": [
      "Using device: cuda\n"
     ]
    }
   ],
   "source": [
    "import torch\n",
    "\n",
    "device = torch.device('cuda' if torch.cuda.is_available() else 'cpu')\n",
    "print(f'Using device: {device}')"
   ]
  },
  {
   "cell_type": "code",
   "execution_count": 116,
   "metadata": {},
   "outputs": [],
   "source": [
    "from sklearn.utils.class_weight import compute_class_weight\n",
    "class_weights = compute_class_weight(class_weight='balanced', classes=np.unique(train_df[\"Cross Reference Type_encoded\"]), y=train_df[\"Cross Reference Type_encoded\"])\n",
    "class_weights = torch.tensor(class_weights, dtype=torch.float).to(device)\n"
   ]
  },
  {
   "cell_type": "code",
   "execution_count": 117,
   "metadata": {},
   "outputs": [
    {
     "data": {
      "text/plain": [
       "array([0, 1, 2, 3])"
      ]
     },
     "execution_count": 117,
     "metadata": {},
     "output_type": "execute_result"
    }
   ],
   "source": [
    "np.unique(train_df[\"Cross Reference Type_encoded\"])"
   ]
  },
  {
   "cell_type": "code",
   "execution_count": 118,
   "metadata": {},
   "outputs": [
    {
     "data": {
      "text/plain": [
       "tensor([13.9323,  6.9273,  1.6042,  0.3164], device='cuda:0')"
      ]
     },
     "execution_count": 118,
     "metadata": {},
     "output_type": "execute_result"
    }
   ],
   "source": [
    "class_weights"
   ]
  },
  {
   "cell_type": "code",
   "execution_count": 119,
   "metadata": {},
   "outputs": [
    {
     "name": "stdout",
     "output_type": "stream",
     "text": [
      "Input1 shape: torch.Size([64, 8])\n",
      "Input2 shape: torch.Size([64, 8])\n",
      "Targets shape: torch.Size([64])\n",
      "Targets dtype: torch.int64\n"
     ]
    }
   ],
   "source": [
    "# Inspect a batch from the training DataLoader\n",
    "for batch in dataloader_train:\n",
    "    input1, input2, targets = batch\n",
    "    print(\"Input1 shape:\", input1.shape)   # Expected: [batch_size, input_dim]\n",
    "    print(\"Input2 shape:\", input2.shape)   # Expected: [batch_size, input_dim]\n",
    "    print(\"Targets shape:\", targets.shape) # Expected: [batch_size]\n",
    "    print(\"Targets dtype:\", targets.dtype) # Expected: torch.long\n",
    "    break"
   ]
  },
  {
   "cell_type": "code",
   "execution_count": 120,
   "metadata": {},
   "outputs": [
    {
     "name": "stderr",
     "output_type": "stream",
     "text": [
      "c:\\Python312\\Lib\\site-packages\\torch\\optim\\lr_scheduler.py:28: UserWarning: The verbose parameter is deprecated. Please use get_last_lr() to access the learning rate.\n",
      "  warnings.warn(\"The verbose parameter is deprecated. Please use get_last_lr() \"\n"
     ]
    }
   ],
   "source": [
    "from tqdm import tqdm\n",
    "input_dim = len(columns_1)\n",
    "model = FullyConnectedClassifier(input_dim).to(device)\n",
    "\n",
    "criterion = nn.CrossEntropyLoss(weight=class_weights).to(device)\n",
    "optimizer = optim.Adam(model.parameters(), lr=0.001)\n",
    "scheduler = optim.lr_scheduler.ReduceLROnPlateau(optimizer, mode='min', \n",
    "                                                 factor=0.1, patience=3, \n",
    "                                                 verbose=True)"
   ]
  },
  {
   "cell_type": "code",
   "execution_count": 128,
   "metadata": {},
   "outputs": [
    {
     "name": "stderr",
     "output_type": "stream",
     "text": [
      "Epoch 1/12 - Training: 100%|██████████| 12790/12790 [01:35<00:00, 134.57it/s]\n"
     ]
    },
    {
     "name": "stdout",
     "output_type": "stream",
     "text": [
      "Epoch [1/12], Training Loss: 0.5595, Training Accuracy: 0.8116\n"
     ]
    },
    {
     "name": "stderr",
     "output_type": "stream",
     "text": [
      "Epoch 1/12 - Validation: 100%|██████████| 3198/3198 [00:10<00:00, 293.00it/s]\n"
     ]
    },
    {
     "name": "stdout",
     "output_type": "stream",
     "text": [
      "Epoch [1/12], Validation Loss: 2.8146, Validation Accuracy: 0.6047\n",
      "  -> Best model saved with Validation Loss: 2.8146\n"
     ]
    },
    {
     "name": "stderr",
     "output_type": "stream",
     "text": [
      "Epoch 2/12 - Training: 100%|██████████| 12790/12790 [01:34<00:00, 135.89it/s]\n"
     ]
    },
    {
     "name": "stdout",
     "output_type": "stream",
     "text": [
      "Epoch [2/12], Training Loss: 0.5595, Training Accuracy: 0.8116\n"
     ]
    },
    {
     "name": "stderr",
     "output_type": "stream",
     "text": [
      "Epoch 2/12 - Validation: 100%|██████████| 3198/3198 [00:10<00:00, 291.89it/s]\n"
     ]
    },
    {
     "name": "stdout",
     "output_type": "stream",
     "text": [
      "Epoch [2/12], Validation Loss: 2.7910, Validation Accuracy: 0.6039\n",
      "  -> Best model saved with Validation Loss: 2.7910\n"
     ]
    },
    {
     "name": "stderr",
     "output_type": "stream",
     "text": [
      "Epoch 3/12 - Training: 100%|██████████| 12790/12790 [01:35<00:00, 133.31it/s]\n"
     ]
    },
    {
     "name": "stdout",
     "output_type": "stream",
     "text": [
      "Epoch [3/12], Training Loss: 0.5593, Training Accuracy: 0.8113\n"
     ]
    },
    {
     "name": "stderr",
     "output_type": "stream",
     "text": [
      "Epoch 3/12 - Validation: 100%|██████████| 3198/3198 [00:11<00:00, 285.23it/s]\n"
     ]
    },
    {
     "name": "stdout",
     "output_type": "stream",
     "text": [
      "Epoch [3/12], Validation Loss: 2.7822, Validation Accuracy: 0.6011\n",
      "  -> Best model saved with Validation Loss: 2.7822\n"
     ]
    },
    {
     "name": "stderr",
     "output_type": "stream",
     "text": [
      "Epoch 4/12 - Training: 100%|██████████| 12790/12790 [01:43<00:00, 123.83it/s]\n"
     ]
    },
    {
     "name": "stdout",
     "output_type": "stream",
     "text": [
      "Epoch [4/12], Training Loss: 0.5594, Training Accuracy: 0.8120\n"
     ]
    },
    {
     "name": "stderr",
     "output_type": "stream",
     "text": [
      "Epoch 4/12 - Validation: 100%|██████████| 3198/3198 [00:10<00:00, 300.77it/s]\n"
     ]
    },
    {
     "name": "stdout",
     "output_type": "stream",
     "text": [
      "Epoch [4/12], Validation Loss: 2.7088, Validation Accuracy: 0.5981\n",
      "  -> Best model saved with Validation Loss: 2.7088\n"
     ]
    },
    {
     "name": "stderr",
     "output_type": "stream",
     "text": [
      "Epoch 5/12 - Training: 100%|██████████| 12790/12790 [01:36<00:00, 132.47it/s]\n"
     ]
    },
    {
     "name": "stdout",
     "output_type": "stream",
     "text": [
      "Epoch [5/12], Training Loss: 0.5589, Training Accuracy: 0.8117\n"
     ]
    },
    {
     "name": "stderr",
     "output_type": "stream",
     "text": [
      "Epoch 5/12 - Validation: 100%|██████████| 3198/3198 [00:10<00:00, 302.52it/s]\n"
     ]
    },
    {
     "name": "stdout",
     "output_type": "stream",
     "text": [
      "Epoch [5/12], Validation Loss: 2.7425, Validation Accuracy: 0.5950\n"
     ]
    },
    {
     "name": "stderr",
     "output_type": "stream",
     "text": [
      "Epoch 6/12 - Training: 100%|██████████| 12790/12790 [01:37<00:00, 130.54it/s]\n"
     ]
    },
    {
     "name": "stdout",
     "output_type": "stream",
     "text": [
      "Epoch [6/12], Training Loss: 0.5595, Training Accuracy: 0.8116\n"
     ]
    },
    {
     "name": "stderr",
     "output_type": "stream",
     "text": [
      "Epoch 6/12 - Validation: 100%|██████████| 3198/3198 [00:12<00:00, 259.71it/s]\n"
     ]
    },
    {
     "name": "stdout",
     "output_type": "stream",
     "text": [
      "Epoch [6/12], Validation Loss: 2.7124, Validation Accuracy: 0.5924\n"
     ]
    },
    {
     "name": "stderr",
     "output_type": "stream",
     "text": [
      "Epoch 7/12 - Training: 100%|██████████| 12790/12790 [01:39<00:00, 129.05it/s]\n"
     ]
    },
    {
     "name": "stdout",
     "output_type": "stream",
     "text": [
      "Epoch [7/12], Training Loss: 0.5594, Training Accuracy: 0.8117\n"
     ]
    },
    {
     "name": "stderr",
     "output_type": "stream",
     "text": [
      "Epoch 7/12 - Validation: 100%|██████████| 3198/3198 [00:09<00:00, 335.82it/s]\n"
     ]
    },
    {
     "name": "stdout",
     "output_type": "stream",
     "text": [
      "Epoch [7/12], Validation Loss: 2.7470, Validation Accuracy: 0.5955\n"
     ]
    },
    {
     "name": "stderr",
     "output_type": "stream",
     "text": [
      "Epoch 8/12 - Training: 100%|██████████| 12790/12790 [01:37<00:00, 130.86it/s]\n"
     ]
    },
    {
     "name": "stdout",
     "output_type": "stream",
     "text": [
      "Epoch [8/12], Training Loss: 0.5596, Training Accuracy: 0.8117\n"
     ]
    },
    {
     "name": "stderr",
     "output_type": "stream",
     "text": [
      "Epoch 8/12 - Validation: 100%|██████████| 3198/3198 [00:12<00:00, 263.95it/s]\n"
     ]
    },
    {
     "name": "stdout",
     "output_type": "stream",
     "text": [
      "Epoch [8/12], Validation Loss: 2.8062, Validation Accuracy: 0.6034\n"
     ]
    },
    {
     "name": "stderr",
     "output_type": "stream",
     "text": [
      "Epoch 9/12 - Training: 100%|██████████| 12790/12790 [01:37<00:00, 131.78it/s]\n"
     ]
    },
    {
     "name": "stdout",
     "output_type": "stream",
     "text": [
      "Epoch [9/12], Training Loss: 0.5593, Training Accuracy: 0.8112\n"
     ]
    },
    {
     "name": "stderr",
     "output_type": "stream",
     "text": [
      "Epoch 9/12 - Validation: 100%|██████████| 3198/3198 [00:10<00:00, 316.20it/s]\n"
     ]
    },
    {
     "name": "stdout",
     "output_type": "stream",
     "text": [
      "Epoch [9/12], Validation Loss: 2.7303, Validation Accuracy: 0.5994\n"
     ]
    },
    {
     "name": "stderr",
     "output_type": "stream",
     "text": [
      "Epoch 10/12 - Training: 100%|██████████| 12790/12790 [01:42<00:00, 125.32it/s]\n"
     ]
    },
    {
     "name": "stdout",
     "output_type": "stream",
     "text": [
      "Epoch [10/12], Training Loss: 0.5596, Training Accuracy: 0.8117\n"
     ]
    },
    {
     "name": "stderr",
     "output_type": "stream",
     "text": [
      "Epoch 10/12 - Validation: 100%|██████████| 3198/3198 [00:11<00:00, 274.17it/s]\n"
     ]
    },
    {
     "name": "stdout",
     "output_type": "stream",
     "text": [
      "Epoch [10/12], Validation Loss: 2.7896, Validation Accuracy: 0.6026\n"
     ]
    },
    {
     "name": "stderr",
     "output_type": "stream",
     "text": [
      "Epoch 11/12 - Training: 100%|██████████| 12790/12790 [01:33<00:00, 136.77it/s]\n"
     ]
    },
    {
     "name": "stdout",
     "output_type": "stream",
     "text": [
      "Epoch [11/12], Training Loss: 0.5586, Training Accuracy: 0.8118\n"
     ]
    },
    {
     "name": "stderr",
     "output_type": "stream",
     "text": [
      "Epoch 11/12 - Validation: 100%|██████████| 3198/3198 [00:12<00:00, 263.08it/s]\n"
     ]
    },
    {
     "name": "stdout",
     "output_type": "stream",
     "text": [
      "Epoch [11/12], Validation Loss: 2.7697, Validation Accuracy: 0.6001\n"
     ]
    },
    {
     "name": "stderr",
     "output_type": "stream",
     "text": [
      "Epoch 12/12 - Training: 100%|██████████| 12790/12790 [01:31<00:00, 139.52it/s]\n"
     ]
    },
    {
     "name": "stdout",
     "output_type": "stream",
     "text": [
      "Epoch [12/12], Training Loss: 0.5594, Training Accuracy: 0.8115\n"
     ]
    },
    {
     "name": "stderr",
     "output_type": "stream",
     "text": [
      "Epoch 12/12 - Validation: 100%|██████████| 3198/3198 [00:08<00:00, 363.73it/s]"
     ]
    },
    {
     "name": "stdout",
     "output_type": "stream",
     "text": [
      "Epoch [12/12], Validation Loss: 2.8024, Validation Accuracy: 0.5985\n"
     ]
    },
    {
     "name": "stderr",
     "output_type": "stream",
     "text": [
      "\n"
     ]
    }
   ],
   "source": [
    "num_epochs = 12\n",
    "train_loss_history = []\n",
    "val_loss_history = []\n",
    "train_accuracy_history = []\n",
    "val_accuracy_history = []\n",
    "best_val_loss = float('inf')\n",
    "for epoch in range(num_epochs):\n",
    "    # -----------------------------\n",
    "    # 5.1. Training Phase\n",
    "    # -----------------------------\n",
    "    model.train()\n",
    "    running_loss = 0.0\n",
    "    correct_train = 0\n",
    "    total_train = 0\n",
    "\n",
    "    for vec1, vec2, target in tqdm(dataloader_train, desc=f\"Epoch {epoch+1}/{num_epochs} - Training\"):\n",
    "        vec1, vec2, target = vec1.to(device), vec2.to(device), target.to(device)\n",
    "        \n",
    "        optimizer.zero_grad()\n",
    "        output = model(vec1, vec2)\n",
    "        loss = criterion(output, target)\n",
    "        loss.backward()\n",
    "        optimizer.step()\n",
    "        \n",
    "        running_loss += loss.item() * vec1.size(0)  # Accumulate loss\n",
    "        \n",
    "        # Calculate training accuracy\n",
    "        _, predicted = torch.max(output, 1)\n",
    "        total_train += target.size(0)\n",
    "        correct_train += (predicted == target).sum().item()\n",
    "    \n",
    "    epoch_train_loss = running_loss / len(dataloader_train.dataset)\n",
    "    train_loss_history.append(epoch_train_loss)\n",
    "    \n",
    "    epoch_train_accuracy = correct_train / total_train\n",
    "    train_accuracy_history.append(epoch_train_accuracy)\n",
    "    \n",
    "    print(f\"Epoch [{epoch+1}/{num_epochs}], Training Loss: {epoch_train_loss:.4f}, Training Accuracy: {epoch_train_accuracy:.4f}\")\n",
    "    \n",
    "    # -----------------------------\n",
    "    # 5.2. Validation Phase\n",
    "    # -----------------------------\n",
    "    model.eval()\n",
    "    val_running_loss = 0.0\n",
    "    correct_val = 0\n",
    "    total_val = 0\n",
    "\n",
    "    with torch.no_grad():\n",
    "        for vec1, vec2, target in tqdm(dataloader_test, desc=f\"Epoch {epoch+1}/{num_epochs} - Validation\"):\n",
    "            vec1, vec2, target = vec1.to(device), vec2.to(device), target.to(device)\n",
    "            \n",
    "            output = model(vec1, vec2)\n",
    "            loss = criterion(output, target)\n",
    "            val_running_loss += loss.item() * vec1.size(0)  # Accumulate loss\n",
    "            \n",
    "            # Calculate validation accuracy\n",
    "            _, predicted = torch.max(output, 1)\n",
    "            total_val += target.size(0)\n",
    "            correct_val += (predicted == target).sum().item()\n",
    "    \n",
    "    epoch_val_loss = val_running_loss / len(dataloader_test.dataset)\n",
    "    val_loss_history.append(epoch_val_loss)\n",
    "    \n",
    "    epoch_val_accuracy = correct_val / total_val\n",
    "    val_accuracy_history.append(epoch_val_accuracy)\n",
    "    \n",
    "    print(f\"Epoch [{epoch+1}/{num_epochs}], Validation Loss: {epoch_val_loss:.4f}, Validation Accuracy: {epoch_val_accuracy:.4f}\")\n",
    "    \n",
    "    # -----------------------------\n",
    "    # 5.3. Step the Scheduler\n",
    "    # -----------------------------\n",
    "    if epoch_val_loss < best_val_loss:\n",
    "        best_val_loss = epoch_val_loss\n",
    "        torch.save(model.state_dict(), \"DL-classifier.pth\")\n",
    "        print(f\"  -> Best model saved with Validation Loss: {best_val_loss:.4f}\")\n",
    "    \n",
    "    scheduler.step(epoch_val_loss)"
   ]
  },
  {
   "cell_type": "code",
   "execution_count": 122,
   "metadata": {},
   "outputs": [],
   "source": [
    "train_hist_loss= []\n",
    "val_hist_loss = []\n",
    "train_hist_acc = []\n",
    "val_hist_acc = []\n"
   ]
  },
  {
   "cell_type": "code",
   "execution_count": 129,
   "metadata": {},
   "outputs": [
    {
     "data": {
      "image/png": "[encoded data removed]",
      "text/plain": [
       "<Figure size 1000x600 with 1 Axes>"
      ]
     },
     "metadata": {},
     "output_type": "display_data"
    }
   ],
   "source": [
    "\n",
    "\n",
    "train_hist_loss.extend(train_loss_history)\n",
    "val_hist_loss.extend(val_loss_history)\n",
    "train_hist_acc.extend(train_accuracy_history)\n",
    "val_hist_acc.extend(val_accuracy_history)\n",
    "\n",
    "epochs = range(1,len(train_hist_loss)+1)\n",
    "plt.figure(figsize=(10, 6))\n",
    "plt.plot(epochs, train_hist_acc, 'bo-', label='Training ')\n",
    "plt.plot(epochs, val_hist_acc, 'ro-', label='Validation ')\n",
    "plt.title('Training and Validation Accuracy')\n",
    "plt.xlabel('Epochs')\n",
    "plt.ylabel('Accuracy')\n",
    "plt.legend()\n",
    "plt.grid(True)\n",
    "plt.show()"
   ]
  },
  {
   "cell_type": "code",
   "execution_count": null,
   "metadata": {},
   "outputs": [
    {
     "data": {
      "image/png": "[encoded data removed]",
      "text/plain": [
       "<Figure size 1000x600 with 1 Axes>"
      ]
     },
     "metadata": {},
     "output_type": "display_data"
    },
    {
     "ename": "",
     "evalue": "",
     "output_type": "error",
     "traceback": [
      "\u001b[1;31mThe Kernel crashed while executing code in the current cell or a previous cell. \n",
      "\u001b[1;31mPlease review the code in the cell(s) to identify a possible cause of the failure. \n",
      "\u001b[1;31mClick <a href='https://aka.ms/vscodeJupyterKernelCrash'>here</a> for more info. \n",
      "\u001b[1;31mView Jupyter <a href='command:jupyter.viewOutput'>log</a> for further details."
     ]
    }
   ],
   "source": [
    "epochs = range(1,len(train_hist_loss)+1)\n",
    "plt.figure(figsize=(10, 6))\n",
    "plt.plot(epochs, train_hist_loss, 'bo-', label='Training ')\n",
    "plt.plot(epochs, val_hist_loss, 'ro-', label='Validation ')\n",
    "plt.title('Training and Validation loss')\n",
    "plt.xlabel('Epochs')\n",
    "plt.ylabel('loss')\n",
    "plt.legend()\n",
    "plt.grid(True)\n",
    "plt.show()"
   ]
  },
  {
   "cell_type": "code",
   "execution_count": 107,
   "metadata": {},
   "outputs": [
    {
     "name": "stderr",
     "output_type": "stream",
     "text": [
      "Evaluating on Test Set: 100%|██████████| 6395/6395 [00:15<00:00, 412.31it/s]\n"
     ]
    },
    {
     "name": "stdout",
     "output_type": "stream",
     "text": [
      "Test Set Classification Report:\n",
      "              precision    recall  f1-score   support\n",
      "\n",
      "           A       0.03      0.28      0.05      3672\n",
      "           B       0.04      0.00      0.00      7385\n",
      "           C       0.16      0.08      0.10     31890\n",
      "           D       0.82      0.76      0.79    161692\n",
      "\n",
      "    accuracy                           0.62    204639\n",
      "   macro avg       0.26      0.28      0.24    204639\n",
      "weighted avg       0.68      0.62      0.64    204639\n",
      "\n"
     ]
    },
    {
     "data": {
      "image/png": "[encoded data removed]",
      "text/plain": [
       "<Figure size 800x600 with 2 Axes>"
      ]
     },
     "metadata": {},
     "output_type": "display_data"
    }
   ],
   "source": [
    "from sklearn.metrics import classification_report, confusion_matrix\n",
    "\n",
    "# model.load_state_dict(torch.load(best_model_path))\n",
    "model.to(device)\n",
    "\n",
    "model.eval()\n",
    "all_test_targets = []\n",
    "all_test_predictions = []\n",
    "\n",
    "with torch.no_grad():\n",
    "    for vec1, vec2, target in tqdm(dataloader_test, desc=\"Evaluating on Test Set\"):\n",
    "        vec1, vec2, target = vec1.to(device), vec2.to(device), target.to(device)\n",
    "        output = model(vec1, vec2)\n",
    "        _, predicted = torch.max(output, 1)\n",
    "        all_test_targets.extend(target.cpu().numpy())\n",
    "        all_test_predictions.extend(predicted.cpu().numpy())\n",
    "\n",
    "# Generate Classification Report\n",
    "test_class_report = classification_report(all_test_targets, all_test_predictions, target_names=le.classes_, zero_division=0)\n",
    "print(\"Test Set Classification Report:\")\n",
    "print(test_class_report)\n",
    "\n",
    "# Generate Confusion Matrix\n",
    "conf_mat = confusion_matrix(all_test_targets, all_test_predictions, labels=range(len(le.classes_)))\n",
    "plt.figure(figsize=(8,6))\n",
    "sns.heatmap(conf_mat, annot=True, fmt='d', xticklabels=le.classes_, yticklabels=le.classes_, cmap='Blues')\n",
    "plt.xlabel('Predicted')\n",
    "plt.ylabel('Actual')\n",
    "plt.title('Confusion Matrix on Test Set')\n",
    "plt.show()"
   ]
  }
 ],
 "metadata": {
  "kernelspec": {
   "display_name": "Python 3",
   "language": "python",
   "name": "python3"
  },
  "language_info": {
   "codemirror_mode": {
    "name": "ipython",
    "version": 3
   },
   "file_extension": ".py",
   "mimetype": "text/x-python",
   "name": "python",
   "nbconvert_exporter": "python",
   "pygments_lexer": "ipython3",
   "version": "3.12.3"
  }
 },
 "nbformat": 4,
 "nbformat_minor": 2
}
