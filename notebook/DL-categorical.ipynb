{
 "cells": [
  {
   "cell_type": "code",
   "execution_count": 1,
   "metadata": {},
   "outputs": [],
   "source": [
    "import pandas as pd\n",
    "import numpy as np\n",
    "import matplotlib.pyplot as plt\n",
    "import seaborn as sns\n",
    "from sklearn.preprocessing import MinMaxScaler , StandardScaler\n",
    "import pickle"
   ]
  },
  {
   "cell_type": "code",
   "execution_count": 2,
   "metadata": {},
   "outputs": [],
   "source": [
    "import torch\n",
    "import torch.nn as nn\n",
    "import torch.optim as optim\n",
    "import torch.nn.functional as F\n",
    "from torch.utils.data import DataLoader, Dataset\n",
    "from sklearn.preprocessing import LabelEncoder\n"
   ]
  },
  {
   "cell_type": "code",
   "execution_count": 90,
   "metadata": {},
   "outputs": [],
   "source": [
    "df_filtered = pd.read_csv('df_filtered.csv')"
   ]
  },
  {
   "cell_type": "code",
   "execution_count": 91,
   "metadata": {},
   "outputs": [
    {
     "name": "stdout",
     "output_type": "stream",
     "text": [
      "Label Mapping: {'A': 0, 'B': 1, 'C': 2, 'D': 3}\n"
     ]
    }
   ],
   "source": [
    "le = LabelEncoder()\n",
    "df_filtered['Cross Reference Type_encoded'] = le.fit_transform(df_filtered['Cross Reference Type'])\n",
    "\n",
    "# Display the mapping\n",
    "label_mapping = dict(zip(le.classes_, le.transform(le.classes_)))\n",
    "print(\"Label Mapping:\", label_mapping)"
   ]
  },
  {
   "cell_type": "code",
   "execution_count": 92,
   "metadata": {},
   "outputs": [
    {
     "data": {
      "text/plain": [
       "Cross Reference Type\n",
       "D    808455\n",
       "C    159451\n",
       "B     36926\n",
       "A     18360\n",
       "Name: count, dtype: int64"
      ]
     },
     "execution_count": 92,
     "metadata": {},
     "output_type": "execute_result"
    }
   ],
   "source": [
    "df_filtered[\"Cross Reference Type\"].value_counts()"
   ]
  },
  {
   "cell_type": "code",
   "execution_count": 93,
   "metadata": {},
   "outputs": [],
   "source": [
    "# Get dummies (one-hot encoding) for both columns\n",
    "supplier_package_encoded = pd.get_dummies(df_filtered['Supplier_Package'], prefix='pkg')\n",
    "supplier_package_comp_encoded = pd.get_dummies(df_filtered['Supplier_Package_comp'], prefix='pkg_comp')\n",
    "\n",
    "# Drop original columns and concatenate one-hot encoded columns\n",
    "df_filtered = pd.concat([\n",
    "    df_filtered.drop(['Supplier_Package', 'Supplier_Package_comp'], axis=1),\n",
    "    supplier_package_encoded,\n",
    "    supplier_package_comp_encoded\n",
    "], axis=1)\n"
   ]
  },
  {
   "cell_type": "code",
   "execution_count": 111,
   "metadata": {},
   "outputs": [],
   "source": [
    "columns_1 = ['Maximum Input Offset Voltage', 'Maximum Single Supply Voltage','Minimum Single Supply Voltage', 'Number of Channels per Chip' , 'Typical Gain Bandwidth Product'] + supplier_package_encoded.columns.tolist()\n",
    "columns_2 = [ 'Maximum Input Offset Voltage_comp',\n",
    "       'Maximum Single Supply Voltage_comp',\n",
    "       'Minimum Single Supply Voltage_comp',\n",
    "       'Number of Channels per Chip_comp',\n",
    "       'Typical Gain Bandwidth Product_comp'] + supplier_package_comp_encoded.columns.tolist()\n",
    "# categorical_columns=['MPN', 'MANUFACTURER','Supplier_Package','MPN_comp',\n",
    "#        'MANUFACTURER_comp','Supplier_Package_comp']\n"
   ]
  },
  {
   "cell_type": "code",
   "execution_count": 98,
   "metadata": {},
   "outputs": [],
   "source": [
    "from sklearn.model_selection import train_test_split\n",
    "def split_dataframe(df, train_percent=0.8, validate_percent=0.1, test_percent=0.1, random_state=42, stratify_col=\"Cross Reference Type\"):\n",
    "    assert train_percent + validate_percent + test_percent == 1, \"Split percentages must sum to 1.\"\n",
    "\n",
    "    # First split: Train and Temp (Validate + Test)\n",
    "    train_df, temp_df = train_test_split(\n",
    "        df,\n",
    "        test_size=(validate_percent + test_percent),\n",
    "        stratify=df[stratify_col],\n",
    "        random_state=random_state\n",
    "    )\n",
    "    \n",
    "    # Calculate the proportion of validation and test from the Temp split\n",
    "    if validate_percent==0:\n",
    "        return train_df, temp_df\n",
    "    test_size = test_percent / (validate_percent + test_percent)\n",
    "    \n",
    "    # Second split: Validate and Test\n",
    "    validate_df, test_df = train_test_split(\n",
    "        temp_df,\n",
    "        test_size=test_size,\n",
    "        stratify=temp_df[stratify_col],\n",
    "        random_state=random_state\n",
    "    )\n",
    "    \n",
    "    return train_df, validate_df, test_df"
   ]
  },
  {
   "cell_type": "code",
   "execution_count": 99,
   "metadata": {},
   "outputs": [
    {
     "name": "stdout",
     "output_type": "stream",
     "text": [
      "Cross Reference Type\n",
      "D    565918\n",
      "C    111616\n",
      "B     25848\n",
      "A     12852\n",
      "Name: count, dtype: int64\n",
      "Cross Reference Type\n",
      "D    0.790131\n",
      "C    0.155836\n",
      "B    0.036090\n",
      "A    0.017944\n",
      "Name: proportion, dtype: float64\n"
     ]
    }
   ],
   "source": [
    "train_df,  test_df = split_dataframe(df_filtered,train_percent=0.7,validate_percent=0,test_percent=0.3,random_state=1772341)\n",
    "print(train_df[\"Cross Reference Type\"].value_counts(normalize=False))\n",
    "\n",
    "print(test_df[\"Cross Reference Type\"].value_counts(normalize=True))"
   ]
  },
  {
   "cell_type": "code",
   "execution_count": 100,
   "metadata": {},
   "outputs": [],
   "source": [
    "def fix_classes(df,random_state=1772341, n=12852):\n",
    "    class_A = df[train_df[\"Cross Reference Type\"] == \"A\"]\n",
    "    class_B = df[train_df[\"Cross Reference Type\"].isin([\"B\"])]\n",
    "    class_C = df[train_df[\"Cross Reference Type\"].isin([\"C\"])]\n",
    "    class_D = df[train_df[\"Cross Reference Type\"].isin([\"D\"])]\n",
    "    class_B_downsampled = class_B.sample(n=n, random_state=random_state)\n",
    "    class_C_downsampled = class_C.sample(n=n,random_state=random_state)\n",
    "    class_A_oversampled = class_A.sample(n=n,random_state=random_state)\n",
    "    class_D_downsampled = class_D.sample(n=n,random_state=random_state)\n",
    "    return pd.concat([class_A_oversampled, class_B_downsampled, class_C_downsampled,class_D_downsampled],axis=  0)"
   ]
  },
  {
   "cell_type": "code",
   "execution_count": 101,
   "metadata": {},
   "outputs": [],
   "source": [
    "train_df = fix_classes(train_df)"
   ]
  },
  {
   "cell_type": "code",
   "execution_count": 102,
   "metadata": {},
   "outputs": [
    {
     "data": {
      "text/plain": [
       "Cross Reference Type\n",
       "A    12852\n",
       "B    12852\n",
       "C    12852\n",
       "D    12852\n",
       "Name: count, dtype: int64"
      ]
     },
     "execution_count": 102,
     "metadata": {},
     "output_type": "execute_result"
    }
   ],
   "source": [
    "train_df[\"Cross Reference Type\"].value_counts()"
   ]
  },
  {
   "cell_type": "code",
   "execution_count": null,
   "metadata": {},
   "outputs": [],
   "source": []
  },
  {
   "cell_type": "code",
   "execution_count": 122,
   "metadata": {},
   "outputs": [],
   "source": [
    "import torch\n",
    "from torch.utils.data import Dataset\n",
    "from sklearn.preprocessing import LabelEncoder, OneHotEncoder\n",
    "\n",
    "class CustomVectorDataset(Dataset):\n",
    "    def __init__(self, dataframe, vector1_columns, vector2_columns, target_column):\n",
    "        \"\"\"\n",
    "        Args:\n",
    "            dataframe (pd.DataFrame): The DataFrame containing the data.\n",
    "            vector1_columns (list): List of column names for the first vector.\n",
    "            vector2_columns (list): List of column names for the second vector.\n",
    "            target_column (str): The column name for the target value.\n",
    "            categorical_columns (list): List of column names that are categorical.\n",
    "        \"\"\"\n",
    "        self.dataframe = dataframe.copy()\n",
    "        self.vector1_columns = vector1_columns\n",
    "        self.vector2_columns = vector2_columns\n",
    "        self.target_column = target_column\n",
    "\n",
    "        \n",
    "        # Label encode categorical columns\n",
    "        # Convert columns to tensors\n",
    "        self.vector1 = torch.tensor(self.dataframe[self.vector1_columns].values.astype(np.float32), dtype=torch.float32)\n",
    "        self.vector2 = torch.tensor(self.dataframe[self.vector2_columns].values.astype(np.float32), dtype=torch.float32)\n",
    "        self.target = torch.tensor(self.dataframe[self.target_column].values, dtype=torch.long)  # Changed to long for classification\n",
    "\n",
    "    def __len__(self):\n",
    "        return len(self.dataframe)\n",
    "    \n",
    "    def __getitem__(self, idx):\n",
    "        vector1 = self.vector1[idx]\n",
    "        vector2 = self.vector2[idx]\n",
    "        target = self.target[idx]  # Already a LongTensor and 1D\n",
    "        return vector1, vector2, target"
   ]
  },
  {
   "cell_type": "code",
   "execution_count": 182,
   "metadata": {},
   "outputs": [],
   "source": [
    "class CNNClassifier(nn.Module):\n",
    "    def __init__(self, input_dim, num_classes=4):\n",
    "        super(CNNClassifier, self).__init__()\n",
    "        combined_dim = input_dim * 2  # Concatenated input dimensions\n",
    "\n",
    "        self.features = nn.Sequential(\n",
    "            nn.Conv1d(in_channels=1, out_channels=16, kernel_size=3, padding=1),\n",
    "            nn.BatchNorm1d(16),\n",
    "            nn.ReLU(),\n",
    "            nn.MaxPool1d(kernel_size=2),\n",
    "            nn.Dropout(p=0.1),\n",
    "            \n",
    "            nn.Conv1d(in_channels=16, out_channels=32, kernel_size=3, padding=1),\n",
    "            nn.BatchNorm1d(32),\n",
    "            nn.ReLU(),\n",
    "            nn.MaxPool1d(kernel_size=2),\n",
    "            nn.Dropout(p=0.1),\n",
    "        )\n",
    "\n",
    "        self.classifier = nn.Sequential(\n",
    "            nn.Linear(32 * (combined_dim // 4), 64),\n",
    "            nn.ReLU(),\n",
    "            nn.Dropout(p=0.1),\n",
    "            nn.Linear(64, num_classes)\n",
    "        )\n",
    "\n",
    "    def forward(self, input1, input2):\n",
    "        combined = torch.cat((input1, input2), dim=1).unsqueeze(1)  # Shape: (batch_size, 1, combined_dim)\n",
    "        x = self.features(combined)\n",
    "        x = x.view(x.size(0), -1)  # Flatten\n",
    "        out = self.classifier(x)\n",
    "        return out"
   ]
  },
  {
   "cell_type": "code",
   "execution_count": 171,
   "metadata": {},
   "outputs": [],
   "source": [
    "import torch\n",
    "import torch.nn as nn\n",
    "\n",
    "class FullyConnectedClassifier(nn.Module):\n",
    "    def __init__(self, input_dim, num_classes=4):\n",
    "        super(FullyConnectedClassifier, self).__init__()\n",
    "        combined_dim = input_dim * 2  # Concatenated input dimensions\n",
    "\n",
    "        self.feature_extractor = nn.Sequential(\n",
    "            nn.Linear(combined_dim, 16),\n",
    "            nn.BatchNorm1d(16),\n",
    "            nn.ReLU(),\n",
    "            nn.Dropout(p=0.01),\n",
    "            # nn.Linear(32, 16),\n",
    "            # nn.BatchNorm1d(16),\n",
    "            # nn.ReLU(),\n",
    "            # nn.Dropout(p=0.05),\n",
    "        )\n",
    "\n",
    "        self.classifier = nn.Sequential(\n",
    "            nn.Linear(16, 8),\n",
    "            nn.BatchNorm1d(8),\n",
    "            nn.ReLU(),\n",
    "\n",
    "            nn.Linear(8, num_classes)\n",
    "        )\n",
    "\n",
    "    def forward(self, input1, input2):\n",
    "        combined = torch.cat((input1, input2), dim=1)\n",
    "        features = self.feature_extractor(combined)\n",
    "        out = self.classifier(features)\n",
    "        return out"
   ]
  },
  {
   "cell_type": "code",
   "execution_count": 124,
   "metadata": {},
   "outputs": [
    {
     "data": {
      "text/plain": [
       "Index(['Cross Reference Type', 'MPN', 'MANUFACTURER',\n",
       "       'Maximum Input Offset Voltage', 'Maximum Single Supply Voltage',\n",
       "       'Minimum Single Supply Voltage', 'Number of Channels per Chip',\n",
       "       'Typical Gain Bandwidth Product', 'MPN_comp', 'MANUFACTURER_comp',\n",
       "       ...\n",
       "       'pkg_comp_WSON EP', 'pkg_comp_Wafer', 'pkg_comp_X1SON',\n",
       "       'pkg_comp_X2QFN', 'pkg_comp_X2SON EP', 'pkg_comp_XCEPT',\n",
       "       'pkg_comp_uMAX', 'pkg_comp_uMAX EP', 'pkg_comp_uSMD', 'pkg_comp_uSOIC'],\n",
       "      dtype='object', length=310)"
      ]
     },
     "execution_count": 124,
     "metadata": {},
     "output_type": "execute_result"
    }
   ],
   "source": [
    "train_df.columns"
   ]
  },
  {
   "cell_type": "code",
   "execution_count": 136,
   "metadata": {},
   "outputs": [],
   "source": [
    "batch_size = 4"
   ]
  },
  {
   "cell_type": "code",
   "execution_count": 146,
   "metadata": {},
   "outputs": [],
   "source": [
    "torch.manual_seed(1772341)\n",
    "dataset_train = CustomVectorDataset(train_df,columns_1,columns_2, 'Cross Reference Type_encoded')\n",
    "dataloader_train = DataLoader(dataset_train, batch_size=batch_size, shuffle=True)\n",
    "# Test\n",
    "dataset_test = CustomVectorDataset(test_df, columns_1, columns_2, 'Cross Reference Type_encoded')\n",
    "dataloader_test = DataLoader(dataset_test, batch_size=64, shuffle=False)\n",
    "# Validation\n",
    "# dataset_validate = CustomVectorDataset(validate_df, columns_1, columns_2, 'Closeness', categorical_columns=categorical_columns)\n",
    "# dataloader_validate = DataLoader(dataset_validate, batch_size=batch_size, shuffle=False)"
   ]
  },
  {
   "cell_type": "code",
   "execution_count": 138,
   "metadata": {},
   "outputs": [
    {
     "name": "stdout",
     "output_type": "stream",
     "text": [
      "Using device: cuda\n"
     ]
    }
   ],
   "source": [
    "import torch\n",
    "\n",
    "device = torch.device('cuda' if torch.cuda.is_available() else 'cpu')\n",
    "print(f'Using device: {device}')"
   ]
  },
  {
   "cell_type": "code",
   "execution_count": 139,
   "metadata": {},
   "outputs": [],
   "source": [
    "from sklearn.utils.class_weight import compute_class_weight\n",
    "class_weights = compute_class_weight(class_weight='balanced', classes=np.unique(train_df[\"Cross Reference Type_encoded\"]), y=train_df[\"Cross Reference Type_encoded\"])\n",
    "class_weights = torch.tensor(class_weights, dtype=torch.float).to(device)\n"
   ]
  },
  {
   "cell_type": "code",
   "execution_count": 140,
   "metadata": {},
   "outputs": [
    {
     "data": {
      "text/plain": [
       "array([0, 1, 2, 3])"
      ]
     },
     "execution_count": 140,
     "metadata": {},
     "output_type": "execute_result"
    }
   ],
   "source": [
    "np.unique(train_df[\"Cross Reference Type_encoded\"])"
   ]
  },
  {
   "cell_type": "code",
   "execution_count": 141,
   "metadata": {},
   "outputs": [
    {
     "data": {
      "text/plain": [
       "tensor([1., 1., 1., 1.], device='cuda:0')"
      ]
     },
     "execution_count": 141,
     "metadata": {},
     "output_type": "execute_result"
    }
   ],
   "source": [
    "class_weights"
   ]
  },
  {
   "cell_type": "code",
   "execution_count": 142,
   "metadata": {},
   "outputs": [
    {
     "name": "stdout",
     "output_type": "stream",
     "text": [
      "Input1 shape: torch.Size([4, 152])\n",
      "Input2 shape: torch.Size([4, 152])\n",
      "Targets shape: torch.Size([4])\n",
      "Targets dtype: torch.int64\n"
     ]
    }
   ],
   "source": [
    "# Inspect a batch from the training DataLoader\n",
    "for batch in dataloader_train:\n",
    "    input1, input2, targets = batch\n",
    "    print(\"Input1 shape:\", input1.shape)   # Expected: [batch_size, input_dim]\n",
    "    print(\"Input2 shape:\", input2.shape)   # Expected: [batch_size, input_dim]\n",
    "    print(\"Targets shape:\", targets.shape) # Expected: [batch_size]\n",
    "    print(\"Targets dtype:\", targets.dtype) # Expected: torch.long\n",
    "    break"
   ]
  },
  {
   "cell_type": "code",
   "execution_count": 183,
   "metadata": {},
   "outputs": [
    {
     "name": "stderr",
     "output_type": "stream",
     "text": [
      "c:\\Python312\\Lib\\site-packages\\torch\\optim\\lr_scheduler.py:28: UserWarning: The verbose parameter is deprecated. Please use get_last_lr() to access the learning rate.\n",
      "  warnings.warn(\"The verbose parameter is deprecated. Please use get_last_lr() \"\n"
     ]
    }
   ],
   "source": [
    "from tqdm import tqdm\n",
    "input_dim = len(columns_1)\n",
    "# model = FullyConnectedClassifier(input_dim).to(device)\n",
    "model = CNNClassifier(input_dim).to(device)\n",
    "criterion = nn.CrossEntropyLoss(weight=class_weights).to(device)\n",
    "optimizer = optim.Adadelta(model.parameters(), lr=1, weight_decay=1e-5)\n",
    "scheduler = optim.lr_scheduler.ReduceLROnPlateau(\n",
    "    optimizer,\n",
    "    mode='min',           # Reduce LR when the validation loss stops decreasing\n",
    "    factor=0.5,          # Multiply LR by 0.5 when plateauing (less aggressive than 0.1)\n",
    "    patience=1,          # Number of epochs with no improvement after which LR will be reduced\n",
    "    verbose=True,        # Print message when LR is reduced\n",
    "    min_lr=1e-6         # Minimum LR value\n",
    ")"
   ]
  },
  {
   "cell_type": "code",
   "execution_count": 190,
   "metadata": {},
   "outputs": [
    {
     "name": "stderr",
     "output_type": "stream",
     "text": [
      "Epoch 1/10 - Training: 100%|██████████| 12852/12852 [01:03<00:00, 201.22it/s]\n"
     ]
    },
    {
     "name": "stdout",
     "output_type": "stream",
     "text": [
      "Epoch [1/10], Training Loss: 0.5978, Training Accuracy: 0.7377\n"
     ]
    },
    {
     "name": "stderr",
     "output_type": "stream",
     "text": [
      "Epoch 1/10 - Validation: 100%|██████████| 4797/4797 [00:11<00:00, 427.65it/s]\n"
     ]
    },
    {
     "name": "stdout",
     "output_type": "stream",
     "text": [
      "Epoch [1/10], Validation Loss: 0.4083, Validation Accuracy: 0.8421\n",
      "  -> Best model saved with Validation Loss: 0.4083\n"
     ]
    },
    {
     "name": "stderr",
     "output_type": "stream",
     "text": [
      "Epoch 2/10 - Training: 100%|██████████| 12852/12852 [01:04<00:00, 198.45it/s]\n"
     ]
    },
    {
     "name": "stdout",
     "output_type": "stream",
     "text": [
      "Epoch [2/10], Training Loss: 0.5972, Training Accuracy: 0.7358\n"
     ]
    },
    {
     "name": "stderr",
     "output_type": "stream",
     "text": [
      "Epoch 2/10 - Validation: 100%|██████████| 4797/4797 [00:10<00:00, 442.82it/s]\n"
     ]
    },
    {
     "name": "stdout",
     "output_type": "stream",
     "text": [
      "Epoch [2/10], Validation Loss: 0.3975, Validation Accuracy: 0.8497\n",
      "  -> Best model saved with Validation Loss: 0.3975\n"
     ]
    },
    {
     "name": "stderr",
     "output_type": "stream",
     "text": [
      "Epoch 3/10 - Training: 100%|██████████| 12852/12852 [01:00<00:00, 211.75it/s]\n"
     ]
    },
    {
     "name": "stdout",
     "output_type": "stream",
     "text": [
      "Epoch [3/10], Training Loss: 0.5941, Training Accuracy: 0.7375\n"
     ]
    },
    {
     "name": "stderr",
     "output_type": "stream",
     "text": [
      "Epoch 3/10 - Validation: 100%|██████████| 4797/4797 [00:10<00:00, 445.06it/s]\n"
     ]
    },
    {
     "name": "stdout",
     "output_type": "stream",
     "text": [
      "Epoch [3/10], Validation Loss: 0.4127, Validation Accuracy: 0.8415\n"
     ]
    },
    {
     "name": "stderr",
     "output_type": "stream",
     "text": [
      "Epoch 4/10 - Training: 100%|██████████| 12852/12852 [01:00<00:00, 211.87it/s]\n"
     ]
    },
    {
     "name": "stdout",
     "output_type": "stream",
     "text": [
      "Epoch [4/10], Training Loss: 0.5981, Training Accuracy: 0.7360\n"
     ]
    },
    {
     "name": "stderr",
     "output_type": "stream",
     "text": [
      "Epoch 4/10 - Validation: 100%|██████████| 4797/4797 [00:10<00:00, 448.11it/s]\n"
     ]
    },
    {
     "name": "stdout",
     "output_type": "stream",
     "text": [
      "Epoch [4/10], Validation Loss: 0.3980, Validation Accuracy: 0.8451\n"
     ]
    },
    {
     "name": "stderr",
     "output_type": "stream",
     "text": [
      "Epoch 5/10 - Training: 100%|██████████| 12852/12852 [01:00<00:00, 211.55it/s]\n"
     ]
    },
    {
     "name": "stdout",
     "output_type": "stream",
     "text": [
      "Epoch [5/10], Training Loss: 0.5930, Training Accuracy: 0.7371\n"
     ]
    },
    {
     "name": "stderr",
     "output_type": "stream",
     "text": [
      "Epoch 5/10 - Validation: 100%|██████████| 4797/4797 [00:11<00:00, 422.50it/s]\n"
     ]
    },
    {
     "name": "stdout",
     "output_type": "stream",
     "text": [
      "Epoch [5/10], Validation Loss: 0.4063, Validation Accuracy: 0.8428\n"
     ]
    },
    {
     "name": "stderr",
     "output_type": "stream",
     "text": [
      "Epoch 6/10 - Training: 100%|██████████| 12852/12852 [01:05<00:00, 194.79it/s]\n"
     ]
    },
    {
     "name": "stdout",
     "output_type": "stream",
     "text": [
      "Epoch [6/10], Training Loss: 0.5956, Training Accuracy: 0.7331\n"
     ]
    },
    {
     "name": "stderr",
     "output_type": "stream",
     "text": [
      "Epoch 6/10 - Validation: 100%|██████████| 4797/4797 [00:11<00:00, 420.53it/s]\n"
     ]
    },
    {
     "name": "stdout",
     "output_type": "stream",
     "text": [
      "Epoch [6/10], Validation Loss: 0.4018, Validation Accuracy: 0.8459\n"
     ]
    },
    {
     "name": "stderr",
     "output_type": "stream",
     "text": [
      "Epoch 7/10 - Training: 100%|██████████| 12852/12852 [01:05<00:00, 195.22it/s]\n"
     ]
    },
    {
     "name": "stdout",
     "output_type": "stream",
     "text": [
      "Epoch [7/10], Training Loss: 0.5956, Training Accuracy: 0.7388\n"
     ]
    },
    {
     "name": "stderr",
     "output_type": "stream",
     "text": [
      "Epoch 7/10 - Validation: 100%|██████████| 4797/4797 [00:11<00:00, 435.63it/s]\n"
     ]
    },
    {
     "name": "stdout",
     "output_type": "stream",
     "text": [
      "Epoch [7/10], Validation Loss: 0.4029, Validation Accuracy: 0.8430\n"
     ]
    },
    {
     "name": "stderr",
     "output_type": "stream",
     "text": [
      "Epoch 8/10 - Training: 100%|██████████| 12852/12852 [01:02<00:00, 205.04it/s]\n"
     ]
    },
    {
     "name": "stdout",
     "output_type": "stream",
     "text": [
      "Epoch [8/10], Training Loss: 0.5906, Training Accuracy: 0.7367\n"
     ]
    },
    {
     "name": "stderr",
     "output_type": "stream",
     "text": [
      "Epoch 8/10 - Validation: 100%|██████████| 4797/4797 [00:10<00:00, 451.43it/s]\n"
     ]
    },
    {
     "name": "stdout",
     "output_type": "stream",
     "text": [
      "Epoch [8/10], Validation Loss: 0.3981, Validation Accuracy: 0.8456\n"
     ]
    },
    {
     "name": "stderr",
     "output_type": "stream",
     "text": [
      "Epoch 9/10 - Training: 100%|██████████| 12852/12852 [01:02<00:00, 205.26it/s]\n"
     ]
    },
    {
     "name": "stdout",
     "output_type": "stream",
     "text": [
      "Epoch [9/10], Training Loss: 0.5942, Training Accuracy: 0.7365\n"
     ]
    },
    {
     "name": "stderr",
     "output_type": "stream",
     "text": [
      "Epoch 9/10 - Validation: 100%|██████████| 4797/4797 [00:10<00:00, 457.19it/s]\n"
     ]
    },
    {
     "name": "stdout",
     "output_type": "stream",
     "text": [
      "Epoch [9/10], Validation Loss: 0.3984, Validation Accuracy: 0.8452\n"
     ]
    },
    {
     "name": "stderr",
     "output_type": "stream",
     "text": [
      "Epoch 10/10 - Training: 100%|██████████| 12852/12852 [01:02<00:00, 204.28it/s]\n"
     ]
    },
    {
     "name": "stdout",
     "output_type": "stream",
     "text": [
      "Epoch [10/10], Training Loss: 0.5990, Training Accuracy: 0.7355\n"
     ]
    },
    {
     "name": "stderr",
     "output_type": "stream",
     "text": [
      "Epoch 10/10 - Validation: 100%|██████████| 4797/4797 [00:11<00:00, 432.77it/s]"
     ]
    },
    {
     "name": "stdout",
     "output_type": "stream",
     "text": [
      "Epoch [10/10], Validation Loss: 0.4019, Validation Accuracy: 0.8444\n"
     ]
    },
    {
     "name": "stderr",
     "output_type": "stream",
     "text": [
      "\n"
     ]
    }
   ],
   "source": [
    "num_epochs = 10\n",
    "train_loss_history = []\n",
    "val_loss_history = []\n",
    "train_accuracy_history = []\n",
    "val_accuracy_history = []\n",
    "best_val_loss = float('inf')\n",
    "for epoch in range(num_epochs):\n",
    "    # -----------------------------\n",
    "    # 5.1. Training Phase\n",
    "    # -----------------------------\n",
    "    model.train()\n",
    "    running_loss = 0.0\n",
    "    correct_train = 0\n",
    "    total_train = 0\n",
    "\n",
    "    for vec1, vec2, target in tqdm(dataloader_train, desc=f\"Epoch {epoch+1}/{num_epochs} - Training\"):\n",
    "        vec1, vec2, target = vec1.to(device), vec2.to(device), target.to(device)\n",
    "        \n",
    "        optimizer.zero_grad()\n",
    "        output = model(vec1, vec2)\n",
    "        loss = criterion(output, target)\n",
    "        loss.backward()\n",
    "        optimizer.step()\n",
    "        \n",
    "        running_loss += loss.item() * vec1.size(0)  # Accumulate loss\n",
    "        \n",
    "        # Calculate training accuracy\n",
    "        _, predicted = torch.max(output, 1)\n",
    "        total_train += target.size(0)\n",
    "        correct_train += (predicted == target).sum().item()\n",
    "    \n",
    "    epoch_train_loss = running_loss / len(dataloader_train.dataset)\n",
    "    train_loss_history.append(epoch_train_loss)\n",
    "    \n",
    "    epoch_train_accuracy = correct_train / total_train\n",
    "    train_accuracy_history.append(epoch_train_accuracy)\n",
    "    \n",
    "    print(f\"Epoch [{epoch+1}/{num_epochs}], Training Loss: {epoch_train_loss:.4f}, Training Accuracy: {epoch_train_accuracy:.4f}\")\n",
    "    \n",
    "    # -----------------------------\n",
    "    # 5.2. Validation Phase\n",
    "    # -----------------------------\n",
    "    model.eval()\n",
    "    val_running_loss = 0.0\n",
    "    correct_val = 0\n",
    "    total_val = 0\n",
    "\n",
    "    with torch.no_grad():\n",
    "        for vec1, vec2, target in tqdm(dataloader_test, desc=f\"Epoch {epoch+1}/{num_epochs} - Validation\"):\n",
    "            vec1, vec2, target = vec1.to(device), vec2.to(device), target.to(device)\n",
    "            \n",
    "            output = model(vec1, vec2)\n",
    "            loss = criterion(output, target)\n",
    "            val_running_loss += loss.item() * vec1.size(0)  # Accumulate loss\n",
    "            \n",
    "            # Calculate validation accuracy\n",
    "            _, predicted = torch.max(output, 1)\n",
    "            total_val += target.size(0)\n",
    "            correct_val += (predicted == target).sum().item()\n",
    "    \n",
    "    epoch_val_loss = val_running_loss / len(dataloader_test.dataset)\n",
    "    val_loss_history.append(epoch_val_loss)\n",
    "    \n",
    "    epoch_val_accuracy = correct_val / total_val\n",
    "    val_accuracy_history.append(epoch_val_accuracy)\n",
    "    \n",
    "    print(f\"Epoch [{epoch+1}/{num_epochs}], Validation Loss: {epoch_val_loss:.4f}, Validation Accuracy: {epoch_val_accuracy:.4f}\")\n",
    "    \n",
    "    # -----------------------------\n",
    "    # 5.3. Step the Scheduler\n",
    "    # -----------------------------\n",
    "    if epoch_val_loss < best_val_loss:\n",
    "        best_val_loss = epoch_val_loss\n",
    "        torch.save(model.state_dict(), \"DL-classifier.pth\")\n",
    "        print(f\"  -> Best model saved with Validation Loss: {best_val_loss:.4f}\")\n",
    "    \n",
    "    scheduler.step(epoch_val_loss)"
   ]
  },
  {
   "cell_type": "code",
   "execution_count": 185,
   "metadata": {},
   "outputs": [],
   "source": [
    "train_hist_loss_adadelta= []\n",
    "val_hist_loss_adadelta = []\n",
    "train_hist_acc_adadelta = []\n",
    "val_hist_acc_adadelta = []"
   ]
  },
  {
   "cell_type": "code",
   "execution_count": 188,
   "metadata": {},
   "outputs": [],
   "source": [
    "\n",
    "train_hist_loss_adadelta.extend(train_loss_history)\n",
    "val_hist_loss_adadelta.extend(val_loss_history)\n",
    "train_hist_acc_adadelta.extend(train_accuracy_history)\n",
    "val_hist_acc_adadelta.extend(val_accuracy_history)\n"
   ]
  },
  {
   "cell_type": "code",
   "execution_count": 178,
   "metadata": {},
   "outputs": [],
   "source": [
    "train_hist_loss_adam= []\n",
    "val_hist_loss_adam = []\n",
    "train_hist_acc_adam = []\n",
    "val_hist_acc_adam = []"
   ]
  },
  {
   "cell_type": "code",
   "execution_count": 161,
   "metadata": {},
   "outputs": [],
   "source": [
    "train_hist_loss_adam= []\n",
    "val_hist_loss_adam = []\n",
    "train_hist_acc_adam = []\n",
    "val_hist_acc_adam = []\n",
    "train_hist_loss_adam.extend(train_loss_history)\n",
    "val_hist_loss_adam.extend(val_loss_history)\n",
    "train_hist_acc_adam.extend(train_accuracy_history)\n",
    "val_hist_acc_adam.extend(val_accuracy_history)\n"
   ]
  },
  {
   "cell_type": "code",
   "execution_count": 189,
   "metadata": {},
   "outputs": [
    {
     "data": {
      "image/png": "[encoded data removed]",
      "text/plain": [
       "<Figure size 1000x600 with 1 Axes>"
      ]
     },
     "metadata": {},
     "output_type": "display_data"
    }
   ],
   "source": [
    "\n",
    "\n",
    "\n",
    "\n",
    "epochs = range(1,len(train_hist_acc_adadelta)+1)\n",
    "plt.figure(figsize=(10, 6))\n",
    "plt.plot(epochs, train_hist_acc_adadelta, 'go-', label='Training _adadelta')\n",
    "plt.plot(epochs, val_hist_acc_adadelta, 'yo-', label='Validation _adadelta')\n",
    "plt.title('Training and Validation Accuracy')\n",
    "plt.xlabel('Epochs')\n",
    "plt.ylabel('Accuracy')\n",
    "plt.legend()\n",
    "plt.grid(True)\n",
    "plt.show()"
   ]
  },
  {
   "cell_type": "code",
   "execution_count": 170,
   "metadata": {},
   "outputs": [
    {
     "data": {
      "image/png": "[encoded data removed]",
      "text/plain": [
       "<Figure size 1000x600 with 1 Axes>"
      ]
     },
     "metadata": {},
     "output_type": "display_data"
    }
   ],
   "source": [
    "epochs = range(1,len(train_hist_loss_adam)+1)\n",
    "plt.figure(figsize=(10, 6))\n",
    "plt.plot(epochs, train_hist_loss_adam, 'bo-', label='Training adam ')\n",
    "plt.plot(epochs, val_hist_loss_adam, 'ro-', label='Validation adam ')\n",
    "plt.plot(epochs, train_hist_loss_adadelta, 'go-', label='Training adadelta ')\n",
    "plt.plot(epochs, val_hist_loss_adadelta, 'yo-', label='Validation adadelta ')\n",
    "plt.title('Training and Validation loss')\n",
    "plt.xlabel('Epochs')\n",
    "plt.ylabel('loss')\n",
    "plt.legend()\n",
    "plt.grid(True)\n",
    "plt.show()"
   ]
  },
  {
   "cell_type": "code",
   "execution_count": 107,
   "metadata": {},
   "outputs": [
    {
     "name": "stderr",
     "output_type": "stream",
     "text": [
      "Evaluating on Test Set: 100%|██████████| 6395/6395 [00:15<00:00, 412.31it/s]\n"
     ]
    },
    {
     "name": "stdout",
     "output_type": "stream",
     "text": [
      "Test Set Classification Report:\n",
      "              precision    recall  f1-score   support\n",
      "\n",
      "           A       0.03      0.28      0.05      3672\n",
      "           B       0.04      0.00      0.00      7385\n",
      "           C       0.16      0.08      0.10     31890\n",
      "           D       0.82      0.76      0.79    161692\n",
      "\n",
      "    accuracy                           0.62    204639\n",
      "   macro avg       0.26      0.28      0.24    204639\n",
      "weighted avg       0.68      0.62      0.64    204639\n",
      "\n"
     ]
    },
    {
     "data": {
      "image/png": "[encoded data removed]",
      "text/plain": [
       "<Figure size 800x600 with 2 Axes>"
      ]
     },
     "metadata": {},
     "output_type": "display_data"
    }
   ],
   "source": [
    "from sklearn.metrics import classification_report, confusion_matrix\n",
    "\n",
    "# model.load_state_dict(torch.load(best_model_path))\n",
    "model.to(device)\n",
    "\n",
    "model.eval()\n",
    "all_test_targets = []\n",
    "all_test_predictions = []\n",
    "\n",
    "with torch.no_grad():\n",
    "    for vec1, vec2, target in tqdm(dataloader_test, desc=\"Evaluating on Test Set\"):\n",
    "        vec1, vec2, target = vec1.to(device), vec2.to(device), target.to(device)\n",
    "        output = model(vec1, vec2)\n",
    "        _, predicted = torch.max(output, 1)\n",
    "        all_test_targets.extend(target.cpu().numpy())\n",
    "        all_test_predictions.extend(predicted.cpu().numpy())\n",
    "\n",
    "# Generate Classification Report\n",
    "test_class_report = classification_report(all_test_targets, all_test_predictions, target_names=le.classes_, zero_division=0)\n",
    "print(\"Test Set Classification Report:\")\n",
    "print(test_class_report)\n",
    "\n",
    "# Generate Confusion Matrix\n",
    "conf_mat = confusion_matrix(all_test_targets, all_test_predictions, labels=range(len(le.classes_)))\n",
    "plt.figure(figsize=(8,6))\n",
    "sns.heatmap(conf_mat, annot=True, fmt='d', xticklabels=le.classes_, yticklabels=le.classes_, cmap='Blues')\n",
    "plt.xlabel('Predicted')\n",
    "plt.ylabel('Actual')\n",
    "plt.title('Confusion Matrix on Test Set')\n",
    "plt.show()"
   ]
  }
 ],
 "metadata": {
  "kernelspec": {
   "display_name": "Python 3",
   "language": "python",
   "name": "python3"
  },
  "language_info": {
   "codemirror_mode": {
    "name": "ipython",
    "version": 3
   },
   "file_extension": ".py",
   "mimetype": "text/x-python",
   "name": "python",
   "nbconvert_exporter": "python",
   "pygments_lexer": "ipython3",
   "version": "3.12.3"
  }
 },
 "nbformat": 4,
 "nbformat_minor": 2
}
