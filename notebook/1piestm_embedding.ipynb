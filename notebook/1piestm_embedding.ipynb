{
 "cells": [
  {
   "cell_type": "code",
   "execution_count": 1,
   "id": "1bf79b26",
   "metadata": {},
   "outputs": [],
   "source": [
    "import pandas as pd\n",
    "import numpy as np\n",
    "import matplotlib.pyplot as plt\n",
    "import seaborn as sns\n",
    "from sklearn.preprocessing import MinMaxScaler ,  StandardScaler, OneHotEncoder\n",
    "from sklearn.model_selection import GridSearchCV,train_test_split\n",
    "from sklearn.compose import ColumnTransformer\n",
    "from sklearn.pipeline import Pipeline\n",
    "from sklearn.metrics import mean_squared_error\n",
    "import torch\n",
    "import torch.nn as nn\n",
    "import torch.optim as optim\n",
    "from torch.optim.lr_scheduler import ReduceLROnPlateau\n",
    "import torch.nn.functional as F\n",
    "from torch.utils.data import Dataset, DataLoader, TensorDataset\n",
    "import pickle"
   ]
  },
  {
   "cell_type": "markdown",
   "id": "a02f33dc",
   "metadata": {},
   "source": [
    "# Preparation de données"
   ]
  },
  {
   "cell_type": "code",
   "execution_count": 2,
   "id": "4b707c3d",
   "metadata": {},
   "outputs": [
    {
     "name": "stdout",
     "output_type": "stream",
     "text": [
      "Using device: cuda\n"
     ]
    }
   ],
   "source": [
    "device = torch.device(\"cuda\" if torch.cuda.is_available() else \"cpu\")\n",
    "print(f\"Using device: {device}\")"
   ]
  },
  {
   "cell_type": "markdown",
   "id": "d65ddb24",
   "metadata": {},
   "source": [
    "## Fusion de données"
   ]
  },
  {
   "cell_type": "code",
   "execution_count": 58,
   "id": "36239f6a",
   "metadata": {},
   "outputs": [],
   "source": [
    "df_feat = pd.read_csv('../encoded data/opamps-features.csv')\n",
    "df_ref = pd.read_csv('../encoded data/opamps-xref.csv')"
   ]
  },
  {
   "cell_type": "code",
   "execution_count": 59,
   "id": "93a4a4b6",
   "metadata": {},
   "outputs": [],
   "source": [
    "categorical_columns1 = [\"Supplier_Package\"]\n",
    "numerical_columns = [\"Maximum Input Offset Voltage\",\"Maximum Single Supply Voltage\",\"Minimum Single Supply Voltage\",\"Number of Channels per Chip\",\"Typical Gain Bandwidth Product\"]"
   ]
  },
  {
   "cell_type": "markdown",
   "id": "c7e40a62",
   "metadata": {},
   "source": [
    "## Scaling"
   ]
  },
  {
   "cell_type": "code",
   "execution_count": 60,
   "id": "217d11c6",
   "metadata": {},
   "outputs": [],
   "source": [
    "import helper_functions.preprocess as pp\n",
    "\n",
    "df_feat_scaled , scaler = pp.scale(df_feat,numerical_columns)\n",
    "df = pp.merge_datasets(df_feat_scaled,df_ref)"
   ]
  },
  {
   "cell_type": "markdown",
   "id": "6356d5c3",
   "metadata": {},
   "source": [
    "## Conversion des classes en données numériques"
   ]
  },
  {
   "cell_type": "markdown",
   "id": "bfbbf26a",
   "metadata": {},
   "source": [
    "### Par une seule valeur\n",
    "Pour ne pa ajouter des biais\n",
    "La colonne \"Closeness\" est la valeur convertie des \"Cross Reference Type\"."
   ]
  },
  {
   "cell_type": "code",
   "execution_count": 61,
   "id": "a4e3c579",
   "metadata": {},
   "outputs": [],
   "source": [
    "base_means = {'A': 0.95, 'B': 0.8, 'C': 0.5, 'D': 0.3}\n",
    "base_std = {'A': 0.025 / 3, 'B': 0.025 / 2.5, 'C': 0.025 / 2, 'D': 0.025 / 1.5}"
   ]
  },
  {
   "cell_type": "code",
   "execution_count": 62,
   "id": "8fe613f1",
   "metadata": {},
   "outputs": [],
   "source": [
    "df[\"Closeness\"] = df[\"Cross Reference Type\"].map(base_means)"
   ]
  },
  {
   "cell_type": "code",
   "execution_count": 63,
   "id": "b5ef3d56",
   "metadata": {},
   "outputs": [
    {
     "data": {
      "text/plain": [
       "<Axes: xlabel='Closeness', ylabel='Count'>"
      ]
     },
     "execution_count": 63,
     "metadata": {},
     "output_type": "execute_result"
    },
    {
     "data": {
      "image/png": "[encoded data removed]",
      "text/plain": [
       "<Figure size 640x480 with 1 Axes>"
      ]
     },
     "metadata": {},
     "output_type": "display_data"
    }
   ],
   "source": [
    "# df = pp.generate_closeness(df,base_means,base_std,n_std=3)\n",
    "spread=0.2\n",
    "sns.histplot(data=df, x='Closeness', hue='Cross Reference Type')"
   ]
  },
  {
   "cell_type": "markdown",
   "id": "6b4366b8",
   "metadata": {},
   "source": [
    "### Label Encoding des supplier_package"
   ]
  },
  {
   "cell_type": "code",
   "execution_count": 64,
   "id": "919f41b2",
   "metadata": {},
   "outputs": [],
   "source": [
    "# prompt: label encoder for \"Supplier_Package\" column of df, apply it to \"Supplier_Package_comp\" too\n",
    "\n",
    "from sklearn.preprocessing import LabelEncoder\n",
    "\n",
    "# Create a LabelEncoder object\n",
    "le = LabelEncoder()\n",
    "\n",
    "# Fit the encoder on the \"Supplier_Package\" column\n",
    "le.fit(df[\"Supplier_Package\"])\n",
    "\n",
    "# Transform the \"Supplier_Package\" column\n",
    "df[\"Supplier_Package\"] = le.transform(df[\"Supplier_Package\"])\n",
    "\n",
    "# Apply the same encoder to the \"Supplier_Package_comp\" column\n",
    "df[\"Supplier_Package_comp\"] = le.transform(df[\"Supplier_Package_comp\"])\n"
   ]
  },
  {
   "cell_type": "code",
   "execution_count": 65,
   "id": "a59b9851",
   "metadata": {},
   "outputs": [
    {
     "name": "stdout",
     "output_type": "stream",
     "text": [
      "{0: 'Bare Die', 1: 'CAN', 2: 'CDIP', 3: 'CDIP N', 4: 'CFLAT', 5: 'CFP', 6: 'CFPAK', 7: 'CLLCC', 8: 'CPAK', 9: 'CSOIC', 10: 'Case P-5', 11: 'Chip', 12: 'DDPAK', 13: 'DFN', 14: 'DFN EP', 15: 'DFN-U1 EP', 16: 'DFN-W1 EP', 17: 'DIP', 18: 'DMP', 19: 'DSBGA', 20: 'Die', 21: 'EMP', 22: 'EQFN-E2 EP', 23: 'ESON', 24: 'ESON-U1', 25: 'ESON-W2 EP', 26: 'ESV', 27: 'FLP', 28: 'FPACK', 29: 'Flip-Chip', 30: 'HMSOP EP', 31: 'HSOIC EP', 32: 'HSOP EP', 33: 'HTSSOP EP', 34: 'HVSOF EP', 35: 'HVSSOP EP', 36: 'LCC', 37: 'LCCC', 38: 'LFCSP', 39: 'LFCSP EP', 40: 'MFP', 41: 'MMPAK', 42: 'MPAK', 43: 'MSOP', 44: 'MSOP EP', 45: 'Metal Can', 46: 'Micro', 47: 'Mini-DIP', 48: 'Mini-PDIP', 49: 'Mini-SO', 50: 'Not Mentioned', 51: 'PCSP-C3', 52: 'PCSP-CC EP', 53: 'PCSP-E3 EP', 54: 'PDIP', 55: 'PDIP N', 56: 'PFM', 57: 'PLCC', 58: 'PSOP', 59: 'QFN', 60: 'QFN EP', 61: 'QSOP', 62: 'SBCDIP', 63: 'SC-70', 64: 'SC-74A', 65: 'SC-88A', 66: 'SIP', 67: 'SMV', 68: 'SNT-A', 69: 'SO', 70: 'SO EP', 71: 'SO N', 72: 'SO W', 73: 'SOIC', 74: 'SOIC N', 75: 'SOIC N EP', 76: 'SOIC W', 77: 'SOP', 78: 'SOP EP', 79: 'SOP-J', 80: 'SOT-23', 81: 'SOT-23-1', 82: 'SOT-25', 83: 'SOT-353', 84: 'SOT-553', 85: 'SOT-563', 86: 'SSOP', 87: 'SSOP N', 88: 'SSOP-A', 89: 'SSOP-A3', 90: 'SSOP-B', 91: 'TDFN', 92: 'TDFN EP', 93: 'TMSOP', 94: 'TO-202', 95: 'TO-220', 96: 'TO-252', 97: 'TO-263', 98: 'TO-3', 99: 'TO-5', 100: 'TO-99', 101: 'TSOP', 102: 'TSOT', 103: 'TSOT-23', 104: 'TSSOP', 105: 'TSSOP EP', 106: 'TSSOP W', 107: 'TSSOP-B', 108: 'TSSOP-BJ', 109: 'TSV', 110: 'TVSOP', 111: 'TVSP', 112: 'Thin uSMD', 113: 'UCSP', 114: 'UCSP50L1', 115: 'UDFN', 116: 'UDFN EP', 117: 'UFV', 118: 'UQFN', 119: 'USV', 120: 'UTDFN EP', 121: 'UTLGA', 122: 'UTQFN', 123: 'VFQFPN', 124: 'VFQFPN EP', 125: 'VQFN', 126: 'VQFN EP', 127: 'VSOF', 128: 'VSON EP', 129: 'VSON-X EP', 130: 'VSP', 131: 'VSSOP', 132: 'WDFN EP', 133: 'WLCSP', 134: 'WLP', 135: 'WQFN', 136: 'WQFN EP', 137: 'WSON EP', 138: 'Wafer', 139: 'X1SON', 140: 'X2QFN', 141: 'X2SON EP', 142: 'XCEPT', 143: 'uMAX', 144: 'uMAX EP', 145: 'uSMD', 146: 'uSOIC'}\n"
     ]
    }
   ],
   "source": [
    "\n",
    "label_mapping = dict(zip(le.classes_, le.transform(le.classes_)))\n",
    "label_num =dict(zip(le.classes_, le.transform(le.classes_)))\n",
    "num_label = dict(zip(le.transform(le.classes_),le.classes_))\n",
    "\n",
    "print(num_label)"
   ]
  },
  {
   "cell_type": "code",
   "execution_count": 66,
   "id": "bfc676af",
   "metadata": {},
   "outputs": [],
   "source": [
    "unique_labels = len(num_label)"
   ]
  },
  {
   "cell_type": "markdown",
   "id": "3e210f1f",
   "metadata": {},
   "source": [
    "## Division des données (train,validation,test) et equiilibre des classes das les données d'entrainement"
   ]
  },
  {
   "cell_type": "code",
   "execution_count": 67,
   "id": "fd418691",
   "metadata": {},
   "outputs": [],
   "source": [
    "df_train, df_validation, df_test = pp.split_dataframe(df)"
   ]
  },
  {
   "cell_type": "code",
   "execution_count": 68,
   "id": "68d5d050",
   "metadata": {},
   "outputs": [
    {
     "name": "stdout",
     "output_type": "stream",
     "text": [
      "Length : 490523\n"
     ]
    }
   ],
   "source": [
    "df_train = pp.balance_training_data(df_train,ratios={\"A\": 4, \"B\": 3, \"C\": 1, \"D\": 1/3})\n",
    "print(f\"Length : {len(df_train)}\")"
   ]
  },
  {
   "cell_type": "markdown",
   "id": "945ece1c",
   "metadata": {},
   "source": [
    "### Preparation des vecteurs"
   ]
  },
  {
   "cell_type": "code",
   "execution_count": 69,
   "id": "6a452ee5",
   "metadata": {},
   "outputs": [],
   "source": [
    "columns_to_drop = ['Closeness', 'MPN', \"MANUFACTURER\",'MPN_comp',\"MANUFACTURER_comp\", \"Cross Reference Type\"]"
   ]
  },
  {
   "cell_type": "code",
   "execution_count": 70,
   "id": "7f085f15",
   "metadata": {},
   "outputs": [],
   "source": [
    "X_train = df_train.drop(columns=columns_to_drop)\n",
    "X_validation = df_validation.drop(columns=columns_to_drop)\n",
    "X_test = df_test.drop(columns=columns_to_drop)\n",
    "\n",
    "y_train = df_train['Closeness']\n",
    "y_validation = df_validation['Closeness']\n",
    "y_test = df_test['Closeness']"
   ]
  },
  {
   "cell_type": "code",
   "execution_count": 71,
   "id": "06d7a846",
   "metadata": {},
   "outputs": [],
   "source": [
    "categorical_columns =categorical_columns1.copy()\n",
    "categorical_columns += [i +\"_comp\" for i in categorical_columns1]"
   ]
  },
  {
   "cell_type": "markdown",
   "id": "88808fa0",
   "metadata": {},
   "source": [
    "# Modele de Deep Learning avec embedding"
   ]
  },
  {
   "cell_type": "markdown",
   "id": "d68bc829",
   "metadata": {},
   "source": [
    "## Preparation des tensors"
   ]
  },
  {
   "cell_type": "code",
   "execution_count": 72,
   "id": "a53f5c96",
   "metadata": {},
   "outputs": [],
   "source": [
    "\n",
    "X_train = torch.tensor(X_train.values, dtype=torch.float16)\n",
    "X_validation = torch.tensor(X_validation.values, dtype=torch.float16)\n",
    "X_test = torch.tensor(X_test.values, dtype=torch.float16)\n",
    "y_train = torch.tensor(y_train.values, dtype=torch.float16).reshape(-1, 1)\n",
    "y_validation = torch.tensor(y_validation.values, dtype=torch.float16).reshape(-1, 1)\n",
    "y_test = torch.tensor(y_test.values, dtype=torch.float16).reshape(-1, 1)"
   ]
  },
  {
   "cell_type": "code",
   "execution_count": 73,
   "id": "2f64cd43",
   "metadata": {},
   "outputs": [],
   "source": [
    "batch_size = 4096*2"
   ]
  },
  {
   "cell_type": "markdown",
   "id": "40372bdd",
   "metadata": {},
   "source": [
    "## Datasets"
   ]
  },
  {
   "cell_type": "code",
   "execution_count": 74,
   "id": "9e1c3ab5",
   "metadata": {},
   "outputs": [],
   "source": [
    "train_dataset = TensorDataset(X_train.cpu(), y_train.cpu())\n",
    "train_loader = DataLoader(train_dataset, batch_size=batch_size, shuffle=True,pin_memory=True)\n",
    "\n",
    "val_dataset = TensorDataset(X_validation.cpu(), y_validation.cpu())\n",
    "val_loader = DataLoader(val_dataset, batch_size=batch_size, shuffle=False,pin_memory=True)\n",
    "\n",
    "test_dataset = TensorDataset(X_test.cpu(), y_test.cpu())\n",
    "test_loader = DataLoader(test_dataset, batch_size=batch_size, shuffle=False,pin_memory=True)"
   ]
  },
  {
   "cell_type": "markdown",
   "id": "778ee21b",
   "metadata": {},
   "source": [
    "## Le Modele"
   ]
  },
  {
   "cell_type": "code",
   "execution_count": 75,
   "id": "9659d69b",
   "metadata": {},
   "outputs": [],
   "source": [
    "class SimilarityModel(nn.Module):\n",
    "    \"\"\"\n",
    "    A lightweight MLP for predicting closeness [0,1] based on numeric features and embeddings of two categorical inputs.\n",
    "    \"\"\"\n",
    "    def __init__(self,\n",
    "                 num_total_numeric: int = 10,\n",
    "                 num_categories: int = unique_labels,\n",
    "                 embed_dim: int = 8,\n",
    "                 dropout: float = 0.1):\n",
    "        super(SimilarityModel, self).__init__()\n",
    "\n",
    "        # Embedding for the two categorical supplier_package fields\n",
    "        self.embedding = nn.Embedding(num_categories, embed_dim)\n",
    "\n",
    "        # Total input dimension = numeric features + 2 embeddings\n",
    "        input_dim = num_total_numeric + 2 * embed_dim\n",
    "\n",
    "        # Simplified MLP: just one hidden layer\n",
    "        self.mlp = nn.Sequential(\n",
    "            nn.Linear(input_dim, 32),\n",
    "            nn.BatchNorm1d(32),\n",
    "            nn.LeakyReLU(),\n",
    "            nn.Dropout(dropout),\n",
    "            nn.Linear(32, 16),\n",
    "            nn.LeakyReLU(),\n",
    "            nn.Dropout(dropout/2),\n",
    "            nn.Linear(16, 1)  # Output a single score\n",
    "        )\n",
    "\n",
    "    def forward(self, x: torch.Tensor) -> torch.Tensor:\n",
    "        # Extract categorical indices\n",
    "        sup1 = x[:, 4].long()   # Supplier_Package for component 1\n",
    "        sup2 = x[:, 10].long()  # Supplier_Package for component 2\n",
    "\n",
    "        # Get embeddings\n",
    "        emb1 = self.embedding(sup1)\n",
    "        emb2 = self.embedding(sup2)\n",
    "\n",
    "        # Extract numeric features (excluding categorical indices)\n",
    "        numeric = torch.cat((x[:, :4], x[:, 5:10], x[:, 11:]), dim=1)\n",
    "\n",
    "        # Concatenate numeric features + embeddings\n",
    "        features = torch.cat((numeric, emb1, emb2), dim=1)\n",
    "\n",
    "        # Output score in [0,1]\n",
    "        return torch.sigmoid(self.mlp(features))"
   ]
  },
  {
   "cell_type": "markdown",
   "id": "399afcda",
   "metadata": {},
   "source": [
    "## Entrainnement"
   ]
  },
  {
   "cell_type": "code",
   "execution_count": null,
   "id": "711cbb79",
   "metadata": {},
   "outputs": [
    {
     "name": "stderr",
     "output_type": "stream",
     "text": [
      "C:\\Users\\adamg\\AppData\\Local\\Temp\\ipykernel_70768\\652958439.py:2: FutureWarning: You are using `torch.load` with `weights_only=False` (the current default value), which uses the default pickle module implicitly. It is possible to construct malicious pickle data which will execute arbitrary code during unpickling (See https://github.com/pytorch/pytorch/blob/main/SECURITY.md#untrusted-models for more details). In a future release, the default value for `weights_only` will be flipped to `True`. This limits the functions that could be executed during unpickling. Arbitrary objects will no longer be allowed to be loaded via this mode unless they are explicitly allowlisted by the user via `torch.serialization.add_safe_globals`. We recommend you start setting `weights_only=True` for any use case where you don't have full control of the loaded file. Please open an issue on GitHub for any issues related to this experimental feature.\n",
      "  model.load_state_dict(torch.load(\"similarity_model_weights_first_train_labelmap.pth\"))\n"
     ]
    },
    {
     "data": {
      "text/plain": [
       "<All keys matched successfully>"
      ]
     },
     "execution_count": 76,
     "metadata": {},
     "output_type": "execute_result"
    }
   ],
   "source": [
    "# model = SimilarityModel().to(device)\n",
    "# model.load_state_dict(torch.load(\"similarity_model_weights_first_train_labelmap.pth\"))"
   ]
  },
  {
   "cell_type": "code",
   "execution_count": 29,
   "id": "d000c5bc",
   "metadata": {},
   "outputs": [],
   "source": [
    "model = SimilarityModel().to(device)"
   ]
  },
  {
   "cell_type": "code",
   "execution_count": 77,
   "id": "44eb44ed",
   "metadata": {},
   "outputs": [
    {
     "name": "stderr",
     "output_type": "stream",
     "text": [
      "c:\\Users\\adamg\\AppData\\Local\\Programs\\Python\\Python311\\Lib\\site-packages\\torch\\optim\\lr_scheduler.py:60: UserWarning: The verbose parameter is deprecated. Please use get_last_lr() to access the learning rate.\n",
      "  warnings.warn(\n"
     ]
    }
   ],
   "source": [
    "criterion = nn.MSELoss()\n",
    "optimizer = torch.optim.Adam(model.parameters(), lr=1e-2)\n",
    "scheduler = torch.optim.lr_scheduler.ReduceLROnPlateau(\n",
    "    optimizer, mode='min', factor=0.5, patience=5, verbose=True\n",
    ")"
   ]
  },
  {
   "cell_type": "code",
   "execution_count": 31,
   "id": "e443b37a",
   "metadata": {},
   "outputs": [],
   "source": [
    "num_epochs = 100"
   ]
  },
  {
   "cell_type": "code",
   "execution_count": 32,
   "id": "fef84549",
   "metadata": {},
   "outputs": [],
   "source": [
    "train_losses = []\n",
    "val_losses = []"
   ]
  },
  {
   "cell_type": "code",
   "execution_count": 33,
   "id": "f7cfaa28",
   "metadata": {},
   "outputs": [
    {
     "name": "stderr",
     "output_type": "stream",
     "text": [
      "100%|██████████| 60/60 [00:07<00:00,  7.74it/s]\n",
      "100%|██████████| 7/7 [00:00<00:00, 13.01it/s]\n"
     ]
    },
    {
     "name": "stdout",
     "output_type": "stream",
     "text": [
      "Epoch 01: Train Loss = 0.0280, Val Loss = 0.0118\n"
     ]
    },
    {
     "name": "stderr",
     "output_type": "stream",
     "text": [
      "100%|██████████| 60/60 [00:06<00:00,  9.05it/s]\n",
      "100%|██████████| 7/7 [00:00<00:00, 10.07it/s]\n"
     ]
    },
    {
     "name": "stdout",
     "output_type": "stream",
     "text": [
      "Epoch 02: Train Loss = 0.0176, Val Loss = 0.0106\n"
     ]
    },
    {
     "name": "stderr",
     "output_type": "stream",
     "text": [
      "100%|██████████| 60/60 [00:06<00:00,  9.17it/s]\n",
      "100%|██████████| 7/7 [00:00<00:00, 10.11it/s]\n"
     ]
    },
    {
     "name": "stdout",
     "output_type": "stream",
     "text": [
      "Epoch 03: Train Loss = 0.0159, Val Loss = 0.0102\n"
     ]
    },
    {
     "name": "stderr",
     "output_type": "stream",
     "text": [
      "100%|██████████| 60/60 [00:06<00:00,  8.60it/s]\n",
      "100%|██████████| 7/7 [00:00<00:00, 10.93it/s]\n"
     ]
    },
    {
     "name": "stdout",
     "output_type": "stream",
     "text": [
      "Epoch 04: Train Loss = 0.0150, Val Loss = 0.0090\n"
     ]
    },
    {
     "name": "stderr",
     "output_type": "stream",
     "text": [
      "100%|██████████| 60/60 [00:08<00:00,  7.25it/s]\n",
      "100%|██████████| 7/7 [00:00<00:00,  9.29it/s]\n"
     ]
    },
    {
     "name": "stdout",
     "output_type": "stream",
     "text": [
      "Epoch 05: Train Loss = 0.0146, Val Loss = 0.0088\n"
     ]
    },
    {
     "name": "stderr",
     "output_type": "stream",
     "text": [
      "100%|██████████| 60/60 [00:08<00:00,  7.16it/s]\n",
      "100%|██████████| 7/7 [00:00<00:00,  8.34it/s]\n"
     ]
    },
    {
     "name": "stdout",
     "output_type": "stream",
     "text": [
      "Epoch 06: Train Loss = 0.0145, Val Loss = 0.0095\n"
     ]
    },
    {
     "name": "stderr",
     "output_type": "stream",
     "text": [
      "100%|██████████| 60/60 [00:07<00:00,  8.36it/s]\n",
      "100%|██████████| 7/7 [00:00<00:00, 12.24it/s]\n"
     ]
    },
    {
     "name": "stdout",
     "output_type": "stream",
     "text": [
      "Epoch 07: Train Loss = 0.0141, Val Loss = 0.0091\n"
     ]
    },
    {
     "name": "stderr",
     "output_type": "stream",
     "text": [
      "100%|██████████| 60/60 [00:06<00:00,  9.36it/s]\n",
      "100%|██████████| 7/7 [00:00<00:00, 10.49it/s]\n"
     ]
    },
    {
     "name": "stdout",
     "output_type": "stream",
     "text": [
      "Epoch 08: Train Loss = 0.0140, Val Loss = 0.0087\n"
     ]
    },
    {
     "name": "stderr",
     "output_type": "stream",
     "text": [
      "100%|██████████| 60/60 [00:06<00:00,  9.47it/s]\n",
      "100%|██████████| 7/7 [00:00<00:00, 10.30it/s]\n"
     ]
    },
    {
     "name": "stdout",
     "output_type": "stream",
     "text": [
      "Epoch 09: Train Loss = 0.0137, Val Loss = 0.0079\n"
     ]
    },
    {
     "name": "stderr",
     "output_type": "stream",
     "text": [
      "100%|██████████| 60/60 [00:06<00:00,  9.26it/s]\n",
      "100%|██████████| 7/7 [00:00<00:00, 13.32it/s]\n"
     ]
    },
    {
     "name": "stdout",
     "output_type": "stream",
     "text": [
      "Epoch 10: Train Loss = 0.0137, Val Loss = 0.0088\n"
     ]
    },
    {
     "name": "stderr",
     "output_type": "stream",
     "text": [
      "100%|██████████| 60/60 [00:06<00:00,  8.95it/s]\n",
      "100%|██████████| 7/7 [00:00<00:00, 10.70it/s]\n"
     ]
    },
    {
     "name": "stdout",
     "output_type": "stream",
     "text": [
      "Epoch 11: Train Loss = 0.0136, Val Loss = 0.0084\n"
     ]
    },
    {
     "name": "stderr",
     "output_type": "stream",
     "text": [
      "100%|██████████| 60/60 [00:06<00:00,  8.90it/s]\n",
      "100%|██████████| 7/7 [00:00<00:00, 10.42it/s]\n"
     ]
    },
    {
     "name": "stdout",
     "output_type": "stream",
     "text": [
      "Epoch 12: Train Loss = 0.0134, Val Loss = 0.0085\n"
     ]
    },
    {
     "name": "stderr",
     "output_type": "stream",
     "text": [
      "100%|██████████| 60/60 [00:06<00:00,  9.03it/s]\n",
      "100%|██████████| 7/7 [00:00<00:00,  8.45it/s]\n"
     ]
    },
    {
     "name": "stdout",
     "output_type": "stream",
     "text": [
      "Epoch 13: Train Loss = 0.0133, Val Loss = 0.0086\n"
     ]
    },
    {
     "name": "stderr",
     "output_type": "stream",
     "text": [
      "100%|██████████| 60/60 [00:07<00:00,  8.29it/s]\n",
      "100%|██████████| 7/7 [00:00<00:00, 10.90it/s]\n"
     ]
    },
    {
     "name": "stdout",
     "output_type": "stream",
     "text": [
      "Epoch 14: Train Loss = 0.0133, Val Loss = 0.0082\n"
     ]
    },
    {
     "name": "stderr",
     "output_type": "stream",
     "text": [
      "100%|██████████| 60/60 [00:07<00:00,  7.78it/s]\n",
      "100%|██████████| 7/7 [00:00<00:00,  8.85it/s]\n"
     ]
    },
    {
     "name": "stdout",
     "output_type": "stream",
     "text": [
      "Epoch 15: Train Loss = 0.0131, Val Loss = 0.0081\n"
     ]
    },
    {
     "name": "stderr",
     "output_type": "stream",
     "text": [
      "100%|██████████| 60/60 [00:07<00:00,  8.04it/s]\n",
      "100%|██████████| 7/7 [00:00<00:00,  9.83it/s]\n"
     ]
    },
    {
     "name": "stdout",
     "output_type": "stream",
     "text": [
      "Epoch 16: Train Loss = 0.0127, Val Loss = 0.0082\n"
     ]
    },
    {
     "name": "stderr",
     "output_type": "stream",
     "text": [
      "100%|██████████| 60/60 [00:06<00:00,  8.76it/s]\n",
      "100%|██████████| 7/7 [00:00<00:00, 12.62it/s]\n"
     ]
    },
    {
     "name": "stdout",
     "output_type": "stream",
     "text": [
      "Epoch 17: Train Loss = 0.0127, Val Loss = 0.0078\n"
     ]
    },
    {
     "name": "stderr",
     "output_type": "stream",
     "text": [
      "100%|██████████| 60/60 [00:07<00:00,  8.38it/s]\n",
      "100%|██████████| 7/7 [00:00<00:00, 12.75it/s]\n"
     ]
    },
    {
     "name": "stdout",
     "output_type": "stream",
     "text": [
      "Epoch 18: Train Loss = 0.0127, Val Loss = 0.0076\n"
     ]
    },
    {
     "name": "stderr",
     "output_type": "stream",
     "text": [
      "100%|██████████| 60/60 [00:06<00:00,  9.08it/s]\n",
      "100%|██████████| 7/7 [00:00<00:00, 12.61it/s]\n"
     ]
    },
    {
     "name": "stdout",
     "output_type": "stream",
     "text": [
      "Epoch 19: Train Loss = 0.0126, Val Loss = 0.0080\n"
     ]
    },
    {
     "name": "stderr",
     "output_type": "stream",
     "text": [
      "100%|██████████| 60/60 [00:06<00:00,  9.27it/s]\n",
      "100%|██████████| 7/7 [00:00<00:00, 10.15it/s]\n"
     ]
    },
    {
     "name": "stdout",
     "output_type": "stream",
     "text": [
      "Epoch 20: Train Loss = 0.0125, Val Loss = 0.0079\n"
     ]
    },
    {
     "name": "stderr",
     "output_type": "stream",
     "text": [
      "100%|██████████| 60/60 [00:06<00:00,  9.03it/s]\n",
      "100%|██████████| 7/7 [00:00<00:00, 11.37it/s]\n"
     ]
    },
    {
     "name": "stdout",
     "output_type": "stream",
     "text": [
      "Epoch 21: Train Loss = 0.0125, Val Loss = 0.0076\n"
     ]
    },
    {
     "name": "stderr",
     "output_type": "stream",
     "text": [
      "100%|██████████| 60/60 [00:07<00:00,  8.06it/s]\n",
      "100%|██████████| 7/7 [00:00<00:00,  9.38it/s]\n"
     ]
    },
    {
     "name": "stdout",
     "output_type": "stream",
     "text": [
      "Epoch 22: Train Loss = 0.0124, Val Loss = 0.0076\n"
     ]
    },
    {
     "name": "stderr",
     "output_type": "stream",
     "text": [
      "100%|██████████| 60/60 [00:07<00:00,  7.78it/s]\n",
      "100%|██████████| 7/7 [00:00<00:00,  8.15it/s]\n"
     ]
    },
    {
     "name": "stdout",
     "output_type": "stream",
     "text": [
      "Epoch 23: Train Loss = 0.0124, Val Loss = 0.0076\n"
     ]
    },
    {
     "name": "stderr",
     "output_type": "stream",
     "text": [
      "100%|██████████| 60/60 [00:07<00:00,  7.81it/s]\n",
      "100%|██████████| 7/7 [00:00<00:00, 11.13it/s]\n"
     ]
    },
    {
     "name": "stdout",
     "output_type": "stream",
     "text": [
      "Epoch 24: Train Loss = 0.0124, Val Loss = 0.0079\n"
     ]
    },
    {
     "name": "stderr",
     "output_type": "stream",
     "text": [
      "100%|██████████| 60/60 [00:07<00:00,  7.88it/s]\n",
      "100%|██████████| 7/7 [00:00<00:00, 10.88it/s]\n"
     ]
    },
    {
     "name": "stdout",
     "output_type": "stream",
     "text": [
      "Epoch 25: Train Loss = 0.0124, Val Loss = 0.0073\n"
     ]
    },
    {
     "name": "stderr",
     "output_type": "stream",
     "text": [
      "100%|██████████| 60/60 [00:08<00:00,  7.46it/s]\n",
      "100%|██████████| 7/7 [00:00<00:00,  9.93it/s]\n"
     ]
    },
    {
     "name": "stdout",
     "output_type": "stream",
     "text": [
      "Epoch 26: Train Loss = 0.0124, Val Loss = 0.0081\n"
     ]
    },
    {
     "name": "stderr",
     "output_type": "stream",
     "text": [
      "100%|██████████| 60/60 [00:07<00:00,  8.43it/s]\n",
      "100%|██████████| 7/7 [00:00<00:00, 10.62it/s]\n"
     ]
    },
    {
     "name": "stdout",
     "output_type": "stream",
     "text": [
      "Epoch 27: Train Loss = 0.0124, Val Loss = 0.0078\n"
     ]
    },
    {
     "name": "stderr",
     "output_type": "stream",
     "text": [
      "100%|██████████| 60/60 [00:06<00:00,  9.30it/s]\n",
      "100%|██████████| 7/7 [00:00<00:00, 13.31it/s]\n"
     ]
    },
    {
     "name": "stdout",
     "output_type": "stream",
     "text": [
      "Epoch 28: Train Loss = 0.0123, Val Loss = 0.0078\n"
     ]
    },
    {
     "name": "stderr",
     "output_type": "stream",
     "text": [
      " 75%|███████▌  | 45/60 [00:04<00:01,  9.60it/s]Exception ignored in: <bound method IPythonKernel._clean_thread_parent_frames of <ipykernel.ipkernel.IPythonKernel object at 0x00000261D8A9D790>>\n",
      "Traceback (most recent call last):\n",
      "  File \"C:\\Users\\adamg\\AppData\\Roaming\\Python\\Python311\\site-packages\\ipykernel\\ipkernel.py\", line 775, in _clean_thread_parent_frames\n",
      "    def _clean_thread_parent_frames(\n",
      "\n",
      "KeyboardInterrupt: \n",
      "100%|██████████| 60/60 [00:06<00:00,  9.03it/s]\n",
      "100%|██████████| 7/7 [00:00<00:00, 12.80it/s]\n"
     ]
    },
    {
     "name": "stdout",
     "output_type": "stream",
     "text": [
      "Epoch 29: Train Loss = 0.0124, Val Loss = 0.0077\n"
     ]
    },
    {
     "name": "stderr",
     "output_type": "stream",
     "text": [
      "100%|██████████| 60/60 [00:06<00:00,  9.32it/s]\n",
      "100%|██████████| 7/7 [00:00<00:00, 10.46it/s]\n"
     ]
    },
    {
     "name": "stdout",
     "output_type": "stream",
     "text": [
      "Epoch 30: Train Loss = 0.0123, Val Loss = 0.0079\n"
     ]
    },
    {
     "name": "stderr",
     "output_type": "stream",
     "text": [
      "100%|██████████| 60/60 [00:06<00:00,  9.24it/s]\n",
      "100%|██████████| 7/7 [00:00<00:00, 10.75it/s]\n"
     ]
    },
    {
     "name": "stdout",
     "output_type": "stream",
     "text": [
      "Epoch 31: Train Loss = 0.0122, Val Loss = 0.0076\n"
     ]
    },
    {
     "name": "stderr",
     "output_type": "stream",
     "text": [
      "100%|██████████| 60/60 [00:06<00:00,  9.32it/s]\n",
      "100%|██████████| 7/7 [00:00<00:00, 10.51it/s]\n"
     ]
    },
    {
     "name": "stdout",
     "output_type": "stream",
     "text": [
      "Epoch 32: Train Loss = 0.0121, Val Loss = 0.0074\n"
     ]
    },
    {
     "name": "stderr",
     "output_type": "stream",
     "text": [
      " 80%|████████  | 48/60 [00:05<00:01,  9.89it/s]Exception ignored in: <bound method IPythonKernel._clean_thread_parent_frames of <ipykernel.ipkernel.IPythonKernel object at 0x00000261D8A9D790>>\n",
      "Traceback (most recent call last):\n",
      "  File \"C:\\Users\\adamg\\AppData\\Roaming\\Python\\Python311\\site-packages\\ipykernel\\ipkernel.py\", line 775, in _clean_thread_parent_frames\n",
      "    def _clean_thread_parent_frames(\n",
      "\n",
      "KeyboardInterrupt: \n",
      "100%|██████████| 60/60 [00:06<00:00,  9.20it/s]\n",
      "100%|██████████| 7/7 [00:00<00:00, 10.52it/s]\n"
     ]
    },
    {
     "name": "stdout",
     "output_type": "stream",
     "text": [
      "Epoch 33: Train Loss = 0.0120, Val Loss = 0.0075\n"
     ]
    },
    {
     "name": "stderr",
     "output_type": "stream",
     "text": [
      "100%|██████████| 60/60 [00:06<00:00,  9.08it/s]\n",
      "100%|██████████| 7/7 [00:00<00:00, 12.32it/s]\n"
     ]
    },
    {
     "name": "stdout",
     "output_type": "stream",
     "text": [
      "Epoch 34: Train Loss = 0.0121, Val Loss = 0.0080\n"
     ]
    },
    {
     "name": "stderr",
     "output_type": "stream",
     "text": [
      "100%|██████████| 60/60 [00:06<00:00,  8.67it/s]\n",
      "100%|██████████| 7/7 [00:00<00:00, 12.84it/s]\n"
     ]
    },
    {
     "name": "stdout",
     "output_type": "stream",
     "text": [
      "Epoch 35: Train Loss = 0.0121, Val Loss = 0.0079\n"
     ]
    },
    {
     "name": "stderr",
     "output_type": "stream",
     "text": [
      "100%|██████████| 60/60 [00:07<00:00,  8.41it/s]\n",
      "100%|██████████| 7/7 [00:00<00:00, 10.45it/s]\n"
     ]
    },
    {
     "name": "stdout",
     "output_type": "stream",
     "text": [
      "Epoch 36: Train Loss = 0.0120, Val Loss = 0.0076\n"
     ]
    },
    {
     "name": "stderr",
     "output_type": "stream",
     "text": [
      "100%|██████████| 60/60 [00:06<00:00,  8.66it/s]\n",
      "100%|██████████| 7/7 [00:00<00:00,  8.80it/s]\n"
     ]
    },
    {
     "name": "stdout",
     "output_type": "stream",
     "text": [
      "Epoch 37: Train Loss = 0.0119, Val Loss = 0.0074\n"
     ]
    },
    {
     "name": "stderr",
     "output_type": "stream",
     "text": [
      "100%|██████████| 60/60 [00:07<00:00,  8.44it/s]\n",
      "100%|██████████| 7/7 [00:00<00:00, 12.19it/s]\n"
     ]
    },
    {
     "name": "stdout",
     "output_type": "stream",
     "text": [
      "Epoch 38: Train Loss = 0.0119, Val Loss = 0.0074\n"
     ]
    },
    {
     "name": "stderr",
     "output_type": "stream",
     "text": [
      "100%|██████████| 60/60 [00:08<00:00,  7.49it/s]\n",
      "100%|██████████| 7/7 [00:00<00:00, 10.67it/s]\n"
     ]
    },
    {
     "name": "stdout",
     "output_type": "stream",
     "text": [
      "Epoch 39: Train Loss = 0.0119, Val Loss = 0.0072\n"
     ]
    },
    {
     "name": "stderr",
     "output_type": "stream",
     "text": [
      "100%|██████████| 60/60 [00:07<00:00,  8.40it/s]\n",
      "100%|██████████| 7/7 [00:00<00:00, 10.01it/s]\n"
     ]
    },
    {
     "name": "stdout",
     "output_type": "stream",
     "text": [
      "Epoch 40: Train Loss = 0.0119, Val Loss = 0.0073\n"
     ]
    },
    {
     "name": "stderr",
     "output_type": "stream",
     "text": [
      "100%|██████████| 60/60 [00:06<00:00,  8.88it/s]\n",
      "100%|██████████| 7/7 [00:00<00:00, 10.49it/s]\n"
     ]
    },
    {
     "name": "stdout",
     "output_type": "stream",
     "text": [
      "Epoch 41: Train Loss = 0.0118, Val Loss = 0.0075\n"
     ]
    },
    {
     "name": "stderr",
     "output_type": "stream",
     "text": [
      "100%|██████████| 60/60 [00:06<00:00,  8.58it/s]\n",
      "100%|██████████| 7/7 [00:00<00:00, 12.39it/s]\n"
     ]
    },
    {
     "name": "stdout",
     "output_type": "stream",
     "text": [
      "Epoch 42: Train Loss = 0.0118, Val Loss = 0.0073\n"
     ]
    },
    {
     "name": "stderr",
     "output_type": "stream",
     "text": [
      "100%|██████████| 60/60 [00:07<00:00,  7.50it/s]\n",
      "100%|██████████| 7/7 [00:00<00:00, 11.77it/s]\n"
     ]
    },
    {
     "name": "stdout",
     "output_type": "stream",
     "text": [
      "Epoch 43: Train Loss = 0.0118, Val Loss = 0.0075\n"
     ]
    },
    {
     "name": "stderr",
     "output_type": "stream",
     "text": [
      "100%|██████████| 60/60 [00:07<00:00,  7.78it/s]\n",
      "100%|██████████| 7/7 [00:01<00:00,  5.72it/s]\n"
     ]
    },
    {
     "name": "stdout",
     "output_type": "stream",
     "text": [
      "Epoch 44: Train Loss = 0.0119, Val Loss = 0.0074\n"
     ]
    },
    {
     "name": "stderr",
     "output_type": "stream",
     "text": [
      "100%|██████████| 60/60 [00:07<00:00,  7.76it/s]\n",
      "100%|██████████| 7/7 [00:00<00:00,  9.37it/s]\n"
     ]
    },
    {
     "name": "stdout",
     "output_type": "stream",
     "text": [
      "Epoch 45: Train Loss = 0.0118, Val Loss = 0.0075\n"
     ]
    },
    {
     "name": "stderr",
     "output_type": "stream",
     "text": [
      "100%|██████████| 60/60 [00:06<00:00,  9.10it/s]\n",
      "100%|██████████| 7/7 [00:00<00:00, 12.87it/s]\n"
     ]
    },
    {
     "name": "stdout",
     "output_type": "stream",
     "text": [
      "Epoch 46: Train Loss = 0.0118, Val Loss = 0.0072\n"
     ]
    },
    {
     "name": "stderr",
     "output_type": "stream",
     "text": [
      "100%|██████████| 60/60 [00:06<00:00,  8.98it/s]\n",
      "100%|██████████| 7/7 [00:00<00:00, 12.55it/s]\n"
     ]
    },
    {
     "name": "stdout",
     "output_type": "stream",
     "text": [
      "Epoch 47: Train Loss = 0.0118, Val Loss = 0.0075\n"
     ]
    },
    {
     "name": "stderr",
     "output_type": "stream",
     "text": [
      "100%|██████████| 60/60 [00:07<00:00,  8.42it/s]\n",
      "100%|██████████| 7/7 [00:00<00:00,  9.81it/s]\n"
     ]
    },
    {
     "name": "stdout",
     "output_type": "stream",
     "text": [
      "Epoch 48: Train Loss = 0.0117, Val Loss = 0.0074\n"
     ]
    },
    {
     "name": "stderr",
     "output_type": "stream",
     "text": [
      "100%|██████████| 60/60 [00:07<00:00,  8.05it/s]\n",
      "100%|██████████| 7/7 [00:00<00:00, 12.91it/s]\n"
     ]
    },
    {
     "name": "stdout",
     "output_type": "stream",
     "text": [
      "Epoch 49: Train Loss = 0.0117, Val Loss = 0.0073\n"
     ]
    },
    {
     "name": "stderr",
     "output_type": "stream",
     "text": [
      "100%|██████████| 60/60 [00:07<00:00,  8.07it/s]\n",
      "100%|██████████| 7/7 [00:00<00:00,  9.94it/s]\n"
     ]
    },
    {
     "name": "stdout",
     "output_type": "stream",
     "text": [
      "Epoch 50: Train Loss = 0.0117, Val Loss = 0.0073\n"
     ]
    },
    {
     "name": "stderr",
     "output_type": "stream",
     "text": [
      "100%|██████████| 60/60 [00:06<00:00,  8.65it/s]\n",
      "100%|██████████| 7/7 [00:00<00:00, 10.08it/s]\n"
     ]
    },
    {
     "name": "stdout",
     "output_type": "stream",
     "text": [
      "Epoch 51: Train Loss = 0.0117, Val Loss = 0.0074\n"
     ]
    },
    {
     "name": "stderr",
     "output_type": "stream",
     "text": [
      "100%|██████████| 60/60 [00:07<00:00,  8.31it/s]\n",
      "100%|██████████| 7/7 [00:00<00:00, 12.00it/s]\n"
     ]
    },
    {
     "name": "stdout",
     "output_type": "stream",
     "text": [
      "Epoch 52: Train Loss = 0.0117, Val Loss = 0.0074\n"
     ]
    },
    {
     "name": "stderr",
     "output_type": "stream",
     "text": [
      "100%|██████████| 60/60 [00:07<00:00,  8.32it/s]\n",
      "100%|██████████| 7/7 [00:00<00:00,  8.48it/s]\n"
     ]
    },
    {
     "name": "stdout",
     "output_type": "stream",
     "text": [
      "Epoch 53: Train Loss = 0.0117, Val Loss = 0.0074\n"
     ]
    },
    {
     "name": "stderr",
     "output_type": "stream",
     "text": [
      "100%|██████████| 60/60 [00:07<00:00,  8.52it/s]\n",
      "100%|██████████| 7/7 [00:00<00:00, 12.50it/s]\n"
     ]
    },
    {
     "name": "stdout",
     "output_type": "stream",
     "text": [
      "Epoch 54: Train Loss = 0.0117, Val Loss = 0.0076\n"
     ]
    },
    {
     "name": "stderr",
     "output_type": "stream",
     "text": [
      "100%|██████████| 60/60 [00:07<00:00,  8.48it/s]\n",
      "100%|██████████| 7/7 [00:00<00:00,  9.64it/s]\n"
     ]
    },
    {
     "name": "stdout",
     "output_type": "stream",
     "text": [
      "Epoch 55: Train Loss = 0.0117, Val Loss = 0.0074\n"
     ]
    },
    {
     "name": "stderr",
     "output_type": "stream",
     "text": [
      "100%|██████████| 60/60 [00:07<00:00,  8.02it/s]\n",
      "100%|██████████| 7/7 [00:00<00:00, 12.29it/s]\n"
     ]
    },
    {
     "name": "stdout",
     "output_type": "stream",
     "text": [
      "Epoch 56: Train Loss = 0.0117, Val Loss = 0.0073\n"
     ]
    },
    {
     "name": "stderr",
     "output_type": "stream",
     "text": [
      "100%|██████████| 60/60 [00:07<00:00,  8.00it/s]\n",
      "100%|██████████| 7/7 [00:00<00:00, 11.75it/s]\n"
     ]
    },
    {
     "name": "stdout",
     "output_type": "stream",
     "text": [
      "Epoch 57: Train Loss = 0.0117, Val Loss = 0.0075\n"
     ]
    },
    {
     "name": "stderr",
     "output_type": "stream",
     "text": [
      "100%|██████████| 60/60 [00:08<00:00,  7.26it/s]\n",
      "100%|██████████| 7/7 [00:00<00:00,  7.35it/s]\n"
     ]
    },
    {
     "name": "stdout",
     "output_type": "stream",
     "text": [
      "Epoch 58: Train Loss = 0.0117, Val Loss = 0.0074\n"
     ]
    },
    {
     "name": "stderr",
     "output_type": "stream",
     "text": [
      "100%|██████████| 60/60 [00:08<00:00,  6.71it/s]\n",
      "100%|██████████| 7/7 [00:00<00:00,  9.25it/s]\n"
     ]
    },
    {
     "name": "stdout",
     "output_type": "stream",
     "text": [
      "Epoch 59: Train Loss = 0.0117, Val Loss = 0.0073\n"
     ]
    },
    {
     "name": "stderr",
     "output_type": "stream",
     "text": [
      "100%|██████████| 60/60 [00:08<00:00,  6.81it/s]\n",
      "100%|██████████| 7/7 [00:00<00:00,  9.31it/s]\n"
     ]
    },
    {
     "name": "stdout",
     "output_type": "stream",
     "text": [
      "Epoch 60: Train Loss = 0.0117, Val Loss = 0.0073\n"
     ]
    },
    {
     "name": "stderr",
     "output_type": "stream",
     "text": [
      "100%|██████████| 60/60 [00:08<00:00,  6.90it/s]\n",
      "100%|██████████| 7/7 [00:01<00:00,  6.82it/s]\n"
     ]
    },
    {
     "name": "stdout",
     "output_type": "stream",
     "text": [
      "Epoch 61: Train Loss = 0.0117, Val Loss = 0.0073\n"
     ]
    },
    {
     "name": "stderr",
     "output_type": "stream",
     "text": [
      "100%|██████████| 60/60 [00:08<00:00,  6.84it/s]\n",
      "100%|██████████| 7/7 [00:00<00:00,  8.58it/s]\n"
     ]
    },
    {
     "name": "stdout",
     "output_type": "stream",
     "text": [
      "Epoch 62: Train Loss = 0.0117, Val Loss = 0.0073\n"
     ]
    },
    {
     "name": "stderr",
     "output_type": "stream",
     "text": [
      "100%|██████████| 60/60 [00:08<00:00,  7.40it/s]\n",
      "100%|██████████| 7/7 [00:00<00:00, 10.19it/s]\n"
     ]
    },
    {
     "name": "stdout",
     "output_type": "stream",
     "text": [
      "Epoch 63: Train Loss = 0.0116, Val Loss = 0.0073\n"
     ]
    },
    {
     "name": "stderr",
     "output_type": "stream",
     "text": [
      "100%|██████████| 60/60 [00:08<00:00,  6.98it/s]\n",
      "100%|██████████| 7/7 [00:00<00:00, 11.26it/s]\n"
     ]
    },
    {
     "name": "stdout",
     "output_type": "stream",
     "text": [
      "Epoch 64: Train Loss = 0.0117, Val Loss = 0.0074\n"
     ]
    },
    {
     "name": "stderr",
     "output_type": "stream",
     "text": [
      "100%|██████████| 60/60 [00:08<00:00,  7.30it/s]\n",
      "100%|██████████| 7/7 [00:00<00:00,  8.40it/s]\n"
     ]
    },
    {
     "name": "stdout",
     "output_type": "stream",
     "text": [
      "Epoch 65: Train Loss = 0.0117, Val Loss = 0.0072\n"
     ]
    },
    {
     "name": "stderr",
     "output_type": "stream",
     "text": [
      "100%|██████████| 60/60 [00:07<00:00,  7.60it/s]\n",
      "100%|██████████| 7/7 [00:00<00:00,  7.82it/s]\n"
     ]
    },
    {
     "name": "stdout",
     "output_type": "stream",
     "text": [
      "Epoch 66: Train Loss = 0.0117, Val Loss = 0.0073\n"
     ]
    },
    {
     "name": "stderr",
     "output_type": "stream",
     "text": [
      "100%|██████████| 60/60 [00:07<00:00,  7.61it/s]\n",
      "100%|██████████| 7/7 [00:00<00:00, 10.67it/s]\n"
     ]
    },
    {
     "name": "stdout",
     "output_type": "stream",
     "text": [
      "Epoch 67: Train Loss = 0.0116, Val Loss = 0.0073\n"
     ]
    },
    {
     "name": "stderr",
     "output_type": "stream",
     "text": [
      "100%|██████████| 60/60 [00:08<00:00,  6.99it/s]\n",
      "100%|██████████| 7/7 [00:00<00:00,  7.89it/s]\n"
     ]
    },
    {
     "name": "stdout",
     "output_type": "stream",
     "text": [
      "Epoch 68: Train Loss = 0.0117, Val Loss = 0.0073\n"
     ]
    },
    {
     "name": "stderr",
     "output_type": "stream",
     "text": [
      "100%|██████████| 60/60 [00:08<00:00,  7.06it/s]\n",
      "100%|██████████| 7/7 [00:00<00:00, 10.58it/s]\n"
     ]
    },
    {
     "name": "stdout",
     "output_type": "stream",
     "text": [
      "Epoch 69: Train Loss = 0.0117, Val Loss = 0.0073\n"
     ]
    },
    {
     "name": "stderr",
     "output_type": "stream",
     "text": [
      "100%|██████████| 60/60 [00:08<00:00,  7.44it/s]\n",
      "100%|██████████| 7/7 [00:00<00:00,  8.45it/s]\n"
     ]
    },
    {
     "name": "stdout",
     "output_type": "stream",
     "text": [
      "Epoch 70: Train Loss = 0.0117, Val Loss = 0.0073\n"
     ]
    },
    {
     "name": "stderr",
     "output_type": "stream",
     "text": [
      "100%|██████████| 60/60 [00:08<00:00,  7.31it/s]\n",
      "100%|██████████| 7/7 [00:00<00:00,  8.82it/s]\n"
     ]
    },
    {
     "name": "stdout",
     "output_type": "stream",
     "text": [
      "Epoch 71: Train Loss = 0.0117, Val Loss = 0.0073\n"
     ]
    },
    {
     "name": "stderr",
     "output_type": "stream",
     "text": [
      "100%|██████████| 60/60 [00:10<00:00,  5.64it/s]\n",
      "100%|██████████| 7/7 [00:00<00:00,  9.11it/s]\n"
     ]
    },
    {
     "name": "stdout",
     "output_type": "stream",
     "text": [
      "Epoch 72: Train Loss = 0.0117, Val Loss = 0.0073\n"
     ]
    },
    {
     "name": "stderr",
     "output_type": "stream",
     "text": [
      "100%|██████████| 60/60 [00:08<00:00,  6.86it/s]\n",
      "100%|██████████| 7/7 [00:00<00:00,  8.09it/s]\n"
     ]
    },
    {
     "name": "stdout",
     "output_type": "stream",
     "text": [
      "Epoch 73: Train Loss = 0.0117, Val Loss = 0.0073\n"
     ]
    },
    {
     "name": "stderr",
     "output_type": "stream",
     "text": [
      "100%|██████████| 60/60 [00:09<00:00,  6.52it/s]\n",
      "100%|██████████| 7/7 [00:00<00:00,  7.84it/s]\n"
     ]
    },
    {
     "name": "stdout",
     "output_type": "stream",
     "text": [
      "Epoch 74: Train Loss = 0.0117, Val Loss = 0.0073\n"
     ]
    },
    {
     "name": "stderr",
     "output_type": "stream",
     "text": [
      "100%|██████████| 60/60 [00:10<00:00,  5.59it/s]\n",
      "100%|██████████| 7/7 [00:00<00:00,  8.05it/s]\n"
     ]
    },
    {
     "name": "stdout",
     "output_type": "stream",
     "text": [
      "Epoch 75: Train Loss = 0.0117, Val Loss = 0.0073\n"
     ]
    },
    {
     "name": "stderr",
     "output_type": "stream",
     "text": [
      "100%|██████████| 60/60 [00:08<00:00,  6.76it/s]\n",
      "100%|██████████| 7/7 [00:01<00:00,  6.96it/s]\n"
     ]
    },
    {
     "name": "stdout",
     "output_type": "stream",
     "text": [
      "Epoch 76: Train Loss = 0.0116, Val Loss = 0.0073\n"
     ]
    },
    {
     "name": "stderr",
     "output_type": "stream",
     "text": [
      "100%|██████████| 60/60 [00:08<00:00,  7.19it/s]\n",
      "100%|██████████| 7/7 [00:00<00:00,  9.56it/s]\n"
     ]
    },
    {
     "name": "stdout",
     "output_type": "stream",
     "text": [
      "Epoch 77: Train Loss = 0.0116, Val Loss = 0.0073\n"
     ]
    },
    {
     "name": "stderr",
     "output_type": "stream",
     "text": [
      "100%|██████████| 60/60 [00:07<00:00,  8.41it/s]\n",
      "100%|██████████| 7/7 [00:00<00:00, 10.17it/s]\n"
     ]
    },
    {
     "name": "stdout",
     "output_type": "stream",
     "text": [
      "Epoch 78: Train Loss = 0.0116, Val Loss = 0.0074\n"
     ]
    },
    {
     "name": "stderr",
     "output_type": "stream",
     "text": [
      "100%|██████████| 60/60 [00:07<00:00,  8.35it/s]\n",
      "100%|██████████| 7/7 [00:00<00:00,  9.61it/s]\n"
     ]
    },
    {
     "name": "stdout",
     "output_type": "stream",
     "text": [
      "Epoch 79: Train Loss = 0.0117, Val Loss = 0.0073\n"
     ]
    },
    {
     "name": "stderr",
     "output_type": "stream",
     "text": [
      "100%|██████████| 60/60 [00:06<00:00,  8.80it/s]\n",
      "100%|██████████| 7/7 [00:00<00:00,  9.13it/s]\n"
     ]
    },
    {
     "name": "stdout",
     "output_type": "stream",
     "text": [
      "Epoch 80: Train Loss = 0.0116, Val Loss = 0.0073\n"
     ]
    },
    {
     "name": "stderr",
     "output_type": "stream",
     "text": [
      "100%|██████████| 60/60 [00:07<00:00,  8.46it/s]\n",
      "100%|██████████| 7/7 [00:00<00:00, 11.57it/s]\n"
     ]
    },
    {
     "name": "stdout",
     "output_type": "stream",
     "text": [
      "Epoch 81: Train Loss = 0.0117, Val Loss = 0.0073\n"
     ]
    },
    {
     "name": "stderr",
     "output_type": "stream",
     "text": [
      "100%|██████████| 60/60 [00:06<00:00,  8.60it/s]\n",
      "100%|██████████| 7/7 [00:00<00:00,  9.83it/s]\n"
     ]
    },
    {
     "name": "stdout",
     "output_type": "stream",
     "text": [
      "Epoch 82: Train Loss = 0.0117, Val Loss = 0.0074\n"
     ]
    },
    {
     "name": "stderr",
     "output_type": "stream",
     "text": [
      "100%|██████████| 60/60 [00:06<00:00,  8.66it/s]\n",
      "100%|██████████| 7/7 [00:00<00:00, 11.15it/s]\n"
     ]
    },
    {
     "name": "stdout",
     "output_type": "stream",
     "text": [
      "Epoch 83: Train Loss = 0.0116, Val Loss = 0.0073\n"
     ]
    },
    {
     "name": "stderr",
     "output_type": "stream",
     "text": [
      "100%|██████████| 60/60 [00:07<00:00,  8.09it/s]\n",
      "100%|██████████| 7/7 [00:00<00:00,  8.11it/s]\n"
     ]
    },
    {
     "name": "stdout",
     "output_type": "stream",
     "text": [
      "Epoch 84: Train Loss = 0.0116, Val Loss = 0.0073\n"
     ]
    },
    {
     "name": "stderr",
     "output_type": "stream",
     "text": [
      "100%|██████████| 60/60 [00:07<00:00,  8.06it/s]\n",
      "100%|██████████| 7/7 [00:00<00:00, 11.06it/s]\n"
     ]
    },
    {
     "name": "stdout",
     "output_type": "stream",
     "text": [
      "Epoch 85: Train Loss = 0.0117, Val Loss = 0.0074\n"
     ]
    },
    {
     "name": "stderr",
     "output_type": "stream",
     "text": [
      "100%|██████████| 60/60 [00:08<00:00,  7.00it/s]\n",
      "100%|██████████| 7/7 [00:00<00:00, 12.64it/s]\n"
     ]
    },
    {
     "name": "stdout",
     "output_type": "stream",
     "text": [
      "Epoch 86: Train Loss = 0.0117, Val Loss = 0.0073\n"
     ]
    },
    {
     "name": "stderr",
     "output_type": "stream",
     "text": [
      "100%|██████████| 60/60 [00:06<00:00,  9.09it/s]\n",
      "100%|██████████| 7/7 [00:00<00:00, 10.07it/s]\n"
     ]
    },
    {
     "name": "stdout",
     "output_type": "stream",
     "text": [
      "Epoch 87: Train Loss = 0.0117, Val Loss = 0.0073\n"
     ]
    },
    {
     "name": "stderr",
     "output_type": "stream",
     "text": [
      "100%|██████████| 60/60 [00:06<00:00,  9.05it/s]\n",
      "100%|██████████| 7/7 [00:00<00:00, 13.02it/s]\n"
     ]
    },
    {
     "name": "stdout",
     "output_type": "stream",
     "text": [
      "Epoch 88: Train Loss = 0.0116, Val Loss = 0.0073\n"
     ]
    },
    {
     "name": "stderr",
     "output_type": "stream",
     "text": [
      "100%|██████████| 60/60 [00:06<00:00,  8.62it/s]\n",
      "100%|██████████| 7/7 [00:00<00:00, 10.29it/s]\n"
     ]
    },
    {
     "name": "stdout",
     "output_type": "stream",
     "text": [
      "Epoch 89: Train Loss = 0.0117, Val Loss = 0.0073\n"
     ]
    },
    {
     "name": "stderr",
     "output_type": "stream",
     "text": [
      "100%|██████████| 60/60 [00:06<00:00,  9.12it/s]\n",
      "100%|██████████| 7/7 [00:00<00:00, 10.43it/s]\n"
     ]
    },
    {
     "name": "stdout",
     "output_type": "stream",
     "text": [
      "Epoch 90: Train Loss = 0.0116, Val Loss = 0.0073\n"
     ]
    },
    {
     "name": "stderr",
     "output_type": "stream",
     "text": [
      "100%|██████████| 60/60 [00:06<00:00,  9.06it/s]\n",
      "100%|██████████| 7/7 [00:00<00:00,  9.58it/s]\n"
     ]
    },
    {
     "name": "stdout",
     "output_type": "stream",
     "text": [
      "Epoch 91: Train Loss = 0.0116, Val Loss = 0.0073\n"
     ]
    },
    {
     "name": "stderr",
     "output_type": "stream",
     "text": [
      "100%|██████████| 60/60 [00:07<00:00,  8.52it/s]\n",
      "100%|██████████| 7/7 [00:00<00:00, 13.28it/s]\n"
     ]
    },
    {
     "name": "stdout",
     "output_type": "stream",
     "text": [
      "Epoch 92: Train Loss = 0.0117, Val Loss = 0.0073\n"
     ]
    },
    {
     "name": "stderr",
     "output_type": "stream",
     "text": [
      "100%|██████████| 60/60 [00:06<00:00,  8.93it/s]\n",
      "100%|██████████| 7/7 [00:00<00:00, 10.21it/s]\n"
     ]
    },
    {
     "name": "stdout",
     "output_type": "stream",
     "text": [
      "Epoch 93: Train Loss = 0.0117, Val Loss = 0.0073\n"
     ]
    },
    {
     "name": "stderr",
     "output_type": "stream",
     "text": [
      "100%|██████████| 60/60 [00:06<00:00,  9.28it/s]\n",
      "100%|██████████| 7/7 [00:00<00:00, 10.29it/s]\n"
     ]
    },
    {
     "name": "stdout",
     "output_type": "stream",
     "text": [
      "Epoch 94: Train Loss = 0.0117, Val Loss = 0.0073\n"
     ]
    },
    {
     "name": "stderr",
     "output_type": "stream",
     "text": [
      "100%|██████████| 60/60 [00:06<00:00,  8.90it/s]\n",
      "100%|██████████| 7/7 [00:00<00:00, 10.74it/s]\n"
     ]
    },
    {
     "name": "stdout",
     "output_type": "stream",
     "text": [
      "Epoch 95: Train Loss = 0.0117, Val Loss = 0.0073\n"
     ]
    },
    {
     "name": "stderr",
     "output_type": "stream",
     "text": [
      "100%|██████████| 60/60 [00:07<00:00,  7.64it/s]\n",
      "100%|██████████| 7/7 [00:00<00:00, 10.14it/s]\n"
     ]
    },
    {
     "name": "stdout",
     "output_type": "stream",
     "text": [
      "Epoch 96: Train Loss = 0.0117, Val Loss = 0.0072\n"
     ]
    },
    {
     "name": "stderr",
     "output_type": "stream",
     "text": [
      "100%|██████████| 60/60 [00:06<00:00,  8.97it/s]\n",
      "100%|██████████| 7/7 [00:00<00:00,  9.79it/s]\n"
     ]
    },
    {
     "name": "stdout",
     "output_type": "stream",
     "text": [
      "Epoch 97: Train Loss = 0.0117, Val Loss = 0.0073\n"
     ]
    },
    {
     "name": "stderr",
     "output_type": "stream",
     "text": [
      "100%|██████████| 60/60 [00:07<00:00,  8.31it/s]\n",
      "100%|██████████| 7/7 [00:00<00:00, 10.45it/s]\n"
     ]
    },
    {
     "name": "stdout",
     "output_type": "stream",
     "text": [
      "Epoch 98: Train Loss = 0.0117, Val Loss = 0.0073\n"
     ]
    },
    {
     "name": "stderr",
     "output_type": "stream",
     "text": [
      "100%|██████████| 60/60 [00:07<00:00,  8.53it/s]\n",
      "100%|██████████| 7/7 [00:00<00:00, 12.78it/s]\n"
     ]
    },
    {
     "name": "stdout",
     "output_type": "stream",
     "text": [
      "Epoch 99: Train Loss = 0.0116, Val Loss = 0.0073\n"
     ]
    },
    {
     "name": "stderr",
     "output_type": "stream",
     "text": [
      "100%|██████████| 60/60 [00:06<00:00,  8.68it/s]\n",
      "100%|██████████| 7/7 [00:00<00:00, 10.11it/s]"
     ]
    },
    {
     "name": "stdout",
     "output_type": "stream",
     "text": [
      "Epoch 100: Train Loss = 0.0117, Val Loss = 0.0072\n"
     ]
    },
    {
     "name": "stderr",
     "output_type": "stream",
     "text": [
      "\n"
     ]
    }
   ],
   "source": [
    "from tqdm import tqdm\n",
    "\n",
    "for epoch in range(1, num_epochs+1):\n",
    "    model.train()\n",
    "    train_loss = 0.0\n",
    "    for xb, yb in tqdm(train_loader):\n",
    "        xb, yb = xb.to(device).float(), yb.to(device).float()\n",
    "        optimizer.zero_grad()\n",
    "        preds = model(xb)\n",
    "        loss = criterion(preds, yb)\n",
    "        loss.backward()\n",
    "        optimizer.step()\n",
    "        train_loss += loss.item() * xb.size(0)\n",
    "    train_loss /= len(train_loader.dataset)\n",
    "    train_losses.append(train_loss)\n",
    "    model.eval()\n",
    "    val_loss = 0.0\n",
    "    with torch.no_grad():\n",
    "        for xb, yb in tqdm(val_loader):\n",
    "            xb, yb = xb.to(device).float(), yb.to(device).float()\n",
    "            preds = model(xb)\n",
    "            loss = criterion(preds, yb)\n",
    "            val_loss += loss.item() * xb.size(0)\n",
    "    val_loss /= len(val_loader.dataset)\n",
    "    val_losses.append(val_loss)\n",
    "    scheduler.step(val_loss)\n",
    "    print(f\"Epoch {epoch:02d}: Train Loss = {train_loss:.4f}, Val Loss = {val_loss:.4f}\")\n"
   ]
  },
  {
   "cell_type": "code",
   "execution_count": 34,
   "id": "3a8221e6",
   "metadata": {},
   "outputs": [
    {
     "data": {
      "image/png": "[encoded data removed]",
      "text/plain": [
       "<Figure size 640x480 with 1 Axes>"
      ]
     },
     "metadata": {},
     "output_type": "display_data"
    }
   ],
   "source": [
    "plt.plot(train_losses, label=\"Train Loss\")\n",
    "plt.plot(val_losses, label=\"Validation Loss\")\n",
    "plt.xlabel(\"Epoch\")\n",
    "plt.ylabel(\"Loss\")\n",
    "plt.title(\"Training and Validation Loss\")\n",
    "plt.legend()\n",
    "plt.show()"
   ]
  },
  {
   "cell_type": "markdown",
   "id": "b3a983f8",
   "metadata": {},
   "source": [
    "## Test"
   ]
  },
  {
   "cell_type": "code",
   "execution_count": 78,
   "id": "76830375",
   "metadata": {},
   "outputs": [
    {
     "name": "stdout",
     "output_type": "stream",
     "text": [
      "Test MSE: 0.014980\n"
     ]
    }
   ],
   "source": [
    "all_preds = []\n",
    "all_targets = []\n",
    "with torch.no_grad():\n",
    "    for xb, yb in test_loader:\n",
    "        xb = xb.to(device).float()\n",
    "        preds = model(xb).cpu()\n",
    "        \n",
    "        all_preds.append(preds.flatten())\n",
    "        all_targets.append(yb.flatten())\n",
    "y_pred = torch.cat(all_preds).numpy()\n",
    "y_true = torch.cat(all_targets).numpy()\n",
    "\n",
    "mse_test = ((y_pred - y_true) ** 2).mean()\n",
    "print(f\"Test MSE: {mse_test:.6f}\")"
   ]
  },
  {
   "cell_type": "markdown",
   "id": "a46c6e62",
   "metadata": {},
   "source": [
    "## Visualisation des resultats"
   ]
  },
  {
   "cell_type": "code",
   "execution_count": 23,
   "id": "78b32df0",
   "metadata": {},
   "outputs": [],
   "source": [
    "df_test_results = pd.DataFrame({\n",
    "    'y_test': y_true.flatten(),\n",
    "    'Cross Reference Type': df_test['Cross Reference Type'].values,\n",
    "    'y_pred': y_pred.flatten()\n",
    "})"
   ]
  },
  {
   "cell_type": "code",
   "execution_count": 24,
   "id": "849fe3ba",
   "metadata": {},
   "outputs": [
    {
     "name": "stderr",
     "output_type": "stream",
     "text": [
      "C:\\Users\\adamg\\AppData\\Local\\Temp\\ipykernel_70768\\2580040288.py:11: UserWarning: No artists with labels found to put in legend.  Note that artists whose label start with an underscore are ignored when legend() is called with no argument.\n",
      "  plt.legend()\n"
     ]
    },
    {
     "data": {
      "image/png": "[encoded data removed]",
      "text/plain": [
       "<Figure size 640x480 with 1 Axes>"
      ]
     },
     "metadata": {},
     "output_type": "display_data"
    }
   ],
   "source": [
    "sns.kdeplot(\n",
    "    data=df_test_results.sort_values(\"Cross Reference Type\"),\n",
    "    x='y_pred',\n",
    "    hue='Cross Reference Type',\n",
    "    fill=True,\n",
    "    common_norm=False\n",
    ")\n",
    "plt.xlabel(\"Closeness\")\n",
    "plt.ylabel(\"Density\")\n",
    "plt.title(\"KDE Plot of Predicted Closeness (by Cross Reference Type)\")\n",
    "plt.legend()\n",
    "plt.show()"
   ]
  },
  {
   "cell_type": "markdown",
   "id": "39fdc7ce",
   "metadata": {},
   "source": [
    "## Creation de la matrice de similarités"
   ]
  },
  {
   "cell_type": "code",
   "execution_count": 79,
   "id": "48ec6f15",
   "metadata": {},
   "outputs": [],
   "source": [
    "n = len(df_feat_scaled)"
   ]
  },
  {
   "cell_type": "code",
   "execution_count": 80,
   "id": "efbf4b75",
   "metadata": {},
   "outputs": [],
   "source": [
    "df_f = df_feat_scaled.drop(columns=[\"MPN\",\"MANUFACTURER\"])"
   ]
  },
  {
   "cell_type": "code",
   "execution_count": 81,
   "id": "41bbdaf7",
   "metadata": {},
   "outputs": [],
   "source": [
    "matrix = np.zeros((n, n), dtype=np.float32) "
   ]
  },
  {
   "cell_type": "code",
   "execution_count": 83,
   "id": "b8c217a3",
   "metadata": {},
   "outputs": [
    {
     "name": "stderr",
     "output_type": "stream",
     "text": [
      "Building closeness matrix: 100%|██████████| 18352/18352 [04:52<00:00, 62.67it/s]\n"
     ]
    }
   ],
   "source": [
    "from tqdm import tqdm\n",
    "for i in tqdm(range(n), desc=\"Building closeness matrix\"):\n",
    "    # Get current product features\n",
    "    product_i = df_f.iloc[i:i+1]\n",
    "    merged_df = product_i.merge(df_f, how='cross',suffixes = (\"\",\"_comp\"))\n",
    "\n",
    "    merged_df['Supplier_Package'] = le.transform(merged_df['Supplier_Package'])\n",
    "    merged_df['Supplier_Package_comp'] = le.transform(merged_df['Supplier_Package_comp'])\n",
    "    X_tensor = torch.tensor(merged_df.values, dtype=torch.long)\n",
    "    model.eval()\n",
    "    with torch.no_grad():\n",
    "        y = model(X_tensor.to(device)).cpu().numpy()\n",
    "    y = y.flatten()\n",
    "    \n",
    "    matrix[i, :] = y"
   ]
  },
  {
   "cell_type": "code",
   "execution_count": 84,
   "id": "44535f6a",
   "metadata": {},
   "outputs": [],
   "source": [
    "np.save(\"closeness_map MLP with embedding.npy\", matrix)"
   ]
  },
  {
   "cell_type": "markdown",
   "id": "6e443e4f",
   "metadata": {},
   "source": [
    "## Visualisation de la matrice"
   ]
  },
  {
   "cell_type": "code",
   "execution_count": 53,
   "id": "7e2b1da8",
   "metadata": {},
   "outputs": [
    {
     "name": "stdout",
     "output_type": "stream",
     "text": [
      "Downscaling from (18352, 18352) to (10000, 10000) ...\n",
      "Saved MLP with embedding on closeness map at ~(10000x10000) px, dpi=500.\n"
     ]
    }
   ],
   "source": [
    "import helper_functions.visualize as vz\n",
    "import importlib\n",
    "importlib.reload(vz)\n",
    "vz.export_matrix_downscaled(matrix , name=\"MLP with embedding on closeness map\")"
   ]
  },
  {
   "cell_type": "markdown",
   "id": "2f9bedd9",
   "metadata": {},
   "source": [
    "# Extraction des embeddings"
   ]
  },
  {
   "cell_type": "markdown",
   "id": "e1975781",
   "metadata": {},
   "source": [
    "## Distance Supplier Package"
   ]
  },
  {
   "cell_type": "code",
   "execution_count": 85,
   "id": "7396c1fe",
   "metadata": {},
   "outputs": [],
   "source": [
    "# Compute Euclidean distance between embeddings for each row in df\n",
    "with torch.no_grad():\n",
    "    emb1 = model.embedding(torch.tensor(df['Supplier_Package'].values, dtype=torch.long, device=device))\n",
    "    emb2 = model.embedding(torch.tensor(df['Supplier_Package_comp'].values, dtype=torch.long, device=device))\n",
    "    dist = torch.norm(emb1 - emb2, dim=1).cpu().numpy()\n",
    "df['distance_Supplier_Package'] = dist"
   ]
  },
  {
   "cell_type": "markdown",
   "id": "eedf7937",
   "metadata": {},
   "source": [
    "### Visualisation des distances "
   ]
  },
  {
   "cell_type": "code",
   "execution_count": 29,
   "id": "fdbb9483",
   "metadata": {},
   "outputs": [
    {
     "data": {
      "text/plain": [
       "Text(0.5, 1.0, 'Distance entre Supplier_Package et Supplier_Package_comp')"
      ]
     },
     "execution_count": 29,
     "metadata": {},
     "output_type": "execute_result"
    },
    {
     "data": {
      "image/png": "[encoded data removed]",
      "text/plain": [
       "<Figure size 640x480 with 1 Axes>"
      ]
     },
     "metadata": {},
     "output_type": "display_data"
    }
   ],
   "source": [
    "sns.histplot(data=df, x='distance_Supplier_Package', hue='Cross Reference Type', fill=True, common_norm=False,bins=100)\n",
    "plt.xlabel(\"Distance\")\n",
    "plt.title(\"Distance entre Supplier_Package et Supplier_Package_comp\")"
   ]
  },
  {
   "cell_type": "markdown",
   "id": "b381dac5",
   "metadata": {},
   "source": [
    "## Cosine Similarity Supplier Package"
   ]
  },
  {
   "cell_type": "code",
   "execution_count": 86,
   "id": "f7e847ba",
   "metadata": {},
   "outputs": [],
   "source": [
    "# Compute cosine similarity between embeddings for each row in df\n",
    "with torch.no_grad():\n",
    "    emb1 = model.embedding(torch.tensor(df['Supplier_Package'].values, dtype=torch.long, device=device))\n",
    "    emb2 = model.embedding(torch.tensor(df['Supplier_Package_comp'].values, dtype=torch.long, device=device))\n",
    "    cos_sim = F.cosine_similarity(emb1, emb2, dim=1).cpu().numpy()\n",
    "df['cosine_similarity_Supplier_Package'] = cos_sim"
   ]
  },
  {
   "cell_type": "markdown",
   "id": "f8e6ffe9",
   "metadata": {},
   "source": [
    "### Visualisation de la similarité Cosinus "
   ]
  },
  {
   "cell_type": "code",
   "execution_count": 31,
   "id": "de30c900",
   "metadata": {},
   "outputs": [
    {
     "data": {
      "text/plain": [
       "Text(0.5, 1.0, 'Similarité cosinus entre Supplier_Package et Supplier_Package_comp')"
      ]
     },
     "execution_count": 31,
     "metadata": {},
     "output_type": "execute_result"
    },
    {
     "data": {
      "image/png": "[encoded data removed]",
      "text/plain": [
       "<Figure size 640x480 with 1 Axes>"
      ]
     },
     "metadata": {},
     "output_type": "display_data"
    }
   ],
   "source": [
    "sns.histplot(data=df, x='cosine_similarity_Supplier_Package', hue='Cross Reference Type', fill=True, common_norm=False,bins=100)\n",
    "plt.xlabel(\"Similarité cosinus\")\n",
    "plt.title(\"Similarité cosinus entre Supplier_Package et Supplier_Package_comp\")"
   ]
  },
  {
   "cell_type": "markdown",
   "id": "d450617a",
   "metadata": {},
   "source": [
    "# Recalcul des distance (pour creer une colonne \"Closeness\" plus precise)"
   ]
  },
  {
   "cell_type": "code",
   "execution_count": 87,
   "id": "87eeb4d1",
   "metadata": {},
   "outputs": [],
   "source": [
    "for col in numerical_columns:\n",
    "    df[\"distance_\"+col] = np.abs(df[col] - df[col+\"_comp\"])"
   ]
  },
  {
   "cell_type": "code",
   "execution_count": 43,
   "id": "e4d2fe44",
   "metadata": {},
   "outputs": [
    {
     "data": {
      "text/plain": [
       "Index(['Cross Reference Type', 'MPN', 'MANUFACTURER',\n",
       "       'Maximum Input Offset Voltage', 'Maximum Single Supply Voltage',\n",
       "       'Minimum Single Supply Voltage', 'Number of Channels per Chip',\n",
       "       'Supplier_Package', 'Typical Gain Bandwidth Product', 'MPN_comp',\n",
       "       'MANUFACTURER_comp', 'Maximum Input Offset Voltage_comp',\n",
       "       'Maximum Single Supply Voltage_comp',\n",
       "       'Minimum Single Supply Voltage_comp',\n",
       "       'Number of Channels per Chip_comp', 'Supplier_Package_comp',\n",
       "       'Typical Gain Bandwidth Product_comp', 'Closeness',\n",
       "       'distance_Supplier_Package', 'cosine_similarity_Supplier_Package',\n",
       "       'distance_Maximum Input Offset Voltage',\n",
       "       'distance_Maximum Single Supply Voltage',\n",
       "       'distance_Minimum Single Supply Voltage',\n",
       "       'distance_Number of Channels per Chip',\n",
       "       'distance_Typical Gain Bandwidth Product', 'distance_cosine',\n",
       "       'distance'],\n",
       "      dtype='object')"
      ]
     },
     "execution_count": 43,
     "metadata": {},
     "output_type": "execute_result"
    }
   ],
   "source": [
    "df.columns"
   ]
  },
  {
   "cell_type": "markdown",
   "id": "43f25566",
   "metadata": {},
   "source": [
    "## Distance en valeur absolue en utilisant les nouvelles distances de supplier_package (par embedding)"
   ]
  },
  {
   "cell_type": "code",
   "execution_count": 88,
   "id": "b73b9114",
   "metadata": {},
   "outputs": [],
   "source": [
    "df[\"distance_cosine\"] = 1 - (df[\"cosine_similarity_Supplier_Package\"]+1)/2"
   ]
  },
  {
   "cell_type": "code",
   "execution_count": 89,
   "id": "4bb33468",
   "metadata": {},
   "outputs": [],
   "source": [
    "df['distance_Supplier_Package'] = df['distance_Supplier_Package']/df['distance_Supplier_Package'].max()"
   ]
  },
  {
   "cell_type": "code",
   "execution_count": 90,
   "id": "dfd476e0",
   "metadata": {},
   "outputs": [],
   "source": [
    "df[\"distance\"] = (df['distance_Maximum Input Offset Voltage']+df['distance_Maximum Single Supply Voltage']+df['distance_Minimum Single Supply Voltage']+df['distance_Number of Channels per Chip']+df['distance_Typical Gain Bandwidth Product'] + 2*df[\"distance_Supplier_Package\"] + 3* df[\"distance_cosine\"])/5"
   ]
  },
  {
   "cell_type": "markdown",
   "id": "c65f12a6",
   "metadata": {},
   "source": [
    "### Visualisation des distances"
   ]
  },
  {
   "cell_type": "code",
   "execution_count": 91,
   "id": "4d41bfda",
   "metadata": {},
   "outputs": [
    {
     "data": {
      "text/plain": [
       "<Axes: xlabel='distance', ylabel='Count'>"
      ]
     },
     "execution_count": 91,
     "metadata": {},
     "output_type": "execute_result"
    },
    {
     "data": {
      "image/png": "[encoded data removed]",
      "text/plain": [
       "<Figure size 640x480 with 1 Axes>"
      ]
     },
     "metadata": {},
     "output_type": "display_data"
    }
   ],
   "source": [
    "sns.histplot(data=df, x='distance', hue='Cross Reference Type', bins=100)"
   ]
  },
  {
   "cell_type": "markdown",
   "id": "b3893441",
   "metadata": {},
   "source": [
    "## Calcul de Closenss (formulation en valeur absolue)"
   ]
  },
  {
   "cell_type": "code",
   "execution_count": 92,
   "id": "00c3b2ff",
   "metadata": {},
   "outputs": [],
   "source": [
    "df[\"Closeness\"] = df[\"Cross Reference Type\"].map(base_means)"
   ]
  },
  {
   "cell_type": "code",
   "execution_count": 93,
   "id": "8f7cbe0a",
   "metadata": {},
   "outputs": [],
   "source": [
    "spread = 0.1"
   ]
  },
  {
   "cell_type": "code",
   "execution_count": 94,
   "id": "79ad8d9f",
   "metadata": {},
   "outputs": [],
   "source": [
    "df[\"Closeness\"] -= (df[\"distance\"]*spread)"
   ]
  },
  {
   "cell_type": "code",
   "execution_count": 95,
   "id": "8d9267fe",
   "metadata": {},
   "outputs": [
    {
     "data": {
      "text/plain": [
       "<Axes: xlabel='Closeness', ylabel='Count'>"
      ]
     },
     "execution_count": 95,
     "metadata": {},
     "output_type": "execute_result"
    },
    {
     "data": {
      "image/png": "[encoded data removed]",
      "text/plain": [
       "<Figure size 640x480 with 1 Axes>"
      ]
     },
     "metadata": {},
     "output_type": "display_data"
    }
   ],
   "source": [
    "sns.histplot(data=df, x='Closeness', hue='Cross Reference Type', bins=200)"
   ]
  },
  {
   "cell_type": "code",
   "execution_count": 9,
   "id": "2cbb4c0b",
   "metadata": {},
   "outputs": [
    {
     "data": {
      "text/plain": [
       "Index(['Cross Reference Type', 'MPN', 'MANUFACTURER',\n",
       "       'Maximum Input Offset Voltage', 'Maximum Single Supply Voltage',\n",
       "       'Minimum Single Supply Voltage', 'Number of Channels per Chip',\n",
       "       'Supplier_Package', 'Typical Gain Bandwidth Product', 'MPN_comp',\n",
       "       'MANUFACTURER_comp', 'Maximum Input Offset Voltage_comp',\n",
       "       'Maximum Single Supply Voltage_comp',\n",
       "       'Minimum Single Supply Voltage_comp',\n",
       "       'Number of Channels per Chip_comp', 'Supplier_Package_comp',\n",
       "       'Typical Gain Bandwidth Product_comp'],\n",
       "      dtype='object')"
      ]
     },
     "execution_count": 9,
     "metadata": {},
     "output_type": "execute_result"
    }
   ],
   "source": [
    "df.columns"
   ]
  },
  {
   "cell_type": "markdown",
   "id": "9a75595a",
   "metadata": {},
   "source": [
    "# Entrainement du même modele avec la nouvelle colonne \"Closeness\""
   ]
  },
  {
   "cell_type": "markdown",
   "id": "637e310f",
   "metadata": {},
   "source": [
    "## Données"
   ]
  },
  {
   "cell_type": "code",
   "execution_count": 96,
   "id": "5fd2d9ce",
   "metadata": {},
   "outputs": [],
   "source": [
    "columns_to_drop = ['Closeness',\n",
    " 'MPN',\n",
    " 'MANUFACTURER',\n",
    " 'MPN_comp',\n",
    " 'MANUFACTURER_comp',\n",
    " 'Cross Reference Type','distance_Supplier_Package', 'cosine_similarity_Supplier_Package',\n",
    "       'distance_Maximum Input Offset Voltage',\n",
    "       'distance_Maximum Single Supply Voltage',\n",
    "       'distance_Minimum Single Supply Voltage',\n",
    "       'distance_Number of Channels per Chip',\n",
    "       'distance_Typical Gain Bandwidth Product', 'distance_cosine',\n",
    "       'distance'] "
   ]
  },
  {
   "cell_type": "code",
   "execution_count": 97,
   "id": "0b86f844",
   "metadata": {},
   "outputs": [
    {
     "name": "stdout",
     "output_type": "stream",
     "text": [
      "Length : 490523\n"
     ]
    }
   ],
   "source": [
    "df_train, df_validation, df_test = pp.split_dataframe(df)\n",
    "df_train = pp.balance_training_data(df_train,ratios={\"A\": 4, \"B\": 3, \"C\": 1, \"D\": 1/3})\n",
    "print(f\"Length : {len(df_train)}\")"
   ]
  },
  {
   "cell_type": "code",
   "execution_count": 98,
   "id": "89fa205a",
   "metadata": {},
   "outputs": [],
   "source": [
    "X_train = df_train.drop(columns=columns_to_drop)\n",
    "X_validation = df_validation.drop(columns=columns_to_drop)\n",
    "X_test = df_test.drop(columns=columns_to_drop)\n",
    "\n",
    "y_train = df_train['Closeness']\n",
    "y_validation = df_validation['Closeness']\n",
    "y_test = df_test['Closeness']"
   ]
  },
  {
   "cell_type": "code",
   "execution_count": 99,
   "id": "e2e7b79c",
   "metadata": {},
   "outputs": [
    {
     "data": {
      "text/plain": [
       "Index(['Maximum Input Offset Voltage', 'Maximum Single Supply Voltage',\n",
       "       'Minimum Single Supply Voltage', 'Number of Channels per Chip',\n",
       "       'Supplier_Package', 'Typical Gain Bandwidth Product',\n",
       "       'Maximum Input Offset Voltage_comp',\n",
       "       'Maximum Single Supply Voltage_comp',\n",
       "       'Minimum Single Supply Voltage_comp',\n",
       "       'Number of Channels per Chip_comp', 'Supplier_Package_comp',\n",
       "       'Typical Gain Bandwidth Product_comp'],\n",
       "      dtype='object')"
      ]
     },
     "execution_count": 99,
     "metadata": {},
     "output_type": "execute_result"
    }
   ],
   "source": [
    "df_train.drop(columns=columns_to_drop).columns"
   ]
  },
  {
   "cell_type": "code",
   "execution_count": 100,
   "id": "9ada6ef0",
   "metadata": {},
   "outputs": [],
   "source": [
    "\n",
    "X_train = torch.tensor(X_train.values, dtype=torch.float16)\n",
    "X_validation = torch.tensor(X_validation.values, dtype=torch.float16)\n",
    "X_test = torch.tensor(X_test.values, dtype=torch.float16)\n",
    "y_train = torch.tensor(y_train.values, dtype=torch.float16).reshape(-1, 1)\n",
    "y_validation = torch.tensor(y_validation.values, dtype=torch.float16).reshape(-1, 1)\n",
    "y_test = torch.tensor(y_test.values, dtype=torch.float16).reshape(-1, 1)"
   ]
  },
  {
   "cell_type": "code",
   "execution_count": 101,
   "id": "32676639",
   "metadata": {},
   "outputs": [],
   "source": [
    "train_dataset = TensorDataset(X_train.cpu(), y_train.cpu())\n",
    "train_loader = DataLoader(train_dataset, batch_size=batch_size, shuffle=True,pin_memory=True)\n",
    "\n",
    "val_dataset = TensorDataset(X_validation.cpu(), y_validation.cpu())\n",
    "val_loader = DataLoader(val_dataset, batch_size=batch_size, shuffle=False,pin_memory=True)\n",
    "\n",
    "test_dataset = TensorDataset(X_test.cpu(), y_test.cpu())\n",
    "test_loader = DataLoader(test_dataset, batch_size=batch_size, shuffle=False,pin_memory=True)"
   ]
  },
  {
   "cell_type": "code",
   "execution_count": null,
   "id": "f71b0f77",
   "metadata": {},
   "outputs": [],
   "source": [
    "# torch.save(model.state_dict(), \"similarity_model_weights_first_train_labelmap.pth\")"
   ]
  },
  {
   "cell_type": "markdown",
   "id": "bc0d2d52",
   "metadata": {},
   "source": [
    "## Entrainement"
   ]
  },
  {
   "cell_type": "code",
   "execution_count": null,
   "id": "0572d300",
   "metadata": {},
   "outputs": [
    {
     "name": "stderr",
     "output_type": "stream",
     "text": [
      "C:\\Users\\adamg\\AppData\\Local\\Temp\\ipykernel_70768\\3997953558.py:2: FutureWarning: You are using `torch.load` with `weights_only=False` (the current default value), which uses the default pickle module implicitly. It is possible to construct malicious pickle data which will execute arbitrary code during unpickling (See https://github.com/pytorch/pytorch/blob/main/SECURITY.md#untrusted-models for more details). In a future release, the default value for `weights_only` will be flipped to `True`. This limits the functions that could be executed during unpickling. Arbitrary objects will no longer be allowed to be loaded via this mode unless they are explicitly allowlisted by the user via `torch.serialization.add_safe_globals`. We recommend you start setting `weights_only=True` for any use case where you don't have full control of the loaded file. Please open an issue on GitHub for any issues related to this experimental feature.\n",
      "  model.load_state_dict(torch.load(\"similarity_model_weights_second_train_closeness_abs_embedding.pth\"))\n"
     ]
    },
    {
     "data": {
      "text/plain": [
       "<All keys matched successfully>"
      ]
     },
     "execution_count": 102,
     "metadata": {},
     "output_type": "execute_result"
    }
   ],
   "source": [
    "model = SimilarityModel().to(device)\n",
    "# model.load_state_dict(torch.load(\"similarity_model_weights_second_train_closeness_abs_embedding.pth\"))"
   ]
  },
  {
   "cell_type": "code",
   "execution_count": 50,
   "id": "7a83418d",
   "metadata": {},
   "outputs": [
    {
     "name": "stderr",
     "output_type": "stream",
     "text": [
      "c:\\Users\\adamg\\AppData\\Local\\Programs\\Python\\Python311\\Lib\\site-packages\\torch\\optim\\lr_scheduler.py:60: UserWarning: The verbose parameter is deprecated. Please use get_last_lr() to access the learning rate.\n",
      "  warnings.warn(\n"
     ]
    }
   ],
   "source": [
    "criterion = nn.MSELoss()\n",
    "optimizer = torch.optim.Adam(model.parameters(), lr=1e-2)\n",
    "scheduler = torch.optim.lr_scheduler.ReduceLROnPlateau(\n",
    "    optimizer, mode='min', factor=0.5, patience=5, verbose=True\n",
    ")"
   ]
  },
  {
   "cell_type": "code",
   "execution_count": 131,
   "id": "d595255e",
   "metadata": {},
   "outputs": [],
   "source": [
    "train_losses = []\n",
    "val_losses = []"
   ]
  },
  {
   "cell_type": "code",
   "execution_count": 132,
   "id": "90bd366b",
   "metadata": {},
   "outputs": [
    {
     "name": "stderr",
     "output_type": "stream",
     "text": [
      "100%|██████████| 60/60 [00:08<00:00,  7.05it/s]\n",
      "100%|██████████| 7/7 [00:00<00:00, 16.78it/s]\n"
     ]
    },
    {
     "name": "stdout",
     "output_type": "stream",
     "text": [
      "Epoch 01: Train Loss = 0.0298, Val Loss = 0.0110\n"
     ]
    },
    {
     "name": "stderr",
     "output_type": "stream",
     "text": [
      "100%|██████████| 60/60 [00:07<00:00,  8.33it/s]\n",
      "100%|██████████| 7/7 [00:00<00:00, 17.30it/s]\n"
     ]
    },
    {
     "name": "stdout",
     "output_type": "stream",
     "text": [
      "Epoch 02: Train Loss = 0.0178, Val Loss = 0.0106\n"
     ]
    },
    {
     "name": "stderr",
     "output_type": "stream",
     "text": [
      "100%|██████████| 60/60 [00:07<00:00,  8.52it/s]\n",
      "100%|██████████| 7/7 [00:00<00:00, 16.89it/s]\n"
     ]
    },
    {
     "name": "stdout",
     "output_type": "stream",
     "text": [
      "Epoch 03: Train Loss = 0.0162, Val Loss = 0.0098\n"
     ]
    },
    {
     "name": "stderr",
     "output_type": "stream",
     "text": [
      "100%|██████████| 60/60 [00:07<00:00,  8.44it/s]\n",
      "100%|██████████| 7/7 [00:00<00:00, 17.10it/s]\n"
     ]
    },
    {
     "name": "stdout",
     "output_type": "stream",
     "text": [
      "Epoch 04: Train Loss = 0.0155, Val Loss = 0.0090\n"
     ]
    },
    {
     "name": "stderr",
     "output_type": "stream",
     "text": [
      "100%|██████████| 60/60 [00:07<00:00,  8.44it/s]\n",
      "100%|██████████| 7/7 [00:00<00:00, 17.18it/s]\n"
     ]
    },
    {
     "name": "stdout",
     "output_type": "stream",
     "text": [
      "Epoch 05: Train Loss = 0.0150, Val Loss = 0.0096\n"
     ]
    },
    {
     "name": "stderr",
     "output_type": "stream",
     "text": [
      "100%|██████████| 60/60 [00:07<00:00,  8.53it/s]\n",
      "100%|██████████| 7/7 [00:00<00:00, 17.44it/s]\n"
     ]
    },
    {
     "name": "stdout",
     "output_type": "stream",
     "text": [
      "Epoch 06: Train Loss = 0.0145, Val Loss = 0.0090\n"
     ]
    },
    {
     "name": "stderr",
     "output_type": "stream",
     "text": [
      "100%|██████████| 60/60 [00:07<00:00,  7.71it/s]\n",
      "100%|██████████| 7/7 [00:00<00:00, 15.90it/s]\n"
     ]
    },
    {
     "name": "stdout",
     "output_type": "stream",
     "text": [
      "Epoch 07: Train Loss = 0.0143, Val Loss = 0.0094\n"
     ]
    },
    {
     "name": "stderr",
     "output_type": "stream",
     "text": [
      "100%|██████████| 60/60 [00:07<00:00,  7.58it/s]\n",
      "100%|██████████| 7/7 [00:00<00:00, 14.74it/s]\n"
     ]
    },
    {
     "name": "stdout",
     "output_type": "stream",
     "text": [
      "Epoch 08: Train Loss = 0.0141, Val Loss = 0.0095\n"
     ]
    },
    {
     "name": "stderr",
     "output_type": "stream",
     "text": [
      "100%|██████████| 60/60 [00:07<00:00,  7.59it/s]\n",
      "100%|██████████| 7/7 [00:00<00:00, 13.27it/s]\n"
     ]
    },
    {
     "name": "stdout",
     "output_type": "stream",
     "text": [
      "Epoch 09: Train Loss = 0.0139, Val Loss = 0.0094\n"
     ]
    },
    {
     "name": "stderr",
     "output_type": "stream",
     "text": [
      "100%|██████████| 60/60 [00:07<00:00,  7.83it/s]\n",
      "100%|██████████| 7/7 [00:00<00:00, 17.59it/s]\n"
     ]
    },
    {
     "name": "stdout",
     "output_type": "stream",
     "text": [
      "Epoch 10: Train Loss = 0.0137, Val Loss = 0.0095\n"
     ]
    },
    {
     "name": "stderr",
     "output_type": "stream",
     "text": [
      "100%|██████████| 60/60 [00:07<00:00,  8.51it/s]\n",
      "100%|██████████| 7/7 [00:00<00:00, 17.49it/s]\n"
     ]
    },
    {
     "name": "stdout",
     "output_type": "stream",
     "text": [
      "Epoch 11: Train Loss = 0.0134, Val Loss = 0.0085\n"
     ]
    },
    {
     "name": "stderr",
     "output_type": "stream",
     "text": [
      "100%|██████████| 60/60 [00:06<00:00,  8.58it/s]\n",
      "100%|██████████| 7/7 [00:00<00:00, 17.23it/s]\n"
     ]
    },
    {
     "name": "stdout",
     "output_type": "stream",
     "text": [
      "Epoch 12: Train Loss = 0.0133, Val Loss = 0.0084\n"
     ]
    },
    {
     "name": "stderr",
     "output_type": "stream",
     "text": [
      "100%|██████████| 60/60 [00:06<00:00,  8.66it/s]\n",
      "100%|██████████| 7/7 [00:00<00:00, 17.54it/s]\n"
     ]
    },
    {
     "name": "stdout",
     "output_type": "stream",
     "text": [
      "Epoch 13: Train Loss = 0.0132, Val Loss = 0.0085\n"
     ]
    },
    {
     "name": "stderr",
     "output_type": "stream",
     "text": [
      "100%|██████████| 60/60 [00:07<00:00,  8.40it/s]\n",
      "100%|██████████| 7/7 [00:00<00:00, 15.84it/s]\n"
     ]
    },
    {
     "name": "stdout",
     "output_type": "stream",
     "text": [
      "Epoch 14: Train Loss = 0.0132, Val Loss = 0.0082\n"
     ]
    },
    {
     "name": "stderr",
     "output_type": "stream",
     "text": [
      "100%|██████████| 60/60 [00:07<00:00,  8.54it/s]\n",
      "100%|██████████| 7/7 [00:00<00:00, 17.00it/s]\n"
     ]
    },
    {
     "name": "stdout",
     "output_type": "stream",
     "text": [
      "Epoch 15: Train Loss = 0.0131, Val Loss = 0.0079\n"
     ]
    },
    {
     "name": "stderr",
     "output_type": "stream",
     "text": [
      "100%|██████████| 60/60 [00:07<00:00,  8.42it/s]\n",
      "100%|██████████| 7/7 [00:00<00:00, 17.21it/s]\n"
     ]
    },
    {
     "name": "stdout",
     "output_type": "stream",
     "text": [
      "Epoch 16: Train Loss = 0.0131, Val Loss = 0.0081\n"
     ]
    },
    {
     "name": "stderr",
     "output_type": "stream",
     "text": [
      "100%|██████████| 60/60 [00:07<00:00,  8.54it/s]\n",
      "100%|██████████| 7/7 [00:00<00:00, 17.11it/s]\n"
     ]
    },
    {
     "name": "stdout",
     "output_type": "stream",
     "text": [
      "Epoch 17: Train Loss = 0.0130, Val Loss = 0.0083\n"
     ]
    },
    {
     "name": "stderr",
     "output_type": "stream",
     "text": [
      "100%|██████████| 60/60 [00:07<00:00,  8.54it/s]\n",
      "100%|██████████| 7/7 [00:00<00:00, 16.70it/s]\n"
     ]
    },
    {
     "name": "stdout",
     "output_type": "stream",
     "text": [
      "Epoch 18: Train Loss = 0.0129, Val Loss = 0.0079\n"
     ]
    },
    {
     "name": "stderr",
     "output_type": "stream",
     "text": [
      "100%|██████████| 60/60 [00:06<00:00,  8.61it/s]\n",
      "100%|██████████| 7/7 [00:00<00:00, 17.38it/s]\n"
     ]
    },
    {
     "name": "stdout",
     "output_type": "stream",
     "text": [
      "Epoch 19: Train Loss = 0.0129, Val Loss = 0.0080\n"
     ]
    },
    {
     "name": "stderr",
     "output_type": "stream",
     "text": [
      "100%|██████████| 60/60 [00:06<00:00,  8.59it/s]\n",
      "100%|██████████| 7/7 [00:00<00:00, 17.06it/s]\n"
     ]
    },
    {
     "name": "stdout",
     "output_type": "stream",
     "text": [
      "Epoch 20: Train Loss = 0.0128, Val Loss = 0.0083\n"
     ]
    },
    {
     "name": "stderr",
     "output_type": "stream",
     "text": [
      "100%|██████████| 60/60 [00:07<00:00,  8.52it/s]\n",
      "100%|██████████| 7/7 [00:00<00:00, 17.64it/s]\n"
     ]
    },
    {
     "name": "stdout",
     "output_type": "stream",
     "text": [
      "Epoch 21: Train Loss = 0.0128, Val Loss = 0.0079\n"
     ]
    },
    {
     "name": "stderr",
     "output_type": "stream",
     "text": [
      "100%|██████████| 60/60 [00:06<00:00,  8.59it/s]\n",
      "100%|██████████| 7/7 [00:00<00:00, 17.43it/s]\n"
     ]
    },
    {
     "name": "stdout",
     "output_type": "stream",
     "text": [
      "Epoch 22: Train Loss = 0.0126, Val Loss = 0.0078\n"
     ]
    },
    {
     "name": "stderr",
     "output_type": "stream",
     "text": [
      "100%|██████████| 60/60 [00:06<00:00,  8.61it/s]\n",
      "100%|██████████| 7/7 [00:00<00:00, 17.64it/s]\n"
     ]
    },
    {
     "name": "stdout",
     "output_type": "stream",
     "text": [
      "Epoch 23: Train Loss = 0.0126, Val Loss = 0.0078\n"
     ]
    },
    {
     "name": "stderr",
     "output_type": "stream",
     "text": [
      "100%|██████████| 60/60 [00:06<00:00,  8.63it/s]\n",
      "100%|██████████| 7/7 [00:00<00:00, 17.03it/s]\n"
     ]
    },
    {
     "name": "stdout",
     "output_type": "stream",
     "text": [
      "Epoch 24: Train Loss = 0.0126, Val Loss = 0.0081\n"
     ]
    },
    {
     "name": "stderr",
     "output_type": "stream",
     "text": [
      "100%|██████████| 60/60 [00:07<00:00,  8.54it/s]\n",
      "100%|██████████| 7/7 [00:00<00:00, 17.08it/s]\n"
     ]
    },
    {
     "name": "stdout",
     "output_type": "stream",
     "text": [
      "Epoch 25: Train Loss = 0.0126, Val Loss = 0.0078\n"
     ]
    },
    {
     "name": "stderr",
     "output_type": "stream",
     "text": [
      "100%|██████████| 60/60 [00:07<00:00,  8.55it/s]\n",
      "100%|██████████| 7/7 [00:00<00:00, 17.21it/s]\n"
     ]
    },
    {
     "name": "stdout",
     "output_type": "stream",
     "text": [
      "Epoch 26: Train Loss = 0.0125, Val Loss = 0.0083\n"
     ]
    },
    {
     "name": "stderr",
     "output_type": "stream",
     "text": [
      "100%|██████████| 60/60 [00:07<00:00,  8.41it/s]\n",
      "100%|██████████| 7/7 [00:00<00:00, 17.53it/s]\n"
     ]
    },
    {
     "name": "stdout",
     "output_type": "stream",
     "text": [
      "Epoch 27: Train Loss = 0.0125, Val Loss = 0.0078\n"
     ]
    },
    {
     "name": "stderr",
     "output_type": "stream",
     "text": [
      "100%|██████████| 60/60 [00:06<00:00,  8.58it/s]\n",
      "100%|██████████| 7/7 [00:00<00:00, 17.53it/s]\n"
     ]
    },
    {
     "name": "stdout",
     "output_type": "stream",
     "text": [
      "Epoch 28: Train Loss = 0.0125, Val Loss = 0.0078\n"
     ]
    },
    {
     "name": "stderr",
     "output_type": "stream",
     "text": [
      "100%|██████████| 60/60 [00:06<00:00,  8.59it/s]\n",
      "100%|██████████| 7/7 [00:00<00:00, 17.50it/s]\n"
     ]
    },
    {
     "name": "stdout",
     "output_type": "stream",
     "text": [
      "Epoch 29: Train Loss = 0.0125, Val Loss = 0.0080\n"
     ]
    },
    {
     "name": "stderr",
     "output_type": "stream",
     "text": [
      "100%|██████████| 60/60 [00:07<00:00,  8.52it/s]\n",
      "100%|██████████| 7/7 [00:00<00:00, 17.32it/s]\n"
     ]
    },
    {
     "name": "stdout",
     "output_type": "stream",
     "text": [
      "Epoch 30: Train Loss = 0.0125, Val Loss = 0.0080\n"
     ]
    },
    {
     "name": "stderr",
     "output_type": "stream",
     "text": [
      "100%|██████████| 60/60 [00:07<00:00,  8.53it/s]\n",
      "100%|██████████| 7/7 [00:00<00:00, 17.25it/s]\n"
     ]
    },
    {
     "name": "stdout",
     "output_type": "stream",
     "text": [
      "Epoch 31: Train Loss = 0.0124, Val Loss = 0.0082\n"
     ]
    },
    {
     "name": "stderr",
     "output_type": "stream",
     "text": [
      "100%|██████████| 60/60 [00:07<00:00,  8.51it/s]\n",
      "100%|██████████| 7/7 [00:00<00:00, 17.26it/s]\n"
     ]
    },
    {
     "name": "stdout",
     "output_type": "stream",
     "text": [
      "Epoch 32: Train Loss = 0.0125, Val Loss = 0.0081\n"
     ]
    },
    {
     "name": "stderr",
     "output_type": "stream",
     "text": [
      "100%|██████████| 60/60 [00:07<00:00,  8.39it/s]\n",
      "100%|██████████| 7/7 [00:00<00:00, 17.31it/s]\n"
     ]
    },
    {
     "name": "stdout",
     "output_type": "stream",
     "text": [
      "Epoch 33: Train Loss = 0.0124, Val Loss = 0.0079\n"
     ]
    },
    {
     "name": "stderr",
     "output_type": "stream",
     "text": [
      "100%|██████████| 60/60 [00:07<00:00,  8.50it/s]\n",
      "100%|██████████| 7/7 [00:00<00:00, 17.49it/s]\n"
     ]
    },
    {
     "name": "stdout",
     "output_type": "stream",
     "text": [
      "Epoch 34: Train Loss = 0.0123, Val Loss = 0.0079\n"
     ]
    },
    {
     "name": "stderr",
     "output_type": "stream",
     "text": [
      "100%|██████████| 60/60 [00:07<00:00,  8.57it/s]\n",
      "100%|██████████| 7/7 [00:00<00:00, 16.34it/s]\n"
     ]
    },
    {
     "name": "stdout",
     "output_type": "stream",
     "text": [
      "Epoch 35: Train Loss = 0.0122, Val Loss = 0.0076\n"
     ]
    },
    {
     "name": "stderr",
     "output_type": "stream",
     "text": [
      "100%|██████████| 60/60 [00:06<00:00,  8.60it/s]\n",
      "100%|██████████| 7/7 [00:00<00:00, 16.76it/s]\n"
     ]
    },
    {
     "name": "stdout",
     "output_type": "stream",
     "text": [
      "Epoch 36: Train Loss = 0.0123, Val Loss = 0.0080\n"
     ]
    },
    {
     "name": "stderr",
     "output_type": "stream",
     "text": [
      "100%|██████████| 60/60 [00:07<00:00,  8.51it/s]\n",
      "100%|██████████| 7/7 [00:00<00:00, 17.57it/s]\n"
     ]
    },
    {
     "name": "stdout",
     "output_type": "stream",
     "text": [
      "Epoch 37: Train Loss = 0.0123, Val Loss = 0.0077\n"
     ]
    },
    {
     "name": "stderr",
     "output_type": "stream",
     "text": [
      "100%|██████████| 60/60 [00:07<00:00,  8.56it/s]\n",
      "100%|██████████| 7/7 [00:00<00:00, 17.10it/s]\n"
     ]
    },
    {
     "name": "stdout",
     "output_type": "stream",
     "text": [
      "Epoch 38: Train Loss = 0.0122, Val Loss = 0.0076\n"
     ]
    },
    {
     "name": "stderr",
     "output_type": "stream",
     "text": [
      "100%|██████████| 60/60 [00:07<00:00,  8.55it/s]\n",
      "100%|██████████| 7/7 [00:00<00:00, 17.42it/s]\n"
     ]
    },
    {
     "name": "stdout",
     "output_type": "stream",
     "text": [
      "Epoch 39: Train Loss = 0.0123, Val Loss = 0.0078\n"
     ]
    },
    {
     "name": "stderr",
     "output_type": "stream",
     "text": [
      "100%|██████████| 60/60 [00:07<00:00,  8.51it/s]\n",
      "100%|██████████| 7/7 [00:00<00:00, 17.29it/s]\n"
     ]
    },
    {
     "name": "stdout",
     "output_type": "stream",
     "text": [
      "Epoch 40: Train Loss = 0.0122, Val Loss = 0.0077\n"
     ]
    },
    {
     "name": "stderr",
     "output_type": "stream",
     "text": [
      "100%|██████████| 60/60 [00:07<00:00,  8.36it/s]\n",
      "100%|██████████| 7/7 [00:00<00:00, 17.60it/s]\n"
     ]
    },
    {
     "name": "stdout",
     "output_type": "stream",
     "text": [
      "Epoch 41: Train Loss = 0.0123, Val Loss = 0.0078\n"
     ]
    },
    {
     "name": "stderr",
     "output_type": "stream",
     "text": [
      "100%|██████████| 60/60 [00:07<00:00,  8.48it/s]\n",
      "100%|██████████| 7/7 [00:00<00:00, 17.12it/s]\n"
     ]
    },
    {
     "name": "stdout",
     "output_type": "stream",
     "text": [
      "Epoch 42: Train Loss = 0.0122, Val Loss = 0.0077\n"
     ]
    },
    {
     "name": "stderr",
     "output_type": "stream",
     "text": [
      "100%|██████████| 60/60 [00:06<00:00,  8.65it/s]\n",
      "100%|██████████| 7/7 [00:00<00:00, 18.26it/s]\n"
     ]
    },
    {
     "name": "stdout",
     "output_type": "stream",
     "text": [
      "Epoch 43: Train Loss = 0.0122, Val Loss = 0.0078\n"
     ]
    },
    {
     "name": "stderr",
     "output_type": "stream",
     "text": [
      "100%|██████████| 60/60 [00:07<00:00,  8.57it/s]\n",
      "100%|██████████| 7/7 [00:00<00:00, 17.64it/s]\n"
     ]
    },
    {
     "name": "stdout",
     "output_type": "stream",
     "text": [
      "Epoch 44: Train Loss = 0.0121, Val Loss = 0.0078\n"
     ]
    },
    {
     "name": "stderr",
     "output_type": "stream",
     "text": [
      "100%|██████████| 60/60 [00:07<00:00,  8.44it/s]\n",
      "100%|██████████| 7/7 [00:00<00:00, 17.50it/s]\n"
     ]
    },
    {
     "name": "stdout",
     "output_type": "stream",
     "text": [
      "Epoch 45: Train Loss = 0.0121, Val Loss = 0.0076\n"
     ]
    },
    {
     "name": "stderr",
     "output_type": "stream",
     "text": [
      "100%|██████████| 60/60 [00:06<00:00,  8.68it/s]\n",
      "100%|██████████| 7/7 [00:00<00:00, 17.31it/s]\n"
     ]
    },
    {
     "name": "stdout",
     "output_type": "stream",
     "text": [
      "Epoch 46: Train Loss = 0.0121, Val Loss = 0.0078\n"
     ]
    },
    {
     "name": "stderr",
     "output_type": "stream",
     "text": [
      "100%|██████████| 60/60 [00:07<00:00,  8.38it/s]\n",
      "100%|██████████| 7/7 [00:00<00:00, 17.28it/s]\n"
     ]
    },
    {
     "name": "stdout",
     "output_type": "stream",
     "text": [
      "Epoch 47: Train Loss = 0.0121, Val Loss = 0.0080\n"
     ]
    },
    {
     "name": "stderr",
     "output_type": "stream",
     "text": [
      "100%|██████████| 60/60 [00:06<00:00,  8.57it/s]\n",
      "100%|██████████| 7/7 [00:00<00:00, 17.30it/s]\n"
     ]
    },
    {
     "name": "stdout",
     "output_type": "stream",
     "text": [
      "Epoch 48: Train Loss = 0.0121, Val Loss = 0.0078\n"
     ]
    },
    {
     "name": "stderr",
     "output_type": "stream",
     "text": [
      "100%|██████████| 60/60 [00:06<00:00,  8.64it/s]\n",
      "100%|██████████| 7/7 [00:00<00:00, 17.03it/s]\n"
     ]
    },
    {
     "name": "stdout",
     "output_type": "stream",
     "text": [
      "Epoch 49: Train Loss = 0.0121, Val Loss = 0.0077\n"
     ]
    },
    {
     "name": "stderr",
     "output_type": "stream",
     "text": [
      "100%|██████████| 60/60 [00:06<00:00,  8.58it/s]\n",
      "100%|██████████| 7/7 [00:00<00:00, 17.24it/s]\n"
     ]
    },
    {
     "name": "stdout",
     "output_type": "stream",
     "text": [
      "Epoch 50: Train Loss = 0.0121, Val Loss = 0.0078\n"
     ]
    },
    {
     "name": "stderr",
     "output_type": "stream",
     "text": [
      "100%|██████████| 60/60 [00:06<00:00,  8.62it/s]\n",
      "100%|██████████| 7/7 [00:00<00:00, 17.33it/s]\n"
     ]
    },
    {
     "name": "stdout",
     "output_type": "stream",
     "text": [
      "Epoch 51: Train Loss = 0.0121, Val Loss = 0.0078\n"
     ]
    },
    {
     "name": "stderr",
     "output_type": "stream",
     "text": [
      "100%|██████████| 60/60 [00:07<00:00,  8.56it/s]\n",
      "100%|██████████| 7/7 [00:00<00:00, 17.19it/s]\n"
     ]
    },
    {
     "name": "stdout",
     "output_type": "stream",
     "text": [
      "Epoch 52: Train Loss = 0.0121, Val Loss = 0.0078\n"
     ]
    },
    {
     "name": "stderr",
     "output_type": "stream",
     "text": [
      "100%|██████████| 60/60 [00:07<00:00,  8.50it/s]\n",
      "100%|██████████| 7/7 [00:00<00:00, 17.62it/s]\n"
     ]
    },
    {
     "name": "stdout",
     "output_type": "stream",
     "text": [
      "Epoch 53: Train Loss = 0.0121, Val Loss = 0.0078\n"
     ]
    },
    {
     "name": "stderr",
     "output_type": "stream",
     "text": [
      "100%|██████████| 60/60 [00:07<00:00,  8.52it/s]\n",
      "100%|██████████| 7/7 [00:00<00:00, 17.28it/s]\n"
     ]
    },
    {
     "name": "stdout",
     "output_type": "stream",
     "text": [
      "Epoch 54: Train Loss = 0.0121, Val Loss = 0.0078\n"
     ]
    },
    {
     "name": "stderr",
     "output_type": "stream",
     "text": [
      "100%|██████████| 60/60 [00:06<00:00,  8.58it/s]\n",
      "100%|██████████| 7/7 [00:00<00:00, 16.99it/s]\n"
     ]
    },
    {
     "name": "stdout",
     "output_type": "stream",
     "text": [
      "Epoch 55: Train Loss = 0.0121, Val Loss = 0.0078\n"
     ]
    },
    {
     "name": "stderr",
     "output_type": "stream",
     "text": [
      "100%|██████████| 60/60 [00:07<00:00,  8.54it/s]\n",
      "100%|██████████| 7/7 [00:00<00:00, 17.36it/s]\n"
     ]
    },
    {
     "name": "stdout",
     "output_type": "stream",
     "text": [
      "Epoch 56: Train Loss = 0.0121, Val Loss = 0.0078\n"
     ]
    },
    {
     "name": "stderr",
     "output_type": "stream",
     "text": [
      "100%|██████████| 60/60 [00:07<00:00,  8.56it/s]\n",
      "100%|██████████| 7/7 [00:00<00:00, 17.29it/s]\n"
     ]
    },
    {
     "name": "stdout",
     "output_type": "stream",
     "text": [
      "Epoch 57: Train Loss = 0.0121, Val Loss = 0.0077\n"
     ]
    },
    {
     "name": "stderr",
     "output_type": "stream",
     "text": [
      "100%|██████████| 60/60 [00:07<00:00,  8.55it/s]\n",
      "100%|██████████| 7/7 [00:00<00:00, 17.28it/s]\n"
     ]
    },
    {
     "name": "stdout",
     "output_type": "stream",
     "text": [
      "Epoch 58: Train Loss = 0.0121, Val Loss = 0.0078\n"
     ]
    },
    {
     "name": "stderr",
     "output_type": "stream",
     "text": [
      "100%|██████████| 60/60 [00:07<00:00,  8.52it/s]\n",
      "100%|██████████| 7/7 [00:00<00:00, 16.83it/s]\n"
     ]
    },
    {
     "name": "stdout",
     "output_type": "stream",
     "text": [
      "Epoch 59: Train Loss = 0.0120, Val Loss = 0.0077\n"
     ]
    },
    {
     "name": "stderr",
     "output_type": "stream",
     "text": [
      "100%|██████████| 60/60 [00:06<00:00,  8.61it/s]\n",
      "100%|██████████| 7/7 [00:00<00:00, 17.59it/s]\n"
     ]
    },
    {
     "name": "stdout",
     "output_type": "stream",
     "text": [
      "Epoch 60: Train Loss = 0.0121, Val Loss = 0.0077\n"
     ]
    },
    {
     "name": "stderr",
     "output_type": "stream",
     "text": [
      "100%|██████████| 60/60 [00:07<00:00,  8.51it/s]\n",
      "100%|██████████| 7/7 [00:00<00:00, 16.90it/s]\n"
     ]
    },
    {
     "name": "stdout",
     "output_type": "stream",
     "text": [
      "Epoch 61: Train Loss = 0.0121, Val Loss = 0.0078\n"
     ]
    },
    {
     "name": "stderr",
     "output_type": "stream",
     "text": [
      "100%|██████████| 60/60 [00:06<00:00,  8.59it/s]\n",
      "100%|██████████| 7/7 [00:00<00:00, 17.57it/s]\n"
     ]
    },
    {
     "name": "stdout",
     "output_type": "stream",
     "text": [
      "Epoch 62: Train Loss = 0.0121, Val Loss = 0.0077\n"
     ]
    },
    {
     "name": "stderr",
     "output_type": "stream",
     "text": [
      "100%|██████████| 60/60 [00:06<00:00,  8.61it/s]\n",
      "100%|██████████| 7/7 [00:00<00:00, 16.54it/s]\n"
     ]
    },
    {
     "name": "stdout",
     "output_type": "stream",
     "text": [
      "Epoch 63: Train Loss = 0.0121, Val Loss = 0.0078\n"
     ]
    },
    {
     "name": "stderr",
     "output_type": "stream",
     "text": [
      "100%|██████████| 60/60 [00:07<00:00,  8.57it/s]\n",
      "100%|██████████| 7/7 [00:00<00:00, 17.37it/s]\n"
     ]
    },
    {
     "name": "stdout",
     "output_type": "stream",
     "text": [
      "Epoch 64: Train Loss = 0.0120, Val Loss = 0.0077\n"
     ]
    },
    {
     "name": "stderr",
     "output_type": "stream",
     "text": [
      "100%|██████████| 60/60 [00:07<00:00,  8.55it/s]\n",
      "100%|██████████| 7/7 [00:00<00:00, 17.03it/s]\n"
     ]
    },
    {
     "name": "stdout",
     "output_type": "stream",
     "text": [
      "Epoch 65: Train Loss = 0.0120, Val Loss = 0.0078\n"
     ]
    },
    {
     "name": "stderr",
     "output_type": "stream",
     "text": [
      "100%|██████████| 60/60 [00:06<00:00,  8.58it/s]\n",
      "100%|██████████| 7/7 [00:00<00:00, 17.08it/s]\n"
     ]
    },
    {
     "name": "stdout",
     "output_type": "stream",
     "text": [
      "Epoch 66: Train Loss = 0.0120, Val Loss = 0.0077\n"
     ]
    },
    {
     "name": "stderr",
     "output_type": "stream",
     "text": [
      "100%|██████████| 60/60 [00:07<00:00,  8.53it/s]\n",
      "100%|██████████| 7/7 [00:00<00:00, 17.27it/s]\n"
     ]
    },
    {
     "name": "stdout",
     "output_type": "stream",
     "text": [
      "Epoch 67: Train Loss = 0.0120, Val Loss = 0.0077\n"
     ]
    },
    {
     "name": "stderr",
     "output_type": "stream",
     "text": [
      "100%|██████████| 60/60 [00:06<00:00,  8.57it/s]\n",
      "100%|██████████| 7/7 [00:00<00:00, 17.06it/s]\n"
     ]
    },
    {
     "name": "stdout",
     "output_type": "stream",
     "text": [
      "Epoch 68: Train Loss = 0.0120, Val Loss = 0.0077\n"
     ]
    },
    {
     "name": "stderr",
     "output_type": "stream",
     "text": [
      "100%|██████████| 60/60 [00:07<00:00,  8.48it/s]\n",
      "100%|██████████| 7/7 [00:00<00:00, 17.08it/s]\n"
     ]
    },
    {
     "name": "stdout",
     "output_type": "stream",
     "text": [
      "Epoch 69: Train Loss = 0.0121, Val Loss = 0.0077\n"
     ]
    },
    {
     "name": "stderr",
     "output_type": "stream",
     "text": [
      "100%|██████████| 60/60 [00:06<00:00,  8.63it/s]\n",
      "100%|██████████| 7/7 [00:00<00:00, 16.91it/s]\n"
     ]
    },
    {
     "name": "stdout",
     "output_type": "stream",
     "text": [
      "Epoch 70: Train Loss = 0.0120, Val Loss = 0.0077\n"
     ]
    },
    {
     "name": "stderr",
     "output_type": "stream",
     "text": [
      "100%|██████████| 60/60 [00:07<00:00,  8.50it/s]\n",
      "100%|██████████| 7/7 [00:00<00:00, 17.18it/s]\n"
     ]
    },
    {
     "name": "stdout",
     "output_type": "stream",
     "text": [
      "Epoch 71: Train Loss = 0.0121, Val Loss = 0.0077\n"
     ]
    },
    {
     "name": "stderr",
     "output_type": "stream",
     "text": [
      "100%|██████████| 60/60 [00:07<00:00,  8.52it/s]\n",
      "100%|██████████| 7/7 [00:00<00:00, 17.32it/s]\n"
     ]
    },
    {
     "name": "stdout",
     "output_type": "stream",
     "text": [
      "Epoch 72: Train Loss = 0.0120, Val Loss = 0.0077\n"
     ]
    },
    {
     "name": "stderr",
     "output_type": "stream",
     "text": [
      "100%|██████████| 60/60 [00:07<00:00,  8.56it/s]\n",
      "100%|██████████| 7/7 [00:00<00:00, 17.03it/s]\n"
     ]
    },
    {
     "name": "stdout",
     "output_type": "stream",
     "text": [
      "Epoch 73: Train Loss = 0.0121, Val Loss = 0.0077\n"
     ]
    },
    {
     "name": "stderr",
     "output_type": "stream",
     "text": [
      "100%|██████████| 60/60 [00:06<00:00,  8.61it/s]\n",
      "100%|██████████| 7/7 [00:00<00:00, 17.28it/s]\n"
     ]
    },
    {
     "name": "stdout",
     "output_type": "stream",
     "text": [
      "Epoch 74: Train Loss = 0.0120, Val Loss = 0.0077\n"
     ]
    },
    {
     "name": "stderr",
     "output_type": "stream",
     "text": [
      "100%|██████████| 60/60 [00:06<00:00,  8.58it/s]\n",
      "100%|██████████| 7/7 [00:00<00:00, 17.40it/s]\n"
     ]
    },
    {
     "name": "stdout",
     "output_type": "stream",
     "text": [
      "Epoch 75: Train Loss = 0.0120, Val Loss = 0.0077\n"
     ]
    },
    {
     "name": "stderr",
     "output_type": "stream",
     "text": [
      "100%|██████████| 60/60 [00:07<00:00,  8.49it/s]\n",
      "100%|██████████| 7/7 [00:00<00:00, 16.83it/s]\n"
     ]
    },
    {
     "name": "stdout",
     "output_type": "stream",
     "text": [
      "Epoch 76: Train Loss = 0.0121, Val Loss = 0.0077\n"
     ]
    },
    {
     "name": "stderr",
     "output_type": "stream",
     "text": [
      "100%|██████████| 60/60 [00:07<00:00,  8.46it/s]\n",
      "100%|██████████| 7/7 [00:00<00:00, 17.11it/s]\n"
     ]
    },
    {
     "name": "stdout",
     "output_type": "stream",
     "text": [
      "Epoch 77: Train Loss = 0.0120, Val Loss = 0.0078\n"
     ]
    },
    {
     "name": "stderr",
     "output_type": "stream",
     "text": [
      "100%|██████████| 60/60 [00:07<00:00,  8.55it/s]\n",
      "100%|██████████| 7/7 [00:00<00:00, 17.30it/s]\n"
     ]
    },
    {
     "name": "stdout",
     "output_type": "stream",
     "text": [
      "Epoch 78: Train Loss = 0.0120, Val Loss = 0.0077\n"
     ]
    },
    {
     "name": "stderr",
     "output_type": "stream",
     "text": [
      "100%|██████████| 60/60 [00:06<00:00,  8.61it/s]\n",
      "100%|██████████| 7/7 [00:00<00:00, 17.51it/s]\n"
     ]
    },
    {
     "name": "stdout",
     "output_type": "stream",
     "text": [
      "Epoch 79: Train Loss = 0.0120, Val Loss = 0.0077\n"
     ]
    },
    {
     "name": "stderr",
     "output_type": "stream",
     "text": [
      "100%|██████████| 60/60 [00:06<00:00,  8.61it/s]\n",
      "100%|██████████| 7/7 [00:00<00:00, 16.33it/s]\n"
     ]
    },
    {
     "name": "stdout",
     "output_type": "stream",
     "text": [
      "Epoch 80: Train Loss = 0.0120, Val Loss = 0.0078\n"
     ]
    },
    {
     "name": "stderr",
     "output_type": "stream",
     "text": [
      "100%|██████████| 60/60 [00:07<00:00,  8.56it/s]\n",
      "100%|██████████| 7/7 [00:00<00:00, 17.69it/s]\n"
     ]
    },
    {
     "name": "stdout",
     "output_type": "stream",
     "text": [
      "Epoch 81: Train Loss = 0.0120, Val Loss = 0.0078\n"
     ]
    },
    {
     "name": "stderr",
     "output_type": "stream",
     "text": [
      "100%|██████████| 60/60 [00:07<00:00,  8.51it/s]\n",
      "100%|██████████| 7/7 [00:00<00:00, 17.38it/s]\n"
     ]
    },
    {
     "name": "stdout",
     "output_type": "stream",
     "text": [
      "Epoch 82: Train Loss = 0.0120, Val Loss = 0.0077\n"
     ]
    },
    {
     "name": "stderr",
     "output_type": "stream",
     "text": [
      "100%|██████████| 60/60 [00:07<00:00,  8.55it/s]\n",
      "100%|██████████| 7/7 [00:00<00:00, 17.48it/s]\n"
     ]
    },
    {
     "name": "stdout",
     "output_type": "stream",
     "text": [
      "Epoch 83: Train Loss = 0.0120, Val Loss = 0.0077\n"
     ]
    },
    {
     "name": "stderr",
     "output_type": "stream",
     "text": [
      "100%|██████████| 60/60 [00:07<00:00,  8.47it/s]\n",
      "100%|██████████| 7/7 [00:00<00:00, 16.58it/s]\n"
     ]
    },
    {
     "name": "stdout",
     "output_type": "stream",
     "text": [
      "Epoch 84: Train Loss = 0.0120, Val Loss = 0.0077\n"
     ]
    },
    {
     "name": "stderr",
     "output_type": "stream",
     "text": [
      "100%|██████████| 60/60 [00:06<00:00,  8.63it/s]\n",
      "100%|██████████| 7/7 [00:00<00:00, 17.68it/s]\n"
     ]
    },
    {
     "name": "stdout",
     "output_type": "stream",
     "text": [
      "Epoch 85: Train Loss = 0.0120, Val Loss = 0.0077\n"
     ]
    },
    {
     "name": "stderr",
     "output_type": "stream",
     "text": [
      "100%|██████████| 60/60 [00:06<00:00,  8.60it/s]\n",
      "100%|██████████| 7/7 [00:00<00:00, 17.08it/s]\n"
     ]
    },
    {
     "name": "stdout",
     "output_type": "stream",
     "text": [
      "Epoch 86: Train Loss = 0.0120, Val Loss = 0.0077\n"
     ]
    },
    {
     "name": "stderr",
     "output_type": "stream",
     "text": [
      "100%|██████████| 60/60 [00:06<00:00,  8.65it/s]\n",
      "100%|██████████| 7/7 [00:00<00:00, 17.30it/s]\n"
     ]
    },
    {
     "name": "stdout",
     "output_type": "stream",
     "text": [
      "Epoch 87: Train Loss = 0.0120, Val Loss = 0.0078\n"
     ]
    },
    {
     "name": "stderr",
     "output_type": "stream",
     "text": [
      "100%|██████████| 60/60 [00:06<00:00,  8.61it/s]\n",
      "100%|██████████| 7/7 [00:00<00:00, 16.82it/s]\n"
     ]
    },
    {
     "name": "stdout",
     "output_type": "stream",
     "text": [
      "Epoch 88: Train Loss = 0.0121, Val Loss = 0.0077\n"
     ]
    },
    {
     "name": "stderr",
     "output_type": "stream",
     "text": [
      "100%|██████████| 60/60 [00:06<00:00,  8.60it/s]\n",
      "100%|██████████| 7/7 [00:00<00:00, 17.73it/s]\n"
     ]
    },
    {
     "name": "stdout",
     "output_type": "stream",
     "text": [
      "Epoch 89: Train Loss = 0.0120, Val Loss = 0.0077\n"
     ]
    },
    {
     "name": "stderr",
     "output_type": "stream",
     "text": [
      "100%|██████████| 60/60 [00:06<00:00,  8.58it/s]\n",
      "100%|██████████| 7/7 [00:00<00:00, 17.13it/s]\n"
     ]
    },
    {
     "name": "stdout",
     "output_type": "stream",
     "text": [
      "Epoch 90: Train Loss = 0.0120, Val Loss = 0.0077\n"
     ]
    },
    {
     "name": "stderr",
     "output_type": "stream",
     "text": [
      "100%|██████████| 60/60 [00:06<00:00,  8.58it/s]\n",
      "100%|██████████| 7/7 [00:00<00:00, 17.72it/s]\n"
     ]
    },
    {
     "name": "stdout",
     "output_type": "stream",
     "text": [
      "Epoch 91: Train Loss = 0.0120, Val Loss = 0.0077\n"
     ]
    },
    {
     "name": "stderr",
     "output_type": "stream",
     "text": [
      "100%|██████████| 60/60 [00:06<00:00,  8.66it/s]\n",
      "100%|██████████| 7/7 [00:00<00:00, 16.99it/s]\n"
     ]
    },
    {
     "name": "stdout",
     "output_type": "stream",
     "text": [
      "Epoch 92: Train Loss = 0.0120, Val Loss = 0.0078\n"
     ]
    },
    {
     "name": "stderr",
     "output_type": "stream",
     "text": [
      "100%|██████████| 60/60 [00:06<00:00,  8.59it/s]\n",
      "100%|██████████| 7/7 [00:00<00:00, 16.78it/s]\n"
     ]
    },
    {
     "name": "stdout",
     "output_type": "stream",
     "text": [
      "Epoch 93: Train Loss = 0.0120, Val Loss = 0.0077\n"
     ]
    },
    {
     "name": "stderr",
     "output_type": "stream",
     "text": [
      "100%|██████████| 60/60 [00:06<00:00,  8.63it/s]\n",
      "100%|██████████| 7/7 [00:00<00:00, 17.79it/s]\n"
     ]
    },
    {
     "name": "stdout",
     "output_type": "stream",
     "text": [
      "Epoch 94: Train Loss = 0.0121, Val Loss = 0.0077\n"
     ]
    },
    {
     "name": "stderr",
     "output_type": "stream",
     "text": [
      "100%|██████████| 60/60 [00:06<00:00,  8.59it/s]\n",
      "100%|██████████| 7/7 [00:00<00:00, 16.26it/s]\n"
     ]
    },
    {
     "name": "stdout",
     "output_type": "stream",
     "text": [
      "Epoch 95: Train Loss = 0.0120, Val Loss = 0.0078\n"
     ]
    },
    {
     "name": "stderr",
     "output_type": "stream",
     "text": [
      "100%|██████████| 60/60 [00:06<00:00,  8.62it/s]\n",
      "100%|██████████| 7/7 [00:00<00:00, 17.22it/s]\n"
     ]
    },
    {
     "name": "stdout",
     "output_type": "stream",
     "text": [
      "Epoch 96: Train Loss = 0.0121, Val Loss = 0.0077\n"
     ]
    },
    {
     "name": "stderr",
     "output_type": "stream",
     "text": [
      "100%|██████████| 60/60 [00:06<00:00,  8.61it/s]\n",
      "100%|██████████| 7/7 [00:00<00:00, 17.08it/s]\n"
     ]
    },
    {
     "name": "stdout",
     "output_type": "stream",
     "text": [
      "Epoch 97: Train Loss = 0.0121, Val Loss = 0.0078\n"
     ]
    },
    {
     "name": "stderr",
     "output_type": "stream",
     "text": [
      "100%|██████████| 60/60 [00:06<00:00,  8.66it/s]\n",
      "100%|██████████| 7/7 [00:00<00:00, 17.56it/s]\n"
     ]
    },
    {
     "name": "stdout",
     "output_type": "stream",
     "text": [
      "Epoch 98: Train Loss = 0.0120, Val Loss = 0.0077\n"
     ]
    },
    {
     "name": "stderr",
     "output_type": "stream",
     "text": [
      "100%|██████████| 60/60 [00:06<00:00,  8.65it/s]\n",
      "100%|██████████| 7/7 [00:00<00:00, 17.59it/s]\n"
     ]
    },
    {
     "name": "stdout",
     "output_type": "stream",
     "text": [
      "Epoch 99: Train Loss = 0.0120, Val Loss = 0.0078\n"
     ]
    },
    {
     "name": "stderr",
     "output_type": "stream",
     "text": [
      "100%|██████████| 60/60 [00:06<00:00,  8.64it/s]\n",
      "100%|██████████| 7/7 [00:00<00:00, 16.64it/s]"
     ]
    },
    {
     "name": "stdout",
     "output_type": "stream",
     "text": [
      "Epoch 100: Train Loss = 0.0120, Val Loss = 0.0077\n"
     ]
    },
    {
     "name": "stderr",
     "output_type": "stream",
     "text": [
      "\n"
     ]
    }
   ],
   "source": [
    "from tqdm import tqdm\n",
    "\n",
    "for epoch in range(1, num_epochs+1):\n",
    "    model.train()\n",
    "    train_loss = 0.0\n",
    "    for xb, yb in tqdm(train_loader):\n",
    "        xb, yb = xb.to(device).float(), yb.to(device).float()\n",
    "        optimizer.zero_grad()\n",
    "        preds = model(xb)\n",
    "        loss = criterion(preds, yb)\n",
    "        loss.backward()\n",
    "        optimizer.step()\n",
    "        train_loss += loss.item() * xb.size(0)\n",
    "    train_loss /= len(train_loader.dataset)\n",
    "    train_losses.append(train_loss)\n",
    "    model.eval()\n",
    "    val_loss = 0.0\n",
    "    with torch.no_grad():\n",
    "        for xb, yb in tqdm(val_loader):\n",
    "            xb, yb = xb.to(device).float(), yb.to(device).float()\n",
    "            preds = model(xb)\n",
    "            loss = criterion(preds, yb)\n",
    "            val_loss += loss.item() * xb.size(0)\n",
    "    val_loss /= len(val_loader.dataset)\n",
    "    val_losses.append(val_loss)\n",
    "    scheduler.step(val_loss)\n",
    "    print(f\"Epoch {epoch:02d}: Train Loss = {train_loss:.4f}, Val Loss = {val_loss:.4f}\")\n"
   ]
  },
  {
   "cell_type": "code",
   "execution_count": 133,
   "id": "3ce83b2e",
   "metadata": {},
   "outputs": [
    {
     "data": {
      "image/png": "[encoded data removed]",
      "text/plain": [
       "<Figure size 640x480 with 1 Axes>"
      ]
     },
     "metadata": {},
     "output_type": "display_data"
    }
   ],
   "source": [
    "plt.plot(train_losses, label=\"Train Loss\")\n",
    "plt.plot(val_losses, label=\"Validation Loss\")\n",
    "plt.xlabel(\"Epoch\")\n",
    "plt.ylabel(\"Loss\")\n",
    "plt.title(\"Training and Validation Loss\")\n",
    "plt.legend()\n",
    "plt.show()"
   ]
  },
  {
   "cell_type": "markdown",
   "id": "6cc9720f",
   "metadata": {},
   "source": [
    "## Test"
   ]
  },
  {
   "cell_type": "code",
   "execution_count": 103,
   "id": "d0905882",
   "metadata": {},
   "outputs": [
    {
     "name": "stdout",
     "output_type": "stream",
     "text": [
      "Test MSE: 0.016244\n"
     ]
    }
   ],
   "source": [
    "all_preds = []\n",
    "all_targets = []\n",
    "with torch.no_grad():\n",
    "    for xb, yb in test_loader:\n",
    "        xb = xb.to(device).float()\n",
    "        preds = model(xb).cpu()\n",
    "        \n",
    "        all_preds.append(preds.flatten())\n",
    "        all_targets.append(yb.flatten())\n",
    "y_pred = torch.cat(all_preds).numpy()\n",
    "y_true = torch.cat(all_targets).numpy()\n",
    "\n",
    "mse_test = ((y_pred - y_true) ** 2).mean()\n",
    "print(f\"Test MSE: {mse_test:.6f}\")"
   ]
  },
  {
   "cell_type": "markdown",
   "id": "07c805ec",
   "metadata": {},
   "source": [
    "## Visualisation "
   ]
  },
  {
   "cell_type": "code",
   "execution_count": 52,
   "id": "d8608fd6",
   "metadata": {},
   "outputs": [],
   "source": [
    "df_test_results = pd.DataFrame({\n",
    "    'y_test': y_true.flatten(),\n",
    "    'Cross Reference Type': df_test['Cross Reference Type'].values,\n",
    "    'y_pred': y_pred.flatten()\n",
    "})"
   ]
  },
  {
   "cell_type": "code",
   "execution_count": 53,
   "id": "74649390",
   "metadata": {},
   "outputs": [
    {
     "name": "stderr",
     "output_type": "stream",
     "text": [
      "C:\\Users\\adamg\\AppData\\Local\\Temp\\ipykernel_70768\\2580040288.py:11: UserWarning: No artists with labels found to put in legend.  Note that artists whose label start with an underscore are ignored when legend() is called with no argument.\n",
      "  plt.legend()\n"
     ]
    },
    {
     "data": {
      "image/png": "[encoded data removed]",
      "text/plain": [
       "<Figure size 640x480 with 1 Axes>"
      ]
     },
     "metadata": {},
     "output_type": "display_data"
    }
   ],
   "source": [
    "sns.kdeplot(\n",
    "    data=df_test_results.sort_values(\"Cross Reference Type\"),\n",
    "    x='y_pred',\n",
    "    hue='Cross Reference Type',\n",
    "    fill=True,\n",
    "    common_norm=False\n",
    ")\n",
    "plt.xlabel(\"Closeness\")\n",
    "plt.ylabel(\"Density\")\n",
    "plt.title(\"KDE Plot of Predicted Closeness (by Cross Reference Type)\")\n",
    "plt.legend()\n",
    "plt.show()"
   ]
  },
  {
   "cell_type": "markdown",
   "id": "103fa16f",
   "metadata": {},
   "source": [
    "## Creation de la matrice de similarités"
   ]
  },
  {
   "cell_type": "code",
   "execution_count": 104,
   "id": "c2f17a6b",
   "metadata": {},
   "outputs": [
    {
     "name": "stderr",
     "output_type": "stream",
     "text": [
      "Building closeness matrix: 100%|██████████| 18352/18352 [04:38<00:00, 65.84it/s]\n"
     ]
    }
   ],
   "source": [
    "n = len(df_feat_scaled)\n",
    "df_f = df_feat_scaled.drop(columns=[\"MPN\",\"MANUFACTURER\"])\n",
    "matrix = np.zeros((n, n), dtype=np.float32) \n",
    "for i in tqdm(range(n), desc=\"Building closeness matrix\"):\n",
    "    # Get current product features\n",
    "    product_i = df_f.iloc[i:i+1]\n",
    "    merged_df = product_i.merge(df_f, how='cross',suffixes = (\"\",\"_comp\"))\n",
    "\n",
    "    merged_df['Supplier_Package'] = le.transform(merged_df['Supplier_Package'])\n",
    "    merged_df['Supplier_Package_comp'] = le.transform(merged_df['Supplier_Package_comp'])\n",
    "    X_tensor = torch.tensor(merged_df.values, dtype=torch.long)\n",
    "    model.eval()\n",
    "    with torch.no_grad():\n",
    "        y = model(X_tensor.to(device)).cpu().numpy()\n",
    "    y = y.flatten()\n",
    "    \n",
    "    matrix[i, :] = y"
   ]
  },
  {
   "cell_type": "code",
   "execution_count": 105,
   "id": "56b3194d",
   "metadata": {},
   "outputs": [],
   "source": [
    "np.save(\"closeness_map MLP with embedding_try_2.npy\", matrix)"
   ]
  },
  {
   "cell_type": "code",
   "execution_count": 139,
   "id": "4c22e0f9",
   "metadata": {},
   "outputs": [
    {
     "name": "stdout",
     "output_type": "stream",
     "text": [
      "Downscaling from (18352, 18352) to (10000, 10000) ...\n",
      "Saved MLP with embedding on closeness map_try_3 at ~(10000x10000) px, dpi=500.\n"
     ]
    }
   ],
   "source": [
    "import helper_functions.visualize as vz\n",
    "import importlib\n",
    "importlib.reload(vz)\n",
    "vz.export_matrix_downscaled(matrix , name=\"MLP with embedding on closeness map_try_3\")"
   ]
  },
  {
   "cell_type": "code",
   "execution_count": 140,
   "id": "8b59db6b",
   "metadata": {},
   "outputs": [],
   "source": [
    "torch.save(model.state_dict(), \"similarity_model_weights_third_train_closeness_abs_embedding.pth\")"
   ]
  }
 ],
 "metadata": {
  "kernelspec": {
   "display_name": "Python 3",
   "language": "python",
   "name": "python3"
  },
  "language_info": {
   "codemirror_mode": {
    "name": "ipython",
    "version": 3
   },
   "file_extension": ".py",
   "mimetype": "text/x-python",
   "name": "python",
   "nbconvert_exporter": "python",
   "pygments_lexer": "ipython3",
   "version": "3.11.7"
  }
 },
 "nbformat": 4,
 "nbformat_minor": 5
}
