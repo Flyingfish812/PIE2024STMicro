{
 "cells": [
  {
   "cell_type": "markdown",
   "metadata": {},
   "source": [
    "# Import packages"
   ]
  },
  {
   "cell_type": "code",
   "execution_count": 1,
   "metadata": {},
   "outputs": [],
   "source": [
    "# Numerical Operations\n",
    "import math\n",
    "import numpy as np\n",
    "\n",
    "# Reading/Writing Data\n",
    "import pandas as pd\n",
    "import os\n",
    "\n",
    "# For Progress Bar\n",
    "from tqdm import tqdm\n",
    "\n",
    "# Pytorch\n",
    "import torch\n",
    "import torch.nn as nn\n",
    "from torch.utils.data import Dataset, DataLoader, random_split\n",
    "\n",
    "from torch.utils.tensorboard import SummaryWriter"
   ]
  },
  {
   "cell_type": "code",
   "execution_count": 2,
   "metadata": {},
   "outputs": [],
   "source": [
    "df_all = pd.read_excel(r'D:\\code\\PIE\\data\\data_all.xlsx')"
   ]
  },
  {
   "cell_type": "code",
   "execution_count": 3,
   "metadata": {},
   "outputs": [],
   "source": [
    "def same_seed(seed):\n",
    "    '''Fixes random number generator seeds for reproducibility.'''\n",
    "    torch.backends.cudnn.deterministic = True\n",
    "    torch.backends.cudnn.benchmark = False\n",
    "    np.random.seed(seed)\n",
    "    torch.manual_seed(seed)\n",
    "    if torch.cuda.is_available():\n",
    "        torch.cuda.manual_seed_all(seed)"
   ]
  },
  {
   "cell_type": "code",
   "execution_count": 4,
   "metadata": {},
   "outputs": [],
   "source": [
    "device = 'cuda' if torch.cuda.is_available() else 'cpu'\n",
    "config = {\n",
    "    'seed': 5201314,     \n",
    "    'valid_ratio': 0.2,   # validation_size = train_size * valid_ratio\n",
    "    'test_ratio': 0.5,\n",
    "    'n_epochs': 100,     # Number of epochs.\n",
    "    'batch_size': 32,\n",
    "    'learning_rate': 1e-5,\n",
    "    'early_stop': 10,    # If model has not improved for this many consecutive epochs, stop training.\n",
    "    'save_path': 'D:\\code\\PIE\\models\\model.ckpt'\n",
    "}"
   ]
  },
  {
   "cell_type": "code",
   "execution_count": 5,
   "metadata": {},
   "outputs": [],
   "source": [
    "# Select important features\n",
    "columns_to_select = ['Maximum Input Offset Voltage', 'Maximum Single Supply Voltage', 'Minimum Single Supply Voltage', 'Number of Channels per Chip', 'Supplier_Package', 'Typical Gain Bandwidth Product', \n",
    "'Maximum Input Offset Voltage_comp', 'Maximum Single Supply Voltage_comp', 'Minimum Single Supply Voltage_comp', 'Number of Channels per Chip_comp', 'Supplier_Package_comp', 'Typical Gain Bandwidth Product_comp',\n",
    "'Closeness']\n",
    "new_df = df_all[columns_to_select]"
   ]
  },
  {
   "cell_type": "code",
   "execution_count": 6,
   "metadata": {},
   "outputs": [],
   "source": [
    "# one-hot encode for the column 'Supplier_Package'\n",
    "new_df = pd.get_dummies(new_df, columns=['Supplier_Package', 'Supplier_Package_comp'], prefix=['Supplier_Package', 'Supplier_Package_comp'])"
   ]
  },
  {
   "cell_type": "code",
   "execution_count": 7,
   "metadata": {},
   "outputs": [
    {
     "name": "stdout",
     "output_type": "stream",
     "text": [
      "Index(['Maximum Input Offset Voltage', 'Maximum Single Supply Voltage',\n",
      "       'Minimum Single Supply Voltage', 'Number of Channels per Chip',\n",
      "       'Typical Gain Bandwidth Product', 'Maximum Input Offset Voltage_comp',\n",
      "       'Maximum Single Supply Voltage_comp',\n",
      "       'Minimum Single Supply Voltage_comp',\n",
      "       'Number of Channels per Chip_comp',\n",
      "       'Typical Gain Bandwidth Product_comp', 'Closeness',\n",
      "       'Supplier_Package_DFN', 'Supplier_Package_DFN EP',\n",
      "       'Supplier_Package_MSOP', 'Supplier_Package_Mini-SO',\n",
      "       'Supplier_Package_SC-70', 'Supplier_Package_SO',\n",
      "       'Supplier_Package_SO EP', 'Supplier_Package_SO N',\n",
      "       'Supplier_Package_SO W', 'Supplier_Package_SOIC',\n",
      "       'Supplier_Package_SOP-J', 'Supplier_Package_SOT-23',\n",
      "       'Supplier_Package_TSSOP', 'Supplier_Package_comp_CDIP',\n",
      "       'Supplier_Package_comp_DFN EP', 'Supplier_Package_comp_DFN-U1 EP',\n",
      "       'Supplier_Package_comp_DSBGA', 'Supplier_Package_comp_EMP',\n",
      "       'Supplier_Package_comp_ESON', 'Supplier_Package_comp_ESON-U1',\n",
      "       'Supplier_Package_comp_FLP', 'Supplier_Package_comp_HSOIC EP',\n",
      "       'Supplier_Package_comp_HTSSOP EP', 'Supplier_Package_comp_HVSSOP EP',\n",
      "       'Supplier_Package_comp_LFCSP EP', 'Supplier_Package_comp_MFP',\n",
      "       'Supplier_Package_comp_MSOP', 'Supplier_Package_comp_MSOP EP',\n",
      "       'Supplier_Package_comp_Micro', 'Supplier_Package_comp_Mini-SO',\n",
      "       'Supplier_Package_comp_PSOP', 'Supplier_Package_comp_SC-70',\n",
      "       'Supplier_Package_comp_SC-74A', 'Supplier_Package_comp_SC-88A',\n",
      "       'Supplier_Package_comp_SNT-A', 'Supplier_Package_comp_SO',\n",
      "       'Supplier_Package_comp_SO N', 'Supplier_Package_comp_SOIC',\n",
      "       'Supplier_Package_comp_SOIC N', 'Supplier_Package_comp_SOIC N EP',\n",
      "       'Supplier_Package_comp_SOIC W', 'Supplier_Package_comp_SOP',\n",
      "       'Supplier_Package_comp_SOP EP', 'Supplier_Package_comp_SOP-J',\n",
      "       'Supplier_Package_comp_SOT-23', 'Supplier_Package_comp_SOT-25',\n",
      "       'Supplier_Package_comp_SOT-353', 'Supplier_Package_comp_SSOP',\n",
      "       'Supplier_Package_comp_SSOP-B', 'Supplier_Package_comp_TDFN EP',\n",
      "       'Supplier_Package_comp_TMSOP', 'Supplier_Package_comp_TSOP',\n",
      "       'Supplier_Package_comp_TSOT', 'Supplier_Package_comp_TSOT-23',\n",
      "       'Supplier_Package_comp_TSSOP', 'Supplier_Package_comp_TSSOP EP',\n",
      "       'Supplier_Package_comp_TSSOP W', 'Supplier_Package_comp_TSSOP-B',\n",
      "       'Supplier_Package_comp_TSSOP-BJ', 'Supplier_Package_comp_TVSP',\n",
      "       'Supplier_Package_comp_UDFN EP', 'Supplier_Package_comp_VSON EP',\n",
      "       'Supplier_Package_comp_VSP', 'Supplier_Package_comp_VSSOP',\n",
      "       'Supplier_Package_comp_WSON EP', 'Supplier_Package_comp_uMAX'],\n",
      "      dtype='object')\n"
     ]
    }
   ],
   "source": [
    "# check the data\n",
    "print(new_df.columns)"
   ]
  },
  {
   "cell_type": "code",
   "execution_count": 8,
   "metadata": {},
   "outputs": [],
   "source": [
    "# reorganize the columns\n",
    "\n",
    "new_df = new_df[['Maximum Input Offset Voltage', 'Maximum Single Supply Voltage',\n",
    "       'Minimum Single Supply Voltage', 'Number of Channels per Chip',\n",
    "       'Typical Gain Bandwidth Product', 'Supplier_Package_DFN', 'Supplier_Package_DFN EP',\n",
    "       'Supplier_Package_MSOP', 'Supplier_Package_Mini-SO',\n",
    "       'Supplier_Package_SC-70', 'Supplier_Package_SO',\n",
    "       'Supplier_Package_SO EP', 'Supplier_Package_SO N',\n",
    "       'Supplier_Package_SO W', 'Supplier_Package_SOIC',\n",
    "       'Supplier_Package_SOP-J', 'Supplier_Package_SOT-23',\n",
    "       'Supplier_Package_TSSOP', \n",
    "       'Maximum Input Offset Voltage_comp',\n",
    "       'Maximum Single Supply Voltage_comp',\n",
    "       'Minimum Single Supply Voltage_comp',\n",
    "       'Number of Channels per Chip_comp',\n",
    "       'Typical Gain Bandwidth Product_comp',\n",
    "       'Supplier_Package_comp_CDIP',\n",
    "       'Supplier_Package_comp_DFN EP', 'Supplier_Package_comp_DFN-U1 EP',\n",
    "       'Supplier_Package_comp_DSBGA', 'Supplier_Package_comp_EMP',\n",
    "       'Supplier_Package_comp_ESON', 'Supplier_Package_comp_ESON-U1',\n",
    "       'Supplier_Package_comp_FLP', 'Supplier_Package_comp_HSOIC EP',\n",
    "       'Supplier_Package_comp_HTSSOP EP', 'Supplier_Package_comp_HVSSOP EP',\n",
    "       'Supplier_Package_comp_LFCSP EP', 'Supplier_Package_comp_MFP',\n",
    "       'Supplier_Package_comp_MSOP', 'Supplier_Package_comp_MSOP EP',\n",
    "       'Supplier_Package_comp_Micro', 'Supplier_Package_comp_Mini-SO',\n",
    "       'Supplier_Package_comp_PSOP', 'Supplier_Package_comp_SC-70',\n",
    "       'Supplier_Package_comp_SC-74A', 'Supplier_Package_comp_SC-88A',\n",
    "       'Supplier_Package_comp_SNT-A', 'Supplier_Package_comp_SO',\n",
    "       'Supplier_Package_comp_SO N', 'Supplier_Package_comp_SOIC',\n",
    "       'Supplier_Package_comp_SOIC N', 'Supplier_Package_comp_SOIC N EP',\n",
    "       'Supplier_Package_comp_SOIC W', 'Supplier_Package_comp_SOP',\n",
    "       'Supplier_Package_comp_SOP EP', 'Supplier_Package_comp_SOP-J',\n",
    "       'Supplier_Package_comp_SOT-23', 'Supplier_Package_comp_SOT-25',\n",
    "       'Supplier_Package_comp_SOT-353', 'Supplier_Package_comp_SSOP',\n",
    "       'Supplier_Package_comp_SSOP-B', 'Supplier_Package_comp_TDFN EP',\n",
    "       'Supplier_Package_comp_TMSOP', 'Supplier_Package_comp_TSOP',\n",
    "       'Supplier_Package_comp_TSOT', 'Supplier_Package_comp_TSOT-23',\n",
    "       'Supplier_Package_comp_TSSOP', 'Supplier_Package_comp_TSSOP EP',\n",
    "       'Supplier_Package_comp_TSSOP W', 'Supplier_Package_comp_TSSOP-B',\n",
    "       'Supplier_Package_comp_TSSOP-BJ', 'Supplier_Package_comp_TVSP',\n",
    "       'Supplier_Package_comp_UDFN EP', 'Supplier_Package_comp_VSON EP',\n",
    "       'Supplier_Package_comp_VSP', 'Supplier_Package_comp_VSSOP',\n",
    "       'Supplier_Package_comp_WSON EP', 'Supplier_Package_comp_uMAX',\n",
    "       'Closeness']]"
   ]
  },
  {
   "cell_type": "code",
   "execution_count": 9,
   "metadata": {},
   "outputs": [
    {
     "name": "stdout",
     "output_type": "stream",
     "text": [
      "Index(['Maximum Input Offset Voltage', 'Maximum Single Supply Voltage',\n",
      "       'Minimum Single Supply Voltage', 'Number of Channels per Chip',\n",
      "       'Typical Gain Bandwidth Product', 'Supplier_Package_DFN',\n",
      "       'Supplier_Package_DFN EP', 'Supplier_Package_MSOP',\n",
      "       'Supplier_Package_Mini-SO', 'Supplier_Package_SC-70',\n",
      "       'Supplier_Package_SO', 'Supplier_Package_SO EP',\n",
      "       'Supplier_Package_SO N', 'Supplier_Package_SO W',\n",
      "       'Supplier_Package_SOIC', 'Supplier_Package_SOP-J',\n",
      "       'Supplier_Package_SOT-23', 'Supplier_Package_TSSOP',\n",
      "       'Maximum Input Offset Voltage_comp',\n",
      "       'Maximum Single Supply Voltage_comp',\n",
      "       'Minimum Single Supply Voltage_comp',\n",
      "       'Number of Channels per Chip_comp',\n",
      "       'Typical Gain Bandwidth Product_comp', 'Supplier_Package_comp_CDIP',\n",
      "       'Supplier_Package_comp_DFN EP', 'Supplier_Package_comp_DFN-U1 EP',\n",
      "       'Supplier_Package_comp_DSBGA', 'Supplier_Package_comp_EMP',\n",
      "       'Supplier_Package_comp_ESON', 'Supplier_Package_comp_ESON-U1',\n",
      "       'Supplier_Package_comp_FLP', 'Supplier_Package_comp_HSOIC EP',\n",
      "       'Supplier_Package_comp_HTSSOP EP', 'Supplier_Package_comp_HVSSOP EP',\n",
      "       'Supplier_Package_comp_LFCSP EP', 'Supplier_Package_comp_MFP',\n",
      "       'Supplier_Package_comp_MSOP', 'Supplier_Package_comp_MSOP EP',\n",
      "       'Supplier_Package_comp_Micro', 'Supplier_Package_comp_Mini-SO',\n",
      "       'Supplier_Package_comp_PSOP', 'Supplier_Package_comp_SC-70',\n",
      "       'Supplier_Package_comp_SC-74A', 'Supplier_Package_comp_SC-88A',\n",
      "       'Supplier_Package_comp_SNT-A', 'Supplier_Package_comp_SO',\n",
      "       'Supplier_Package_comp_SO N', 'Supplier_Package_comp_SOIC',\n",
      "       'Supplier_Package_comp_SOIC N', 'Supplier_Package_comp_SOIC N EP',\n",
      "       'Supplier_Package_comp_SOIC W', 'Supplier_Package_comp_SOP',\n",
      "       'Supplier_Package_comp_SOP EP', 'Supplier_Package_comp_SOP-J',\n",
      "       'Supplier_Package_comp_SOT-23', 'Supplier_Package_comp_SOT-25',\n",
      "       'Supplier_Package_comp_SOT-353', 'Supplier_Package_comp_SSOP',\n",
      "       'Supplier_Package_comp_SSOP-B', 'Supplier_Package_comp_TDFN EP',\n",
      "       'Supplier_Package_comp_TMSOP', 'Supplier_Package_comp_TSOP',\n",
      "       'Supplier_Package_comp_TSOT', 'Supplier_Package_comp_TSOT-23',\n",
      "       'Supplier_Package_comp_TSSOP', 'Supplier_Package_comp_TSSOP EP',\n",
      "       'Supplier_Package_comp_TSSOP W', 'Supplier_Package_comp_TSSOP-B',\n",
      "       'Supplier_Package_comp_TSSOP-BJ', 'Supplier_Package_comp_TVSP',\n",
      "       'Supplier_Package_comp_UDFN EP', 'Supplier_Package_comp_VSON EP',\n",
      "       'Supplier_Package_comp_VSP', 'Supplier_Package_comp_VSSOP',\n",
      "       'Supplier_Package_comp_WSON EP', 'Supplier_Package_comp_uMAX',\n",
      "       'Closeness'],\n",
      "      dtype='object')\n"
     ]
    }
   ],
   "source": [
    "print(new_df.columns)"
   ]
  },
  {
   "cell_type": "code",
   "execution_count": 10,
   "metadata": {},
   "outputs": [],
   "source": [
    "new_df = new_df.values"
   ]
  },
  {
   "cell_type": "markdown",
   "metadata": {},
   "source": [
    "# Dataloader"
   ]
  },
  {
   "cell_type": "code",
   "execution_count": 11,
   "metadata": {},
   "outputs": [],
   "source": [
    "class PIEDataset(Dataset):\n",
    "    '''\n",
    "    x: Features.\n",
    "    y: Targets.\n",
    "    '''\n",
    "    def __init__(self, x, y=None):\n",
    "        self.y = torch.FloatTensor(y)\n",
    "        self.x = torch.FloatTensor(x)\n",
    "\n",
    "    def __getitem__(self, idx):\n",
    "        return self.x[idx], self.y[idx]\n",
    "\n",
    "    def __len__(self):\n",
    "        return len(self.x)"
   ]
  },
  {
   "cell_type": "code",
   "execution_count": 12,
   "metadata": {},
   "outputs": [],
   "source": [
    "def train_valid_split(data_set, valid_ratio, seed):\n",
    "    '''Split provided training data into training set and validation set'''\n",
    "    valid_set_size = int(valid_ratio * len(data_set))\n",
    "    train_set_size = len(data_set) - valid_set_size\n",
    "    train_set, valid_set = random_split(data_set, [train_set_size, valid_set_size], generator=torch.Generator().manual_seed(seed))\n",
    "    return np.array(train_set), np.array(valid_set)"
   ]
  },
  {
   "cell_type": "code",
   "execution_count": 13,
   "metadata": {},
   "outputs": [
    {
     "name": "stdout",
     "output_type": "stream",
     "text": [
      "train_data size: (48000, 77)\n",
      "valid_data size: (6000, 77)\n",
      "test_data size: (6000, 77)\n"
     ]
    }
   ],
   "source": [
    "train_data, valid_data_all = train_valid_split(new_df, config['valid_ratio'], config['seed'])\n",
    "valid_data, test_data = train_valid_split(valid_data_all, config['test_ratio'], config['seed'])\n",
    "\n",
    "# Print out the data size.\n",
    "print(f\"\"\"train_data size: {train_data.shape}\n",
    "valid_data size: {valid_data.shape}\n",
    "test_data size: {test_data.shape}\"\"\")\n",
    "\n",
    "y_train, y_valid, y_test = train_data[:,-1], valid_data[:,-1], test_data[:,-1] # label\n",
    "x_train, x_valid, x_test = train_data[:,:-1], valid_data[:,:-1], test_data[:,:-1] # features\n",
    "\n",
    "x_train = torch.FloatTensor(x_train.astype(np.float32))\n",
    "x_valid = torch.FloatTensor(x_valid.astype(np.float32))\n",
    "x_test = torch.FloatTensor(x_test.astype(np.float32))\n",
    "y_train = torch.FloatTensor(y_train.astype(np.float32))\n",
    "y_valid = torch.FloatTensor(y_valid.astype(np.float32))\n",
    "y_test = torch.FloatTensor(y_test.astype(np.float32))\n",
    "\n",
    "train_dataset, valid_dataset, test_dataset = PIEDataset(x_train, y_train), PIEDataset(x_valid, y_valid), PIEDataset(x_test, y_test)\n",
    "\n",
    "# Pytorch data loader loads pytorch dataset into batches.\n",
    "train_loader = DataLoader(train_dataset, batch_size=config['batch_size'], shuffle=True, pin_memory=True)\n",
    "valid_loader = DataLoader(valid_dataset, batch_size=config['batch_size'], shuffle=True, pin_memory=True)\n",
    "test_loader = DataLoader(test_dataset, batch_size=config['batch_size'], shuffle=False, pin_memory=True)"
   ]
  },
  {
   "cell_type": "markdown",
   "metadata": {},
   "source": [
    "# Deep Learning Model"
   ]
  },
  {
   "cell_type": "markdown",
   "metadata": {},
   "source": [
    "This deep learning model is an example I built and contains only linear layers, just for testing."
   ]
  },
  {
   "cell_type": "code",
   "execution_count": 42,
   "metadata": {},
   "outputs": [],
   "source": [
    "class My_Model(nn.Module):\n",
    "    def __init__(self, input_dim):\n",
    "        super(My_Model, self).__init__()\n",
    "        self.layers = nn.Sequential(\n",
    "\n",
    "            nn.Linear(input_dim, 64),\n",
    "            nn.BatchNorm1d(64),\n",
    "            nn.ReLU(),\n",
    "            nn.Dropout(0.1),\n",
    "\n",
    "            nn.Linear(64, 32),\n",
    "            nn.BatchNorm1d(32),\n",
    "            nn.ReLU(),\n",
    "            nn.Dropout(0.1),\n",
    "\n",
    "            nn.Linear(32, 16),\n",
    "            nn.BatchNorm1d(16),\n",
    "            nn.ReLU(),\n",
    "            nn.Dropout(0.1),\n",
    "\n",
    "            nn.Linear(16, 8),\n",
    "            nn.BatchNorm1d(8),\n",
    "            nn.ReLU(),\n",
    "\n",
    "            nn.Linear(8, 1)\n",
    "        )\n",
    "\n",
    "    def forward(self, x):\n",
    "        x = self.layers(x)\n",
    "        x = x.squeeze(1) # (B, 1) -> (B)\n",
    "        return x"
   ]
  },
  {
   "cell_type": "markdown",
   "metadata": {},
   "source": [
    "Training Loop"
   ]
  },
  {
   "cell_type": "code",
   "execution_count": null,
   "metadata": {},
   "outputs": [],
   "source": [
    "def trainer(train_loader, valid_loader, model, config, device):\n",
    "\n",
    "    criterion = nn.MSELoss(reduction='mean') \n",
    "\n",
    "    # optimizer = torch.optim.SGD(model.parameters(), lr=config['learning_rate'], momentum=0.9)\n",
    "    # optimizer = torch.optim.Adam(model.parameters(), lr=config['learning_rate'], weight_decay=0.01)\n",
    "    optimizer = torch.optim.AdamW(model.parameters(), lr=config['learning_rate'], weight_decay=0.005)\n",
    "    # optimizer = torch.optim.SGD(model.parameters(), lr=config['learning_rate'], momentum=0.9, nesterov=True, weight_decay=0.01)\n",
    "\n",
    "    writer = SummaryWriter() # Writer of tensoboard.\n",
    "\n",
    "    if not os.path.isdir('./models'):\n",
    "        os.mkdir('./models') # Create directory of saving models.\n",
    "\n",
    "    n_epochs, best_loss, step, early_stop_count = config['n_epochs'], math.inf, 0, 0\n",
    "\n",
    "    for epoch in range(n_epochs):\n",
    "        model.train() # Set the model to train mode.\n",
    "        loss_record = []\n",
    "\n",
    "        # tqdm is a package to visualize the training progress.\n",
    "        train_pbar = tqdm(train_loader, position=0, leave=True)\n",
    "\n",
    "        for x, y in train_pbar:\n",
    "            optimizer.zero_grad()               # Set gradient to zero.\n",
    "            x, y = x.to(device), y.to(device)   # Move data to device.\n",
    "            pred = model(x)\n",
    "            loss = criterion(pred, y)\n",
    "            loss.backward()                     # Compute gradient(backpropagation).\n",
    "            optimizer.step()                    # Update parameters.\n",
    "            step += 1\n",
    "            loss_record.append(loss.detach().item())\n",
    "\n",
    "            # Display current epoch number and loss on tqdm progress bar.\n",
    "            train_pbar.set_description(f'Epoch [{epoch+1}/{n_epochs}]')\n",
    "            train_pbar.set_postfix({'loss': loss.detach().item()})\n",
    "\n",
    "        mean_train_loss = sum(loss_record)/len(loss_record)\n",
    "        writer.add_scalar('Loss/train', mean_train_loss, step)\n",
    "\n",
    "        model.eval() # Set the model to evaluation mode.\n",
    "        loss_record = []\n",
    "        for x, y in valid_loader:\n",
    "            x, y = x.to(device), y.to(device)\n",
    "            with torch.no_grad():\n",
    "                pred = model(x)\n",
    "                loss = criterion(pred, y)\n",
    "\n",
    "            loss_record.append(loss.item())\n",
    "\n",
    "        mean_valid_loss = sum(loss_record)/len(loss_record)\n",
    "        print(f'Epoch [{epoch+1}/{n_epochs}]: Train loss: {mean_train_loss:.4f}, Valid loss: {mean_valid_loss:.4f}')\n",
    "        writer.add_scalar('Loss/valid', mean_valid_loss, step)\n",
    "\n",
    "        if mean_valid_loss < best_loss:\n",
    "            best_loss = mean_valid_loss\n",
    "            torch.save(model.state_dict(), config['save_path']) # Save the best model\n",
    "            print('Saving model with loss {:.3f}...'.format(best_loss))\n",
    "            early_stop_count = 0\n",
    "        else:\n",
    "            early_stop_count += 1\n",
    "\n",
    "        if early_stop_count >= config['early_stop']:\n",
    "            print('\\nModel is not improving, so we halt the training session.')\n",
    "            return"
   ]
  },
  {
   "cell_type": "code",
   "execution_count": 43,
   "metadata": {},
   "outputs": [
    {
     "name": "stderr",
     "output_type": "stream",
     "text": [
      "Epoch [1/100]: 100%|██████████| 1500/1500 [00:07<00:00, 213.60it/s, loss=0.543]\n"
     ]
    },
    {
     "name": "stdout",
     "output_type": "stream",
     "text": [
      "Epoch [1/100]: Train loss: 0.6038, Valid loss: 0.4805\n",
      "Saving model with loss 0.481...\n"
     ]
    },
    {
     "name": "stderr",
     "output_type": "stream",
     "text": [
      "Epoch [2/100]: 100%|██████████| 1500/1500 [00:07<00:00, 196.66it/s, loss=0.39] \n"
     ]
    },
    {
     "name": "stdout",
     "output_type": "stream",
     "text": [
      "Epoch [2/100]: Train loss: 0.4599, Valid loss: 0.4176\n",
      "Saving model with loss 0.418...\n"
     ]
    },
    {
     "name": "stderr",
     "output_type": "stream",
     "text": [
      "Epoch [3/100]: 100%|██████████| 1500/1500 [00:07<00:00, 197.82it/s, loss=0.355]\n"
     ]
    },
    {
     "name": "stdout",
     "output_type": "stream",
     "text": [
      "Epoch [3/100]: Train loss: 0.3496, Valid loss: 0.2984\n",
      "Saving model with loss 0.298...\n"
     ]
    },
    {
     "name": "stderr",
     "output_type": "stream",
     "text": [
      "Epoch [4/100]: 100%|██████████| 1500/1500 [00:07<00:00, 190.03it/s, loss=0.223]\n"
     ]
    },
    {
     "name": "stdout",
     "output_type": "stream",
     "text": [
      "Epoch [4/100]: Train loss: 0.2575, Valid loss: 0.2881\n",
      "Saving model with loss 0.288...\n"
     ]
    },
    {
     "name": "stderr",
     "output_type": "stream",
     "text": [
      "Epoch [5/100]: 100%|██████████| 1500/1500 [00:07<00:00, 188.56it/s, loss=0.16]  \n"
     ]
    },
    {
     "name": "stdout",
     "output_type": "stream",
     "text": [
      "Epoch [5/100]: Train loss: 0.1856, Valid loss: 0.1611\n",
      "Saving model with loss 0.161...\n"
     ]
    },
    {
     "name": "stderr",
     "output_type": "stream",
     "text": [
      "Epoch [6/100]: 100%|██████████| 1500/1500 [00:07<00:00, 206.89it/s, loss=0.124] \n"
     ]
    },
    {
     "name": "stdout",
     "output_type": "stream",
     "text": [
      "Epoch [6/100]: Train loss: 0.1320, Valid loss: 0.1256\n",
      "Saving model with loss 0.126...\n"
     ]
    },
    {
     "name": "stderr",
     "output_type": "stream",
     "text": [
      "Epoch [7/100]: 100%|██████████| 1500/1500 [00:07<00:00, 214.09it/s, loss=0.0425]\n"
     ]
    },
    {
     "name": "stdout",
     "output_type": "stream",
     "text": [
      "Epoch [7/100]: Train loss: 0.0908, Valid loss: 0.0753\n",
      "Saving model with loss 0.075...\n"
     ]
    },
    {
     "name": "stderr",
     "output_type": "stream",
     "text": [
      "Epoch [8/100]: 100%|██████████| 1500/1500 [00:08<00:00, 178.38it/s, loss=0.0655]\n"
     ]
    },
    {
     "name": "stdout",
     "output_type": "stream",
     "text": [
      "Epoch [8/100]: Train loss: 0.0622, Valid loss: 0.0440\n",
      "Saving model with loss 0.044...\n"
     ]
    },
    {
     "name": "stderr",
     "output_type": "stream",
     "text": [
      "Epoch [9/100]: 100%|██████████| 1500/1500 [00:09<00:00, 151.31it/s, loss=0.0403]\n"
     ]
    },
    {
     "name": "stdout",
     "output_type": "stream",
     "text": [
      "Epoch [9/100]: Train loss: 0.0445, Valid loss: 0.0265\n",
      "Saving model with loss 0.027...\n"
     ]
    },
    {
     "name": "stderr",
     "output_type": "stream",
     "text": [
      "Epoch [10/100]: 100%|██████████| 1500/1500 [00:09<00:00, 162.11it/s, loss=0.0489] \n"
     ]
    },
    {
     "name": "stdout",
     "output_type": "stream",
     "text": [
      "Epoch [10/100]: Train loss: 0.0327, Valid loss: 0.0160\n",
      "Saving model with loss 0.016...\n"
     ]
    },
    {
     "name": "stderr",
     "output_type": "stream",
     "text": [
      "Epoch [11/100]: 100%|██████████| 1500/1500 [00:11<00:00, 135.87it/s, loss=0.0208] \n"
     ]
    },
    {
     "name": "stdout",
     "output_type": "stream",
     "text": [
      "Epoch [11/100]: Train loss: 0.0262, Valid loss: 0.0139\n",
      "Saving model with loss 0.014...\n"
     ]
    },
    {
     "name": "stderr",
     "output_type": "stream",
     "text": [
      "Epoch [12/100]: 100%|██████████| 1500/1500 [00:09<00:00, 160.15it/s, loss=0.0192] \n"
     ]
    },
    {
     "name": "stdout",
     "output_type": "stream",
     "text": [
      "Epoch [12/100]: Train loss: 0.0222, Valid loss: 0.0091\n",
      "Saving model with loss 0.009...\n"
     ]
    },
    {
     "name": "stderr",
     "output_type": "stream",
     "text": [
      "Epoch [13/100]: 100%|██████████| 1500/1500 [00:08<00:00, 169.88it/s, loss=0.0239] \n"
     ]
    },
    {
     "name": "stdout",
     "output_type": "stream",
     "text": [
      "Epoch [13/100]: Train loss: 0.0195, Valid loss: 0.0087\n",
      "Saving model with loss 0.009...\n"
     ]
    },
    {
     "name": "stderr",
     "output_type": "stream",
     "text": [
      "Epoch [14/100]: 100%|██████████| 1500/1500 [00:08<00:00, 173.15it/s, loss=0.0156] \n"
     ]
    },
    {
     "name": "stdout",
     "output_type": "stream",
     "text": [
      "Epoch [14/100]: Train loss: 0.0173, Valid loss: 0.0070\n",
      "Saving model with loss 0.007...\n"
     ]
    },
    {
     "name": "stderr",
     "output_type": "stream",
     "text": [
      "Epoch [15/100]: 100%|██████████| 1500/1500 [00:08<00:00, 169.34it/s, loss=0.0142] \n"
     ]
    },
    {
     "name": "stdout",
     "output_type": "stream",
     "text": [
      "Epoch [15/100]: Train loss: 0.0157, Valid loss: 0.0083\n"
     ]
    },
    {
     "name": "stderr",
     "output_type": "stream",
     "text": [
      "Epoch [16/100]: 100%|██████████| 1500/1500 [00:08<00:00, 167.98it/s, loss=0.013]  \n"
     ]
    },
    {
     "name": "stdout",
     "output_type": "stream",
     "text": [
      "Epoch [16/100]: Train loss: 0.0144, Valid loss: 0.0069\n",
      "Saving model with loss 0.007...\n"
     ]
    },
    {
     "name": "stderr",
     "output_type": "stream",
     "text": [
      "Epoch [17/100]: 100%|██████████| 1500/1500 [00:08<00:00, 166.71it/s, loss=0.0163] \n"
     ]
    },
    {
     "name": "stdout",
     "output_type": "stream",
     "text": [
      "Epoch [17/100]: Train loss: 0.0136, Valid loss: 0.0066\n",
      "Saving model with loss 0.007...\n"
     ]
    },
    {
     "name": "stderr",
     "output_type": "stream",
     "text": [
      "Epoch [18/100]: 100%|██████████| 1500/1500 [00:09<00:00, 163.08it/s, loss=0.0303] \n"
     ]
    },
    {
     "name": "stdout",
     "output_type": "stream",
     "text": [
      "Epoch [18/100]: Train loss: 0.0130, Valid loss: 0.0062\n",
      "Saving model with loss 0.006...\n"
     ]
    },
    {
     "name": "stderr",
     "output_type": "stream",
     "text": [
      "Epoch [19/100]: 100%|██████████| 1500/1500 [00:09<00:00, 156.75it/s, loss=0.0116] \n"
     ]
    },
    {
     "name": "stdout",
     "output_type": "stream",
     "text": [
      "Epoch [19/100]: Train loss: 0.0122, Valid loss: 0.0069\n"
     ]
    },
    {
     "name": "stderr",
     "output_type": "stream",
     "text": [
      "Epoch [20/100]: 100%|██████████| 1500/1500 [00:09<00:00, 160.01it/s, loss=0.00699]\n"
     ]
    },
    {
     "name": "stdout",
     "output_type": "stream",
     "text": [
      "Epoch [20/100]: Train loss: 0.0119, Valid loss: 0.0070\n"
     ]
    },
    {
     "name": "stderr",
     "output_type": "stream",
     "text": [
      "Epoch [21/100]: 100%|██████████| 1500/1500 [00:09<00:00, 158.03it/s, loss=0.00553]\n"
     ]
    },
    {
     "name": "stdout",
     "output_type": "stream",
     "text": [
      "Epoch [21/100]: Train loss: 0.0112, Valid loss: 0.0064\n"
     ]
    },
    {
     "name": "stderr",
     "output_type": "stream",
     "text": [
      "Epoch [22/100]: 100%|██████████| 1500/1500 [00:09<00:00, 161.54it/s, loss=0.00855]\n"
     ]
    },
    {
     "name": "stdout",
     "output_type": "stream",
     "text": [
      "Epoch [22/100]: Train loss: 0.0107, Valid loss: 0.0063\n"
     ]
    },
    {
     "name": "stderr",
     "output_type": "stream",
     "text": [
      "Epoch [23/100]: 100%|██████████| 1500/1500 [00:09<00:00, 154.48it/s, loss=0.0103] \n"
     ]
    },
    {
     "name": "stdout",
     "output_type": "stream",
     "text": [
      "Epoch [23/100]: Train loss: 0.0104, Valid loss: 0.0064\n"
     ]
    },
    {
     "name": "stderr",
     "output_type": "stream",
     "text": [
      "Epoch [24/100]: 100%|██████████| 1500/1500 [00:09<00:00, 150.87it/s, loss=0.00847]\n"
     ]
    },
    {
     "name": "stdout",
     "output_type": "stream",
     "text": [
      "Epoch [24/100]: Train loss: 0.0102, Valid loss: 0.0064\n"
     ]
    },
    {
     "name": "stderr",
     "output_type": "stream",
     "text": [
      "Epoch [25/100]: 100%|██████████| 1500/1500 [00:09<00:00, 153.59it/s, loss=0.0133] \n"
     ]
    },
    {
     "name": "stdout",
     "output_type": "stream",
     "text": [
      "Epoch [25/100]: Train loss: 0.0099, Valid loss: 0.0063\n"
     ]
    },
    {
     "name": "stderr",
     "output_type": "stream",
     "text": [
      "Epoch [26/100]: 100%|██████████| 1500/1500 [00:09<00:00, 166.21it/s, loss=0.00977]\n"
     ]
    },
    {
     "name": "stdout",
     "output_type": "stream",
     "text": [
      "Epoch [26/100]: Train loss: 0.0097, Valid loss: 0.0066\n"
     ]
    },
    {
     "name": "stderr",
     "output_type": "stream",
     "text": [
      "Epoch [27/100]: 100%|██████████| 1500/1500 [00:07<00:00, 210.28it/s, loss=0.00819]\n"
     ]
    },
    {
     "name": "stdout",
     "output_type": "stream",
     "text": [
      "Epoch [27/100]: Train loss: 0.0096, Valid loss: 0.0066\n"
     ]
    },
    {
     "name": "stderr",
     "output_type": "stream",
     "text": [
      "Epoch [28/100]: 100%|██████████| 1500/1500 [00:07<00:00, 208.49it/s, loss=0.00994]\n"
     ]
    },
    {
     "name": "stdout",
     "output_type": "stream",
     "text": [
      "Epoch [28/100]: Train loss: 0.0093, Valid loss: 0.0066\n",
      "\n",
      "Model is not improving, so we halt the training session.\n"
     ]
    }
   ],
   "source": [
    "model = My_Model(input_dim=x_train.shape[1]).to(device)\n",
    "trainer(train_loader, valid_loader, model, config, device)"
   ]
  },
  {
   "cell_type": "code",
   "execution_count": 44,
   "metadata": {},
   "outputs": [
    {
     "data": {
      "text/plain": [
       "Reusing TensorBoard on port 6007 (pid 15412), started 1:10:38 ago. (Use '!kill 15412' to kill it.)"
      ]
     },
     "metadata": {},
     "output_type": "display_data"
    },
    {
     "data": {
      "text/html": [
       "\n",
       "      <iframe id=\"tensorboard-frame-934640c1d7a21eb\" width=\"100%\" height=\"800\" frameborder=\"0\">\n",
       "      </iframe>\n",
       "      <script>\n",
       "        (function() {\n",
       "          const frame = document.getElementById(\"tensorboard-frame-934640c1d7a21eb\");\n",
       "          const url = new URL(\"http://localhost\");\n",
       "          const port = 6007;\n",
       "          if (port) {\n",
       "            url.port = port;\n",
       "          }\n",
       "          frame.src = url;\n",
       "        })();\n",
       "      </script>\n",
       "    "
      ],
      "text/plain": [
       "<IPython.core.display.HTML object>"
      ]
     },
     "metadata": {},
     "output_type": "display_data"
    }
   ],
   "source": [
    "%reload_ext tensorboard\n",
    "%tensorboard --logdir=./runs/"
   ]
  },
  {
   "cell_type": "markdown",
   "metadata": {},
   "source": [
    "Testing"
   ]
  },
  {
   "cell_type": "code",
   "execution_count": 45,
   "metadata": {},
   "outputs": [
    {
     "name": "stdout",
     "output_type": "stream",
     "text": [
      "Test loss: 0.0064\n"
     ]
    }
   ],
   "source": [
    "model.eval()\n",
    "criterion = nn.MSELoss(reduction='mean')\n",
    "loss_record = []\n",
    "\n",
    "for x, y in test_loader:\n",
    "  x, y = x.to(device), y.to(device)\n",
    "  with torch.no_grad():\n",
    "    pred = model(x)\n",
    "    loss = criterion(pred, y)\n",
    "\n",
    "  loss_record.append(loss.item())\n",
    "\n",
    "mean_test_loss = sum(loss_record)/len(loss_record)\n",
    "print(f'Test loss: {mean_test_loss:.4f}')"
   ]
  },
  {
   "cell_type": "markdown",
   "metadata": {},
   "source": [
    "Is this performance good or bad? Considering the unclear evaluation criteria, I think more information is needed."
   ]
  },
  {
   "cell_type": "markdown",
   "metadata": {},
   "source": [
    "# Random Forest"
   ]
  },
  {
   "cell_type": "code",
   "execution_count": 14,
   "metadata": {},
   "outputs": [
    {
     "name": "stdout",
     "output_type": "stream",
     "text": [
      "MSE: 0.0005366648237340567\n",
      "R²: 0.9462159001061905\n"
     ]
    }
   ],
   "source": [
    "# sklearn\n",
    "from sklearn.ensemble import RandomForestRegressor\n",
    "from sklearn.metrics import mean_squared_error, r2_score\n",
    "\n",
    "# Random Forest Regression Model\n",
    "rf_regressor = RandomForestRegressor(n_estimators=100, random_state=42)\n",
    "\n",
    "# Training\n",
    "rf_regressor.fit(x_train, y_train)\n",
    "\n",
    "# Testing\n",
    "y_pred = rf_regressor.predict(x_test)\n",
    "\n",
    "# Evaluation\n",
    "mse = mean_squared_error(y_test, y_pred)\n",
    "r2 = r2_score(y_test, y_pred)\n",
    "print(\"MSE:\", mse)\n",
    "print(\"R²:\", r2)"
   ]
  },
  {
   "cell_type": "markdown",
   "metadata": {},
   "source": [
    "# Gradient Boosting Regressor"
   ]
  },
  {
   "cell_type": "code",
   "execution_count": 29,
   "metadata": {},
   "outputs": [
    {
     "name": "stdout",
     "output_type": "stream",
     "text": [
      "Best MSE: 0.0012307617629988524\n",
      "Best R²: 0.8766540852332547\n"
     ]
    }
   ],
   "source": [
    "# sklearn\n",
    "from sklearn.ensemble import GradientBoostingRegressor\n",
    "from sklearn.model_selection import GridSearchCV\n",
    "\n",
    "# Hyperparameters\n",
    "param_grid = {\n",
    "    'n_estimators': [100, 200],\n",
    "    'learning_rate': [0.01, 0.1],\n",
    "}\n",
    "\n",
    "# GridSearchCV\n",
    "grid_search = GridSearchCV(estimator=GradientBoostingRegressor(random_state=42),\n",
    "                           param_grid=param_grid,\n",
    "                           cv=5,\n",
    "                           scoring='neg_mean_squared_error')\n",
    "\n",
    "# Training\n",
    "grid_search.fit(x_train, y_train)\n",
    "\n",
    "# Best model\n",
    "best_gbr = grid_search.best_estimator_\n",
    "\n",
    "# Testing\n",
    "y_pred = best_gbr.predict(x_test)\n",
    "\n",
    "# Evaluation\n",
    "mse = mean_squared_error(y_test, y_pred)\n",
    "r2 = r2_score(y_test, y_pred)\n",
    "print(\"Best MSE:\", mse)\n",
    "print(\"Best R²:\", r2)"
   ]
  },
  {
   "cell_type": "markdown",
   "metadata": {},
   "source": [
    "# Support Vector Regression"
   ]
  },
  {
   "cell_type": "code",
   "execution_count": null,
   "metadata": {},
   "outputs": [],
   "source": [
    "# sklearn\n",
    "from sklearn.svm import SVR\n",
    "from sklearn.model_selection import GridSearchCV\n",
    "\n",
    "# Hyperparameters\n",
    "param_grid = {\n",
    "    'C': [0.1, 1],  # Regularization parameter (the complexity of the model)\n",
    "    'epsilon': [0.01, 0.1],\n",
    "    'kernel': ['linear','poly']  # Kernel function\n",
    "}\n",
    "\n",
    "# GridSearchCV\n",
    "grid_search = GridSearchCV(estimator=SVR(), param_grid=param_grid, cv=5, scoring='neg_mean_squared_error')\n",
    "\n",
    "# Training\n",
    "grid_search.fit(x_train, y_train)\n",
    "\n",
    "# Best model\n",
    "best_svr = grid_search.best_estimator_\n",
    "\n",
    "# Testing\n",
    "y_pred = best_svr.predict(x_test)\n",
    "\n",
    "# Evaluation\n",
    "mse = mean_squared_error(y_test, y_pred)\n",
    "r2 = r2_score(y_test, y_pred)\n",
    "print(\"Best MSE:\", mse)\n",
    "print(\"Best R²:\", r2) "
   ]
  }
 ],
 "metadata": {
  "kernelspec": {
   "display_name": "myenv",
   "language": "python",
   "name": "python3"
  },
  "language_info": {
   "codemirror_mode": {
    "name": "ipython",
    "version": 3
   },
   "file_extension": ".py",
   "mimetype": "text/x-python",
   "name": "python",
   "nbconvert_exporter": "python",
   "pygments_lexer": "ipython3",
   "version": "3.10.15"
  }
 },
 "nbformat": 4,
 "nbformat_minor": 2
}
